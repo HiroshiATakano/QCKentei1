{
 "cells": [
  {
   "cell_type": "markdown",
   "metadata": {},
   "source": [
    "# Actividades prácticas relacionadas con el control de calidad\n",
    "\n",
    "Para que la gestión de la calidad funcione de manera efectiva en una organización, es necesario llevar a cabo actividades en toda la cadena de valor, incluyendo no solo el diseó y la producción, sino tamibién la planificación, las ventas y el servicio postventa."
   ]
  },
  {
   "cell_type": "markdown",
   "metadata": {},
   "source": [
    "## 17-01 Actividades prácticas relacionadas con el control de calidad\n",
    "\n",
    "### 1. Marketing\n",
    "* Marketing masivo\n",
    "* Marketing basado en bases de datos\n",
    "* Marketing uno a uno\n",
    "\n",
    "### 2. Gestión de relaciones con clientes\n",
    "* CRM\n",
    "* IT\n",
    "* SNS\n",
    "* Big data\n",
    "\n",
    "### 3. Minería de datos, Minería de textos\n",
    "* Aprendizaje profundo\n",
    "* Aprendizaje automático\n",
    "* Minería de textos"
   ]
  },
  {
   "cell_type": "code",
   "execution_count": 1,
   "metadata": {},
   "outputs": [
    {
     "name": "stdout",
     "output_type": "stream",
     "text": [
      "[NbConvertApp] Converting notebook QCKentei1-17.ipynb to html\n",
      "[NbConvertApp] Writing 576732 bytes to QCKentei1-17.html\n"
     ]
    }
   ],
   "source": [
    "notebook_name = 'QCKentei1-17.ipynb'\n",
    "notebook_name_html = notebook_name.replace(\".ipynb\",\".html\")\n",
    "\n",
    "!jupyter nbconvert --to html {notebook_name}"
   ]
  }
 ],
 "metadata": {
  "kernelspec": {
   "display_name": "3.10.5",
   "language": "python",
   "name": "python3"
  },
  "language_info": {
   "codemirror_mode": {
    "name": "ipython",
    "version": 3
   },
   "file_extension": ".py",
   "mimetype": "text/x-python",
   "name": "python",
   "nbconvert_exporter": "python",
   "pygments_lexer": "ipython3",
   "version": "3.10.5"
  }
 },
 "nbformat": 4,
 "nbformat_minor": 2
}
