{
 "cells": [
  {
   "cell_type": "markdown",
   "metadata": {},
   "source": [
    "# Actividades prácticas relacionadas con el control de calidad\n",
    "\n",
    "Para que la gestión de la calidad funcione de manera efectiva en una organización, es necesario llevar a cabo actividades en toda la cadena de valor, incluyendo no solo el diseño y la producción, sino también la planificación, las ventas y el servicio postventa.\n",
    "\n",
    "[Audio_1](https://drive.google.com/file/d/1VU6ujWU6dAVsfn4Obaz6G_HPRnYp4iuR/view?usp=drive_link)"
   ]
  },
  {
   "cell_type": "markdown",
   "metadata": {},
   "source": [
    "## 17-01 Actividades prácticas relacionadas con el control de calidad\n",
    "品質管理周辺の実践活動\n",
    "\n",
    "### 1. Marketing\n",
    "マーケティング\n",
    "\n",
    "* Marketing masivo\n",
    "* Marketing basado en bases de datos\n",
    "* Marketing uno a uno\n",
    "\n",
    "### 2. Gestión de relaciones con clientes\n",
    "顧客関係性管理\n",
    "\n",
    "* CRM\n",
    "* IT\n",
    "* SNS\n",
    "* Big data\n",
    "\n",
    "### 3. Minería de datos, Minería de textos\n",
    "データマイニングとテキストマイニング\n",
    "\n",
    "* Aprendizaje profundo\n",
    "* Aprendizaje automático\n",
    "* Minería de textos\n",
    "\n",
    "[Audio_2](https://drive.google.com/file/d/1MiDP5UbiACyAINzsBA9rIFhCB7wZe1Ai/view?usp=drive_link)"
   ]
  },
  {
   "cell_type": "markdown",
   "metadata": {},
   "source": [
    "## Por favor, responda a las preguntas del examen de práctica a través del siguiente enlace.\n",
    "\n",
    "\n",
    "[Simulacro de examen](https://forms.gle/p89uQp5RTy4zx9Sv9)"
   ]
  },
  {
   "cell_type": "code",
   "execution_count": 1,
   "metadata": {},
   "outputs": [
    {
     "name": "stdout",
     "output_type": "stream",
     "text": [
      "[NbConvertApp] Converting notebook QCKentei1-17.ipynb to html\n",
      "[NbConvertApp] Writing 578536 bytes to QCKentei1-17.html\n"
     ]
    }
   ],
   "source": [
    "notebook_name = 'QCKentei1-17.ipynb'\n",
    "notebook_name_html = notebook_name.replace(\".ipynb\",\".html\")\n",
    "\n",
    "!jupyter nbconvert --to html {notebook_name}"
   ]
  }
 ],
 "metadata": {
  "kernelspec": {
   "display_name": "3.10.5",
   "language": "python",
   "name": "python3"
  },
  "language_info": {
   "codemirror_mode": {
    "name": "ipython",
    "version": 3
   },
   "file_extension": ".py",
   "mimetype": "text/x-python",
   "name": "python",
   "nbconvert_exporter": "python",
   "pygments_lexer": "ipython3",
   "version": "3.10.5"
  }
 },
 "nbformat": 4,
 "nbformat_minor": 2
}
