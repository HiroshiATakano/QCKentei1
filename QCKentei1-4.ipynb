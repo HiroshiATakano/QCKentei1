{
 "cells": [
  {
   "cell_type": "markdown",
   "metadata": {},
   "source": [
    "# Prueba y Estimación\n",
    "\n",
    "## 04-01 Prueba y Estimación\n",
    "1. ¿Qué es una prueba?\n",
    "* Hipótesis alternativa: $ H_1 $\n",
    "* Hipótesis nula: $ H_0 $\n",
    "* Hipótesis bilateral\n",
    "* Hipótesis unilateral\n",
    "* Prueba bilateral\n",
    "* Prueba unilateral\n",
    "* Error de tipo I : Error de precipitación\n",
    "* Nivel de significancia\n",
    "* Nivel de riesgo\n",
    "* Error de tipo II : Error de omisión\n",
    "* Potencia de la prueba $ (1-\\beta) $\n",
    "\n",
    "2. Procedimiento de la prueba\n",
    "\n",
    "Paso 1: Establecimiento de la hipótesis de la prueba\n",
    "\n",
    "Paso 2: Establecimiento de la hipótesis nula $ H_0 $ y la hipótesis alternativa $ H_1 $\n",
    "\n",
    "Paso 3: Selección del estadístico de prueba\n",
    "* En la prueba de la media de una población, cuando la varianza de la población es conocida, la población sigue una distribución normal $ N(\\mu, \\sigma^2) $. La media de una muestra de tamaño $ n $ extraída de esta población sigue una distribución normal $ N(\\mu, \\sigma^2 / n) $. Al estandarizar esto $ u= \\frac{\\bar{x} - \\mu}{\\sqrt{\\sigma^2/n}}$ sigue una distribución normal estándar $ N(0, 1^2) $.\n",
    "\n",
    "Paso 4: Establecimiento del nivel de significancia\n",
    "\n",
    "Paso 5: Establecimiento de la región de rechazo\n",
    "\n",
    "Paso 6: Cálculo del estadístico de prueba\n",
    "\n",
    "Paso 7: Decisión sobre el resultado de la prueba\n",
    "* Calcula el valor de la estadística de prueba y compáralo con el valor de área de rechazo para tomar una decisión sobre la prueba. Si el valor está dentro del área de rechazo, se considera significativo; si no lo está, se considera no significativo.\n",
    "\n",
    "Paso 8: Concusión\n",
    "* Como resultado de la prueba, si es significativo, se rechaza la hipótesis nula y se acepta la hipótesis alternativa. Si no es significativo, la hipótesis nula no se rechaza.\n",
    "\n",
    "3. ¿Qué es una estimación?\n",
    "* La estimación consiste en estimar los parámetros de la población, como la media poblacional o la varianza poblacional, de una distribución de la población objetivo. Existen dos tipos de estimación: la estimación puntual, que estima el parámetro utilizando un solo estimador, y la estimación por intervalo, que estima el parámetro utilizando un intervalo. En la estimación por intervalo, el ancho del intervalo (intervalo de confianza) se determina en función de la tasa de confianza $ (1-\\alpha) $, que es la probabilidad de que el intervalo contenga el verdadero parámetro de la población. El límite superior del intervalo de confianza se llama límite superior de confianza y el límite inferior se llama límite inferior de confianza.\n",
    "\n",
    "4. Procedimiento de la estimación\n",
    "\n",
    "Paso 1: Estimación puntual\n",
    "* La estimación puntual consiste en inferir parámetros como la media poblacional $ \\mu $ o la varianza poblacional $ \\sigma^2 $ mediante un único valor. Se utilizan estimadores insesgados como la media muestral $ \\bar{x} $ y la varianza muestral $ V $.\n",
    "* $ \\hat{x} = \\bar{\\mu} $\n",
    "\n",
    "Paso 2: Estimación por intervalo\n",
    "* Variable aleatoria $ u = \\frac{\\bar{x} - \\mu}{\\sqrt{\\sigma^2}/n}$\n",
    "* Límite superior de confianza $ \\mu_U = \\bar{x} + u(0.05) \\sqrt{\\sigma^2/n} $\n",
    "* Límite inferior de confianza $ \\mu_L = \\bar{x} - u(0.05) \\sqrt{\\sigma^2/n} $"
   ]
  },
  {
   "cell_type": "code",
   "execution_count": 1,
   "metadata": {},
   "outputs": [],
   "source": [
    "import os\n",
    "\n",
    "try:\n",
    "  os.chdir('../Python/QCKentei')\n",
    "except:\n",
    "  pass\n",
    "\n",
    "path = os.getcwd()"
   ]
  },
  {
   "cell_type": "code",
   "execution_count": 2,
   "metadata": {},
   "outputs": [],
   "source": [
    "import pandas as pd\n",
    "import numpy as np\n",
    "\n",
    "import matplotlib.pyplot as plt\n",
    "import seaborn as sns"
   ]
  },
  {
   "cell_type": "markdown",
   "metadata": {},
   "source": [
    "## 04-02 Pruebas y estimaciones basadas en datos de valores medibles"
   ]
  },
  {
   "cell_type": "markdown",
   "metadata": {},
   "source": [
    "### Pruebas y estimaciones sobre una o dos poblaciones\n",
    "\n",
    "* Distribución normal estándar\n",
    "* Distribución t\n",
    "* Distribución ji-cuadrado\n",
    "* Prueba de Welch\n",
    "* Distribución F"
   ]
  },
  {
   "cell_type": "markdown",
   "metadata": {},
   "source": [
    "### Pruebas sobre varianzas de tres o más poblaciones\n",
    "\n",
    "* Prueba de Cochran\n"
   ]
  },
  {
   "cell_type": "markdown",
   "metadata": {},
   "source": [
    "## 4.1\n",
    "\n",
    "５か所の分析センターで、廃液中成分Gの含有量の分析を行っている。今回、同一サンプルを用い各分析センターでそれぞれ５回の測定を行ったところ、以下の分散（単位：％＾２）が得られた。各センターでの測定値のバラつきが一様であるか検討せよ。\n",
    "\n",
    "V1=0.50、V2=0.68、V3=0.23、V4=0.89、V5=0.71\n",
    "\n",
    "En cinco centros de análisis se está llevando a cabo el análisis del contenido del componente G en el efluente residual. En esta ocasión, se realizó la medición en cada centro de análisis cinco veces utilizando la misma muestra, y se obtuvieron las siguientes varianzas (unidad: %^2). Examine si la variabilidad en los valores medidos en cada centro es uniforme.\n",
    "\n",
    "V1=0.50, V2=0.68, V3=0.23, V4=0.89, V5=0.71"
   ]
  },
  {
   "cell_type": "markdown",
   "metadata": {},
   "source": [
    "#### Note:\n",
    "Si los datos siguen una distribución normal, la prueba de Bartlett tiene una mayor potencia estadística.\n",
    "\n",
    "En cambio, si los datos no siguen una distribución normal o si son sensibles a la influencia de valores atípicos, la prueba de Cochran puede ofrecer resultados más estables, lo que aumenta la probabilidad de mantener la potencia estadística.\n"
   ]
  },
  {
   "cell_type": "code",
   "execution_count": 3,
   "metadata": {},
   "outputs": [
    {
     "name": "stdout",
     "output_type": "stream",
     "text": [
      "Estadístico de prueba: 6.4594794160009106e-15\n",
      "Valor p: 1.0\n",
      "No se puede rechazar la hipótesis nula. Se concluye que las varianzas son uniformes.\n"
     ]
    }
   ],
   "source": [
    "from scipy import stats\n",
    "\n",
    "# Varianzas obtenidas en cada centro\n",
    "variances = np.array([0.50, 0.68, 0.23, 0.89, 0.71])\n",
    "\n",
    "# Bartlett's Test\n",
    "statistic, p_value = stats.bartlett(variances, variances, variances, variances, variances)\n",
    "\n",
    "# Visualización de los resultados\n",
    "print(f\"Estadístico de prueba: {statistic}\")\n",
    "print(f\"Valor p: {p_value}\")\n",
    "\n",
    "# Juicio basado en el valor p\n",
    "alpha = 0.05  # Nivel de significancia\n",
    "if p_value < alpha:\n",
    "    print(\"Se rechaza la hip+otesis nula. Se concluye que las  varianzas no son uniformes.\")\n",
    "else:\n",
    "    print(\"No se puede rechazar la hipótesis nula. Se concluye que las varianzas son uniformes.\")\n"
   ]
  },
  {
   "cell_type": "code",
   "execution_count": 4,
   "metadata": {},
   "outputs": [
    {
     "name": "stdout",
     "output_type": "stream",
     "text": [
      "Estadístico C: 0.2956810631229236\n",
      "Valor crítico: 9.487729036781154\n",
      "Valor p: 0.8809346846074432\n",
      "No se puede rechazar la hipótesis nula, concluyendo que las varianzas son uniformes.\n"
     ]
    }
   ],
   "source": [
    "from scipy.stats import chi2\n",
    "\n",
    "# Varianzas obtenidas en cada centro\n",
    "variances = np.array([0.50, 0.68, 0.23, 0.89, 0.71])\n",
    "\n",
    "# Cálculo del estadístico C de Cochran\n",
    "V_max = np.max(variances)  # Varianza máxima\n",
    "V_min = np.min(variances)  # Varianza mínima\n",
    "V_total = np.sum(variances)  # Suma total\n",
    "\n",
    "# Calcular el valor del estadístico C\n",
    "C_statistic = V_max / V_total\n",
    "\n",
    "# Cálculo de los grados de libertad\n",
    "k = len(variances)  # Número de centros\n",
    "df = k - 1  # Grados de libertad\n",
    "\n",
    "# En la prueba de Cochran, se calcula el valor crítico para comparar el valor de C\n",
    "alpha = 0.05  # Nivel de significancia\n",
    "critical_value = chi2.ppf(1 - alpha, df)\n",
    "\n",
    "# Visualización de los resultados\n",
    "print(f\"Estadístico C: {C_statistic}\")\n",
    "print(f\"Valor crítico: {critical_value}\")\n",
    "\n",
    "# Cálcular de p\n",
    "p_value = 1 - chi2.cdf(C_statistic * df, df)\n",
    "\n",
    "print(f\"Valor p: {p_value}\")\n",
    "\n",
    "# Juicio basado en los resultados\n",
    "if C_statistic > critical_value:\n",
    "    print(\"Se rechaza la hipótesis nula. concluyendo que las varianzas no son uniformes.\")\n",
    "else:\n",
    "    print(\"No se puede rechazar la hipótesis nula, concluyendo que las varianzas son uniformes.\")\n"
   ]
  },
  {
   "cell_type": "markdown",
   "metadata": {},
   "source": [
    "###  Potencia de la prueba sobre la media poblacional"
   ]
  },
  {
   "cell_type": "markdown",
   "metadata": {},
   "source": [
    "## 4.2\n",
    "\n",
    "Q繊維の引張強度の母平均は50.0(MPa)。母分散は3.0^2(MPa)^2であった。今回、引張強度の向上を目的に新規開発を行い、試作品の強度を測定した。母分散は変化しないもとのして、引張強度が大きくなったかどうか検定する。以下の設問に答えよ。ただし、有意水準α=0.05とする。\n",
    "1. 試作品9個の強度を測定した。開発品の母平均が53.0(MPa)の時の検出力（１－β）を求めよ。\n",
    "2. 開発品の母平均が52.0(MPa)の時、検出力（1－β）=0.90以上で検出したいとする。このとき必要な試作品の個数（サンプルの大きさｎ）を求めよ。\n",
    "\n",
    "La resistencia a la tracción media de la fibra Q es de 50.0(MPa), y la varianza poblacional es de $ 3.0^2 (MPa)^2 $. Se ha realizado un desarrollo con el objetivo de mejorar la resistencia a la tracción y se ha medido la resistencia de los prototipos. Suponiendo que la varianza poblacional no cambia, se debe verificar si la resistencia a la tracción ha aumentado. Responde las siguientes preguntas, considerando un nivel de significancia $ \\alpha = 0.05 $.\n",
    "1. Se midió la resistencia de 9 prototipos. Calcula el poder de la prueba $ (1-\\beta) $ cuando la media poblacional del nuevo desarrollo es de 53.0(MPa).\n",
    "2. Si la media poblacional del nuevo desarrollo es de 52.0 (MPa), se desea que el poder de la prueba sea al menos $ (1-\\beta) = 0.90 $. Calcula el tamaño de la muestra (n) necesario para lograrlo.\n"
   ]
  },
  {
   "cell_type": "code",
   "execution_count": 5,
   "metadata": {},
   "outputs": [
    {
     "name": "stdout",
     "output_type": "stream",
     "text": [
      "Potencia (1 - β) cuando la media del producto es 53.0: 0.9123\n",
      "Tamaño de muestra necesario para una potencia de 0.90 con una media de 52.0: 20\n"
     ]
    }
   ],
   "source": [
    "import scipy.stats as stats\n",
    "\n",
    "# 1. Condiciones establecidas\n",
    "mu_0 = 50.0  # Media de la hipótesis nula\n",
    "sigma = 3.0  # Desviación estándar de la población\n",
    "alpha = 0.05  # Nivel de significancia\n",
    "\n",
    "# 1-1. Cálculo de la potencia cuando la media del producto es 53.0\n",
    "mu_1 = 53.0  # Media bajo la hipóesis alternativa\n",
    "n = 9  # Tamaño de la muestra\n",
    "\n",
    "# Error estándar y valor crítico\n",
    "standard_error = sigma / np.sqrt(n)\n",
    "z_alpha = stats.norm.ppf(1 - alpha)\n",
    "z_beta = (mu_0 + z_alpha * standard_error - mu_1) / standard_error\n",
    "beta = stats.norm.cdf(z_beta)\n",
    "power = 1 - beta\n",
    "\n",
    "print(f\"Potencia (1 - β) cuando la media del producto es 53.0: {power:.4f}\")\n",
    "\n",
    "# 2. Cálculo del tamaño de muestra necesario para un apotencia de 0.90 cuando la media es 52.0\n",
    "mu_2 = 52.0\n",
    "power_target = 0.90\n",
    "\n",
    "# Búsqueda iterativa del tamaño de la muestra\n",
    "def find_sample_size(mu_0, mu_2, sigma, alpha, power_target):\n",
    "    n = 1\n",
    "    while True:\n",
    "        standard_error = sigma / np.sqrt(n)\n",
    "        z_alpha = stats.norm.ppf(1 - alpha)\n",
    "        z_beta = (mu_0 + z_alpha * standard_error - mu_2) / standard_error\n",
    "        beta = stats.norm.cdf(z_beta)\n",
    "        power = 1 - beta\n",
    "        if power >= power_target:\n",
    "            return n, power\n",
    "        n += 1\n",
    "\n",
    "n_required, final_power = find_sample_size(mu_0, mu_2, sigma, alpha, power_target)\n",
    "\n",
    "print(f\"Tamaño de muestra necesario para una potencia de 0.90 con una media de 52.0: {n_required}\")\n"
   ]
  },
  {
   "cell_type": "code",
   "execution_count": 6,
   "metadata": {},
   "outputs": [
    {
     "data": {
      "image/png": "[encoded data removed]",
      "text/plain": [
       "<Figure size 720x432 with 1 Axes>"
      ]
     },
     "metadata": {
      "needs_background": "light"
     },
     "output_type": "display_data"
    }
   ],
   "source": [
    "# グラフの作成\n",
    "x = np.linspace(45, 60, 400)\n",
    "null_dist = stats.norm.pdf(x, mu_0, sigma / np.sqrt(n))\n",
    "alternative_dist = stats.norm.pdf(x, mu_1, sigma / np.sqrt(n))\n",
    "\n",
    "# 臨界値の計算\n",
    "critical_value = mu_0 + z_alpha * standard_error\n",
    "\n",
    "plt.figure(figsize=(10, 6))\n",
    "plt.plot(x, null_dist, label='Hipótesis nula: μ=50.0', linestyle='dashed')\n",
    "plt.plot(x, alternative_dist, label='Hipótesis alternativa: μ=53.0', linestyle='solid')\n",
    "plt.axvline(critical_value, color='red', linestyle='dotted', label=f'Valor crítico: {critical_value:.2f}')\n",
    "plt.fill_betweenx(null_dist, critical_value, x[-1], color='gray', alpha=0.5, label='Potencia (1-β)')\n",
    "plt.title('Distribución de prueba y potencia')\n",
    "plt.xlabel('Resistencia a la tracción (MPa)')\n",
    "plt.ylabel('Densidad de probabilidad')\n",
    "plt.legend()\n",
    "plt.grid(True)\n",
    "plt.show()"
   ]
  },
  {
   "cell_type": "markdown",
   "metadata": {},
   "source": [
    "### Potencia de la prueba sobre la varianza poblacional"
   ]
  },
  {
   "cell_type": "markdown",
   "metadata": {},
   "source": [
    "## 4.3\n",
    "\n",
    "プラスチック製品Pの延性の母分散は3.0^2であった。ばらつきの低減を狙い、試作品を作成した。以下の設問に答えよ。\n",
    "1. 試作品１１個の延性を測定した。改善後の母分散が1.5^2(%^2)のときの検出力（１－β）を求めよ。\n",
    "2. 改善後の母分散が1.8^2(%^2)のとき、検出力（１－β）=0.90以上で検出したいとする。このとき必要な試作品の個数（サンプルサイズの大きさｎ）を求めよ。\n",
    "\n",
    "La varianza poblacional de la ductilidad del producto de plástico P fue $ 3.0^2  $ (%^2) . Se creó un prototipo con el objetivo de reducir la variabilidad. Responde a las siguientes preguntas:\n",
    "1. Se midió la ductilidad de 11 prototipos. Calcula la potencia $ (1-\\beta) $ cuando la varianza poblacional mejorada es $ 1.5^2 $ (%^2)\n",
    "2. Si la varianza poblacional mejorada es $ 1.8^2 $ (%^2) y se requiere una potencia $ (1-\\beta) \\ge 0.90 $ para detectar, ¿cuál es el tamaño de muestra necesario?\n",
    "\n"
   ]
  },
  {
   "cell_type": "code",
   "execution_count": 7,
   "metadata": {},
   "outputs": [
    {
     "name": "stdout",
     "output_type": "stream",
     "text": [
      "Potencia (1 - β) cuando la varianza es 1.5²: 0.9176\n",
      "Tamaño de muestra necesario para una potencia de 9 con varianza de 1.8²: 18\n"
     ]
    },
    {
     "data": {
      "image/png": "[encoded data removed]",
      "text/plain": [
       "<Figure size 720x432 with 1 Axes>"
      ]
     },
     "metadata": {
      "needs_background": "light"
     },
     "output_type": "display_data"
    }
   ],
   "source": [
    "import scipy.stats as stats\n",
    "\n",
    "# Condiciones iniciales\n",
    "sigma_0_squared = 3**2  # Varianza poblacional original\n",
    "alpha = 0.05  # Nivel de significancia\n",
    "n = 11  # Número de muestras\n",
    "\n",
    "# 1. Cálculo del poder（1-β）cuando la varianza poblacional espués de la mejora es 1.5\n",
    "sigma_1_squared = 1.5**2\n",
    "chi2_critical = stats.chi2.ppf(1 - alpha, df=n-1)\n",
    "chi2_statistic = chi2_critical * sigma_1_squared / sigma_0_squared\n",
    "beta = stats.chi2.cdf(chi2_statistic, df=n-1)\n",
    "power = 1 - beta\n",
    "print(f\"Potencia (1 - β) cuando la varianza es 1.5²: {power:.4f}\")\n",
    "\n",
    "# 2. Cálculo del tamaño de muestra necesario（cuando la varianza poblacional de la mejore es 1.8² y el poder es superior a 0.90)\n",
    "sigma_2_squared = 1.8**2\n",
    "power_target = 0.90\n",
    "\n",
    "# Explorando el tamaño de muestra adecuado\n",
    "def find_sample_size(sigma_0_sq, sigma_2_sq, alpha, power_target):\n",
    "    for n in range(2, 100):\n",
    "        chi2_critical = stats.chi2.ppf(1 - alpha, df=n-1)\n",
    "        chi2_statistic = chi2_critical * sigma_2_sq / sigma_0_sq\n",
    "        beta = stats.chi2.cdf(chi2_statistic, df=n-1)\n",
    "        power = 1 - beta\n",
    "        if power >= power_target:\n",
    "            return n, power\n",
    "    return None, None\n",
    "\n",
    "n_required, final_power = find_sample_size(sigma_0_squared, sigma_2_squared, alpha, power_target)\n",
    "if n_required:\n",
    "    print(f\"Tamaño de muestra necesario para una potencia de 9 con varianza de 1.8²: {n_required}\")\n",
    "else:\n",
    "    print(\"No se encontró un tamaño de muestra adecuado dentro del rango buscado.\")\n",
    "\n",
    "# Creación del gráfico\n",
    "x = np.linspace(0, 30, 500)\n",
    "chi2_null = stats.chi2.pdf(x, df=n-1) * sigma_0_squared\n",
    "chi2_alternative = stats.chi2.pdf(x, df=n-1) * sigma_1_squared\n",
    "\n",
    "plt.figure(figsize=(10, 6))\n",
    "plt.plot(x, chi2_null, label=f'Hipótesis nula: Varianza = 3²', linestyle='dashed')\n",
    "plt.plot(x, chi2_alternative, label=f'Hipótesis alternativa: Varianza = 1.5²', linestyle='solid')\n",
    "plt.axvline(chi2_critical, color='red', linestyle='dotted', label=f'Valor crítico: χ² = {chi2_critical:.2f}')\n",
    "plt.fill_between(x, chi2_null, where=(x >= chi2_critical), color='gray', alpha=0.5, label='Potencia (1-β)')\n",
    "plt.title('Prueba de varianza y potencia de detección')\n",
    "plt.xlabel('Estadístico de prueba χ²')\n",
    "plt.ylabel('Densidad de probabilidad')\n",
    "plt.legend()\n",
    "plt.grid(True)\n",
    "plt.show()\n"
   ]
  },
  {
   "cell_type": "markdown",
   "metadata": {},
   "source": [
    "## 04-03 Pruebas y estimaciones basadas en datos de conteo\n",
    "\n",
    "1. Análisis del número y la tasa de productos no conformes (número y tasa de defectuosos)\n",
    "* Prueba y estimación de la tasa de productos defectuosos P en una población.\n",
    "* Prueba y estimación de la diferencia entre las tasas de productos defectuosos $ P_A $ y $ P_B $ en dos poblaciones.\n",
    "\n",
    "2. Análisis del número de no conformidades(número de defectos)\n",
    "* Prueba y estimación del número de defectos $ \\lambda $ en una población.\n",
    "* Prueba y estimación de la diferencia entre los números de defectos $ \\lambda_A $ y $ \\lambda_B $ en dos poblaciones.\n",
    "\n",
    "3. Análisis de datos de frecuencias clasificados por categoría\n",
    "* Prueba de bondad de ajuste\n",
    "* Prueba mediante tabla de contingencia\n"
   ]
  },
  {
   "cell_type": "markdown",
   "metadata": {},
   "source": [
    "4. Prueba de bondad de ajuste"
   ]
  },
  {
   "cell_type": "markdown",
   "metadata": {},
   "source": [
    "## 4.4\n",
    "工場の一日ごとのチョコ停回数を１００日間にわたって調査した（表４．８）。チョコ停の回数の分布がポワソン分布に従うかどうか検討せよ。\n",
    "\n",
    "Se realizó una investigación sobre el número de paradas pequeñas diarias en la fábrica durante 100 días (Tabla 4.8). Se debe examinar si la distribución del número de paradas pequeñas sigue una distribución de Poisson."
   ]
  },
  {
   "cell_type": "code",
   "execution_count": 8,
   "metadata": {},
   "outputs": [
    {
     "name": "stdout",
     "output_type": "stream",
     "text": [
      "                  Número de paradas pequñas               \n",
      "0                                                         \n",
      "Número de paradas                         0   1   2   3  4\n",
      "Día                                      10  20  30  40  0\n"
     ]
    }
   ],
   "source": [
    "import pandas as pd\n",
    "import gspread \n",
    "from google.oauth2.service_account import Credentials\n",
    "\n",
    "# 認証情報の設定\n",
    "SERVICE_ACCOUNT_FILE = \"my-project-vscode-452201-249bdb033f8c.json\"  # JSONファイルのパス\n",
    "SCOPES = [\"https://www.googleapis.com/auth/spreadsheets\"]\n",
    "\n",
    "credentials = Credentials.from_service_account_file(SERVICE_ACCOUNT_FILE, scopes=SCOPES)\n",
    "client = gspread.authorize(credentials)\n",
    "\n",
    "# スプレッドシートを開く（URLまたはスプレッドシートIDを使用）\n",
    "SPREADSHEET_ID = \"1RkO0VL4WR6cbPBfBEjz693Lo4SdUAoSvRHV491ggXTo\"\n",
    "\n",
    "sheet = client.open_by_key(SPREADSHEET_ID).worksheet(\"Sheet9\") # 最初のシートを取得\n",
    "\n",
    "# データを取得\n",
    "list_of_lists = sheet.get_all_values()\n",
    "\n",
    "df = pd.DataFrame.from_records(list_of_lists)\n",
    "df = df.T\n",
    "df.columns = df.iloc[0]\n",
    "df = df.drop(index=0)\n",
    "df = df.set_index(df.columns[0])\n",
    "\n",
    "print(df.T)\n",
    "df.T.to_excel(\"Data_1/Tabla_4_8.xlsx\")\n",
    "\n",
    "df = df.reset_index(drop=True)\n",
    "df.columns = [\"s\",\"d\"]\n",
    "df[[\"s\",\"d\"]] = df[[\"s\",\"d\"]].apply(pd.to_numeric)\n",
    "\n",
    "data = df.copy()"
   ]
  },
  {
   "cell_type": "code",
   "execution_count": 9,
   "metadata": {},
   "outputs": [
    {
     "data": {
      "text/html": [
       "<div>\n",
       "<style scoped>\n",
       "    .dataframe tbody tr th:only-of-type {\n",
       "        vertical-align: middle;\n",
       "    }\n",
       "\n",
       "    .dataframe tbody tr th {\n",
       "        vertical-align: top;\n",
       "    }\n",
       "\n",
       "    .dataframe thead th {\n",
       "        text-align: right;\n",
       "    }\n",
       "</style>\n",
       "<table border=\"1\" class=\"dataframe\">\n",
       "  <thead>\n",
       "    <tr style=\"text-align: right;\">\n",
       "      <th></th>\n",
       "      <th>s</th>\n",
       "      <th>d</th>\n",
       "      <th>Poisson</th>\n",
       "      <th>ti</th>\n",
       "      <th>(xi-ti)^2/ti</th>\n",
       "    </tr>\n",
       "  </thead>\n",
       "  <tbody>\n",
       "    <tr>\n",
       "      <th>0</th>\n",
       "      <td>0.0</td>\n",
       "      <td>10.0</td>\n",
       "      <td>0.135335</td>\n",
       "      <td>13.53</td>\n",
       "      <td>0.920983</td>\n",
       "    </tr>\n",
       "    <tr>\n",
       "      <th>1</th>\n",
       "      <td>1.0</td>\n",
       "      <td>20.0</td>\n",
       "      <td>0.270671</td>\n",
       "      <td>27.07</td>\n",
       "      <td>1.846505</td>\n",
       "    </tr>\n",
       "    <tr>\n",
       "      <th>2</th>\n",
       "      <td>2.0</td>\n",
       "      <td>30.0</td>\n",
       "      <td>0.270671</td>\n",
       "      <td>27.07</td>\n",
       "      <td>0.317137</td>\n",
       "    </tr>\n",
       "    <tr>\n",
       "      <th>3</th>\n",
       "      <td>3.0</td>\n",
       "      <td>40.0</td>\n",
       "      <td>0.180447</td>\n",
       "      <td>18.04</td>\n",
       "      <td>26.731796</td>\n",
       "    </tr>\n",
       "    <tr>\n",
       "      <th>4</th>\n",
       "      <td>4.0</td>\n",
       "      <td>0.0</td>\n",
       "      <td>0.142877</td>\n",
       "      <td>14.29</td>\n",
       "      <td>14.290000</td>\n",
       "    </tr>\n",
       "    <tr>\n",
       "      <th>Total</th>\n",
       "      <td>10.0</td>\n",
       "      <td>100.0</td>\n",
       "      <td>1.000000</td>\n",
       "      <td>100.00</td>\n",
       "      <td>44.106421</td>\n",
       "    </tr>\n",
       "  </tbody>\n",
       "</table>\n",
       "</div>"
      ],
      "text/plain": [
       "          s      d   Poisson      ti  (xi-ti)^2/ti\n",
       "0       0.0   10.0  0.135335   13.53      0.920983\n",
       "1       1.0   20.0  0.270671   27.07      1.846505\n",
       "2       2.0   30.0  0.270671   27.07      0.317137\n",
       "3       3.0   40.0  0.180447   18.04     26.731796\n",
       "4       4.0    0.0  0.142877   14.29     14.290000\n",
       "Total  10.0  100.0  1.000000  100.00     44.106421"
      ]
     },
     "execution_count": 9,
     "metadata": {},
     "output_type": "execute_result"
    }
   ],
   "source": [
    "import scipy.stats as stats\n",
    "\n",
    "ram = np.sum(df['d']*df['s'])/np.sum(df['d'])\n",
    "\n",
    "df[\"Poisson\"] = stats.poisson.pmf(df[\"s\"],ram)\n",
    "df.loc[4,\"Poisson\"] = 1 - df[\"Poisson\"].iloc[0:4].sum()\n",
    "df[\"ti\"] = (df[\"Poisson\"]*np.sum(df['d'])).round(2)\n",
    "df[\"(xi-ti)^2/ti\"] = ((df[\"d\"]-df[\"ti\"])**2)/df[\"ti\"]\n",
    "df.loc[\"Total\"] = df.sum()\n",
    "df"
   ]
  },
  {
   "cell_type": "code",
   "execution_count": 10,
   "metadata": {},
   "outputs": [
    {
     "name": "stdout",
     "output_type": "stream",
     "text": [
      "\n",
      "Valores observados: 0    10\n",
      "1    20\n",
      "2    30\n",
      "3    40\n",
      "4     0\n",
      "Name: d, dtype: int64\n",
      "Valores esperados: [13.53, 27.07, 27.07, 18.04, 14.29]\n",
      "\n",
      "Estadístico de prueba chi-cuadrado: 44.09\n",
      "Valor p: 6.155486484248077e-09\n",
      "Estos datos no se consideran que siguen una distribución de Poisson\n"
     ]
    }
   ],
   "source": [
    "# Definición de los datos\n",
    "data = data\n",
    "\n",
    "# Obtención de las veces de paradas menores y su frecuencia\n",
    "choco_counts = data['s']\n",
    "frequency = data['d']\n",
    "\n",
    "# Cálculo de la tasa de ocurrencia media（lambda）\n",
    "total_days = sum(frequency)\n",
    "mean_lambda = sum([choco_counts[i] * frequency[i] for i in range(len(choco_counts))]) / total_days\n",
    "\n",
    "# Cálculo del valor esperado según la distribución de Poisson\n",
    "# Ajuste del total correspondiente a la parte de 4 o más\n",
    "expected_counts = [stats.poisson.pmf(k, mean_lambda) * total_days for k in range(max(choco_counts))]\n",
    "expected_counts.append(total_days - sum(expected_counts))\n",
    "\n",
    "# Visualización de los valores observados y esperados\n",
    "print(\"\\nValores observados:\", frequency)\n",
    "print(\"Valores esperados:\", [round(e, 2) for e in expected_counts])\n",
    "\n",
    "# Realización de la prueba de chi-cuadrado\n",
    "chi2_stat, p_value = stats.chisquare(f_obs=frequency, f_exp=expected_counts)\n",
    "\n",
    "# Visualización de los resultados\n",
    "print(\"\\nEstadístico de prueba chi-cuadrado:\", round(chi2_stat, 2))\n",
    "print(\"Valor p:\", p_value)\n",
    "\n",
    "if p_value > 0.05:\n",
    "    print(\"Estos datos se consideran que siguen una distribución de Poisson\")\n",
    "else:\n",
    "    print(\"Estos datos no se consideran que siguen una distribución de Poisson\")\n",
    "\n",
    "\n",
    "\n"
   ]
  },
  {
   "cell_type": "code",
   "execution_count": 11,
   "metadata": {},
   "outputs": [
    {
     "data": {
      "image/png": "[encoded data removed]",
      "text/plain": [
       "<Figure size 720x432 with 1 Axes>"
      ]
     },
     "metadata": {
      "needs_background": "light"
     },
     "output_type": "display_data"
    }
   ],
   "source": [
    "#\n",
    "plt.figure(figsize=(10, 6))\n",
    "\n",
    "x = np.array(choco_counts)\n",
    "plt.bar(x - 0.2, frequency, width=0.4, label='Valores observados', alpha=0.7)\n",
    "plt.bar(x + 0.2, expected_counts, width=0.4, label='Valores esperados', alpha=0.7)\n",
    "plt.xlabel('Veces de paradas menores')\n",
    "plt.ylabel('Días')\n",
    "plt.xticks(choco_counts)\n",
    "plt.title('Prueba de ajuste para la distribución de Poisson')\n",
    "plt.legend()\n",
    "plt.grid(True)\n",
    "plt.show()\n",
    "\n"
   ]
  },
  {
   "cell_type": "code",
   "execution_count": 12,
   "metadata": {},
   "outputs": [
    {
     "name": "stdout",
     "output_type": "stream",
     "text": [
      "QCKentei1-4.ipynb  ->  QCKentei1-4.html\n",
      "[NbConvertApp] Converting notebook QCKentei1-4.ipynb to html\n",
      "[NbConvertApp] Writing 766549 bytes to QCKentei1-4.html\n",
      "mv: rename QCKentei1-4.html to ../html/: No such file or directory\n"
     ]
    }
   ],
   "source": [
    "notebook_name = 'QCKentei1-4.ipynb'\n",
    "notebook_name_html = notebook_name.replace(\".ipynb\",\".html\")\n",
    "print(notebook_name + '  ->  ' + notebook_name_html)\n",
    "\n",
    "!jupyter nbconvert --to html {notebook_name}\n",
    "!mv {notebook_name_html} ../html/"
   ]
  },
  {
   "cell_type": "code",
   "execution_count": null,
   "metadata": {},
   "outputs": [],
   "source": []
  }
 ],
 "metadata": {
  "kernelspec": {
   "display_name": "Python 3",
   "language": "python",
   "name": "python3"
  },
  "language_info": {
   "codemirror_mode": {
    "name": "ipython",
    "version": 3
   },
   "file_extension": ".py",
   "mimetype": "text/x-python",
   "name": "python",
   "nbconvert_exporter": "python",
   "pygments_lexer": "ipython3",
   "version": "3.10.5"
  }
 },
 "nbformat": 4,
 "nbformat_minor": 2
}
