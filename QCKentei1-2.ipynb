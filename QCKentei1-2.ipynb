{
 "cells": [
  {
   "cell_type": "markdown",
   "metadata": {},
   "source": [
    "# Siete herramientas nuevas del control de calidad\n",
    "\n",
    "Las Nuevas Siete Herramientas de Control de Calidad (N7) son principalmente métodos para analizar datos verbales.\n",
    "Se pueden utilizar para aclarar problemas a partir de situaciones caóticas, enriquecer los planes para asegurar que no se omita nada y guiar la generación de ideas para contramedidas.\n",
    "\n",
    "En este capítulo, estudiaremos tres técnicas de las Nuevas Siete Herramientas (N7) para que los estudiantes puedan hacer lo siguiente:\n",
    "\n",
    "* Explicar y calcular los programas de cada plan y la ruta crítica enel método de diagrama de flechas (Arrow Diagrama Method).\n",
    "\n",
    "* Desarrollar la previsión de situaciones y planificar los métodos de respuesta utilizando el método del proceso de decisión de programa (PDPC - Process Decision Programa Chart).\n",
    "\n",
    "* Explicar el significado de la terminología utilizada en el método de análisis de datos de matriz (Matrix Data Analysis Method).\n",
    "\n",
    "[Audio_1](https://drive.google.com/file/d/1l7rqMx4iMH4zjAWsYMAJrITrlEtLgBen/view?usp=drive_link)\n",
    "\n"
   ]
  },
  {
   "cell_type": "markdown",
   "metadata": {},
   "source": [
    "## 02-01 Diagrama de red de actividades\n",
    "アローダイアグラム\n",
    "\n",
    "* Diagrama de red que representa las relaciones de secuencia de las tareas mediante flechas y puntos de unión\n",
    "\n",
    "* Gestionar de maner eficiente el progreso de las tareas\n",
    "\n",
    "* Fecha de punto de unión más temprano\n",
    "最早結合点日程\n",
    "\n",
    "* Objetivo de punto de unión más tardío\n",
    "最遅結合点日程\n",
    "\n",
    "* Camino crítico クリティカルパス:\n",
    "El camino cuya diferencia entre la fecha de punto de unión más temprano y la fecha de punto de unión más tardío es cero. Si las tareas en el camino crítico se retrasan, el proyecto se retrasará, por lo que debe gestionarse con especial atención.\n",
    "\n",
    "\n",
    "## 02-02 Diagrama de causa y efecto (PDPC)\n",
    "PDPC法\n",
    "\n",
    "* Prevención de problemas inesperados\n",
    "* Ampliación progresiva del plan según el desarrollo de la situación\n",
    "* PDPC de tipo de desarrollo progresivo\n",
    "* Suposición forzada de situaciones imprevistas y preparaci+on de medidas\n",
    "* PDPC de tipo de vinculaci+o obligatoria\n",
    "* Participación de diversas personas con diferentes perspectivas relacionadas con el problema en cuestión\n",
    "* Prevención anticipada\n",
    "* Avanzar de manera eficiente hacia el logro de los objetivos\n",
    "* Es fácil obtener apoyo\n",
    "\n",
    "## 02-03 Diagrama de matriz (Análisis de componentes principales)\n",
    "マトリックス・データ解析法\n",
    "\n",
    "* Valor propio\n",
    "* Tasa de contribución\n",
    "* Vector propio\n",
    "* Carga factorial\n",
    "* Puntuación de componentes principales\n",
    "* Criterio de Kaiser\n",
    "\n",
    "[Audio_2](https://drive.google.com/file/d/1frbh3DPA8c-GgnjwEgGKNobz3ZXbuGr6/view?usp=drive_link)"
   ]
  },
  {
   "cell_type": "code",
   "execution_count": 7,
   "metadata": {},
   "outputs": [],
   "source": [
    "import os\n",
    "\n",
    "try:\n",
    "  os.chdir('../Python/QCKentei')\n",
    "except:\n",
    "  pass\n",
    "\n",
    "path = os.getcwd()"
   ]
  },
  {
   "cell_type": "markdown",
   "metadata": {},
   "source": [
    "## 2.1\n",
    "\n",
    "Xプロジェクトのアローダイアグラムが図2.2で表わされている。\n",
    "1. クリティカルパスを求めよ。\n",
    "2. 作業Cの所要時間が6分から、４分に短縮できれば、全作業が完了する時間は何分短縮できるか。\n",
    "\n",
    "El diagrama de flechas del Proyecto X está representado en la Figura 2.2\n",
    "1. Determina la ruta crítica\n",
    "2. Si el tiempo requerido para la tarea C se puede reducir de 6 minutos a 4 minutos, ¿cuánto tiempo se puede acortar el tiempo total para completar todas las tareas?"
   ]
  },
  {
   "cell_type": "code",
   "execution_count": 8,
   "metadata": {},
   "outputs": [
    {
     "data": {
      "text/html": [
       "<div>\n",
       "<style scoped>\n",
       "    .dataframe tbody tr th:only-of-type {\n",
       "        vertical-align: middle;\n",
       "    }\n",
       "\n",
       "    .dataframe tbody tr th {\n",
       "        vertical-align: top;\n",
       "    }\n",
       "\n",
       "    .dataframe thead th {\n",
       "        text-align: right;\n",
       "    }\n",
       "</style>\n",
       "<table border=\"1\" class=\"dataframe\">\n",
       "  <thead>\n",
       "    <tr style=\"text-align: right;\">\n",
       "      <th></th>\n",
       "      <th>A</th>\n",
       "      <th>B</th>\n",
       "    </tr>\n",
       "  </thead>\n",
       "  <tbody>\n",
       "    <tr>\n",
       "      <th>1</th>\n",
       "      <td>60</td>\n",
       "      <td>40</td>\n",
       "    </tr>\n",
       "    <tr>\n",
       "      <th>2</th>\n",
       "      <td>50</td>\n",
       "      <td>76</td>\n",
       "    </tr>\n",
       "    <tr>\n",
       "      <th>3</th>\n",
       "      <td>51</td>\n",
       "      <td>48</td>\n",
       "    </tr>\n",
       "    <tr>\n",
       "      <th>4</th>\n",
       "      <td>42</td>\n",
       "      <td>64</td>\n",
       "    </tr>\n",
       "    <tr>\n",
       "      <th>5</th>\n",
       "      <td>55</td>\n",
       "      <td>59</td>\n",
       "    </tr>\n",
       "    <tr>\n",
       "      <th>6</th>\n",
       "      <td>46</td>\n",
       "      <td>63</td>\n",
       "    </tr>\n",
       "    <tr>\n",
       "      <th>7</th>\n",
       "      <td>49</td>\n",
       "      <td>73</td>\n",
       "    </tr>\n",
       "    <tr>\n",
       "      <th>8</th>\n",
       "      <td>52</td>\n",
       "      <td>56</td>\n",
       "    </tr>\n",
       "    <tr>\n",
       "      <th>9</th>\n",
       "      <td>43</td>\n",
       "      <td></td>\n",
       "    </tr>\n",
       "  </tbody>\n",
       "</table>\n",
       "</div>"
      ],
      "text/plain": [
       "0   A   B\n",
       "1  60  40\n",
       "2  50  76\n",
       "3  51  48\n",
       "4  42  64\n",
       "5  55  59\n",
       "6  46  63\n",
       "7  49  73\n",
       "8  52  56\n",
       "9  43    "
      ]
     },
     "execution_count": 8,
     "metadata": {},
     "output_type": "execute_result"
    }
   ],
   "source": [
    "import pandas as pd\n",
    "import gspread \n",
    "from google.oauth2.service_account import Credentials\n",
    "\n",
    "# 認証情報の設定\n",
    "SERVICE_ACCOUNT_FILE = \"my-project-vscode-452201-249bdb033f8c.json\"  # JSONファイルのパス\n",
    "SCOPES = [\"https://www.googleapis.com/auth/spreadsheets\"]\n",
    "\n",
    "credentials = Credentials.from_service_account_file(SERVICE_ACCOUNT_FILE, scopes=SCOPES)\n",
    "client = gspread.authorize(credentials)\n",
    "\n",
    "# スプレッドシートを開く（URLまたはスプレッドシートIDを使用）\n",
    "SPREADSHEET_ID = \"1RkO0VL4WR6cbPBfBEjz693Lo4SdUAoSvRHV491ggXTo\"\n",
    "\n",
    "sheet = client.open_by_key(SPREADSHEET_ID).worksheet(\"Sheet6\") # 最初のシートを取得\n",
    "\n",
    "# データを取得\n",
    "list_of_lists = sheet.get_all_values()\n",
    "df = pd.DataFrame(list_of_lists)\n",
    "df = df.drop(0)\n",
    "df = df.T\n",
    "\n",
    "df.columns = df.iloc[0]\n",
    "df = df.drop(index=0)\n",
    "df"
   ]
  },
  {
   "cell_type": "code",
   "execution_count": 9,
   "metadata": {},
   "outputs": [],
   "source": [
    "import matplotlib.pyplot as plt\n",
    "import networkx as nx\n",
    "\n",
    "def draw_pert_graph(graph, critical_path):\n",
    "    # Ubicación de los nodes\n",
    "    pos = nx.planar_layout(graph)\n",
    "\n",
    "    # Dibujar las aristas normales en gris\n",
    "    plt.figure(figsize=(12, 6))\n",
    "    labels = nx.get_edge_attributes(graph, 'weight')\n",
    "\n",
    "    # Obtener las aristas del camino crítico\n",
    "    edge_colors = ['red' if (u, v) in critical_path else 'gray' for u, v in graph.edges()]\n",
    "\n",
    "    # Dibujar el gráfico\n",
    "    nx.draw(graph, pos, with_labels=True, node_size=2000, node_color='lightblue',\n",
    "            font_size=12, font_weight='bold', edge_color=edge_colors, width=[3 if (u, v) in critical_path else 1 for u, v in graph.edges()])\n",
    "    nx.draw_networkx_edge_labels(graph, pos, edge_labels=labels, font_size=10)\n",
    "\n",
    "    #plt.title('Figura 2.2 Diagrama de flechas del Proyecto X')\n",
    "    plt.show()"
   ]
  },
  {
   "cell_type": "code",
   "execution_count": 10,
   "metadata": {},
   "outputs": [
    {
     "name": "stdout",
     "output_type": "stream",
     "text": [
      "Figura 2.3 Diagrama de flechas del Proyecto X\n"
     ]
    },
    {
     "data": {
      "image/png": "[encoded data removed]",
      "text/plain": [
       "<Figure size 864x432 with 1 Axes>"
      ]
     },
     "metadata": {},
     "output_type": "display_data"
    },
    {
     "name": "stdout",
     "output_type": "stream",
     "text": [
      "Ruta crítica: 1 -> 2 -> 4 -> 5 -> 6\n",
      "Todas las tareas: 17 minutos\n"
     ]
    }
   ],
   "source": [
    "# Creación del gráfico\n",
    "graph = nx.DiGraph()\n",
    "\n",
    "# Agregar nodos (puntos de unión) y aristas (tareas)\n",
    "graph.add_weighted_edges_from([\n",
    "    (1, 2, 2),  # A\n",
    "    (1, 3, 3),  # B\n",
    "    (2, 4, 6),  # C\n",
    "    (2, 5, 5),  # D\n",
    "    (3, 5, 4),  # E\n",
    "    (4, 5, 0),  # Dummy\n",
    "    (4, 6, 8),  # F\n",
    "    (5, 6, 9)   # G\n",
    "])\n",
    "\n",
    "# Cálculo del calendario de unión más temprano (ruta hacia adelante)\n",
    "earliest_times = {node: 0 for node in graph.nodes()}\n",
    "for node in nx.topological_sort(graph):\n",
    "    for succ in graph.successors(node):\n",
    "        earliest_times[succ] = max(earliest_times[succ], earliest_times[node] + graph[node][succ]['weight'])\n",
    "\n",
    "# Cálculo del calendario de unión más tardío (ruta hacia atrás)\n",
    "latest_times = {node: earliest_times[max(graph.nodes())] for node in graph.nodes()}\n",
    "for node in reversed(list(nx.topological_sort(graph))):\n",
    "    for pred in graph.predecessors(node):\n",
    "        latest_times[pred] = min(latest_times[pred], latest_times[node] - graph[pred][node]['weight'])\n",
    "\n",
    "\n",
    "# Identificación del camino crítico\n",
    "critical_path = []\n",
    "for node in graph.nodes():\n",
    "    for succ in graph.successors(node):\n",
    "        if earliest_times[node] == latest_times[node] and earliest_times[succ] == latest_times[succ]:\n",
    "            critical_path.append((node, succ))\n",
    "\n",
    "print('Figura 2.3 Diagrama de flechas del Proyecto X')\n",
    "# Representar el gráfico\n",
    "draw_pert_graph(graph, critical_path)\n",
    "\n",
    "\n",
    "# Cálculo de la ruta crítica\n",
    "critical_path = nx.algorithms.dag.dag_longest_path(graph, weight='weight')\n",
    "critical_path_length = nx.algorithms.dag.dag_longest_path_length(graph, weight='weight')\n",
    "critical_path_length_before = critical_path_length\n",
    "\n",
    "print(f\"Ruta crítica: {' -> '.join(map(str, critical_path))}\")\n",
    "print(f\"Todas las tareas: {critical_path_length} minutos\")\n"
   ]
  },
  {
   "cell_type": "code",
   "execution_count": 11,
   "metadata": {},
   "outputs": [
    {
     "name": "stdout",
     "output_type": "stream",
     "text": [
      "Figura 2.4 Diagrama de flechas del Proyecto X\n"
     ]
    },
    {
     "data": {
      "image/png": "[encoded data removed]",
      "text/plain": [
       "<Figure size 864x432 with 1 Axes>"
      ]
     },
     "metadata": {},
     "output_type": "display_data"
    },
    {
     "name": "stdout",
     "output_type": "stream",
     "text": [
      "Ruta crítica: 1 -> 2 -> 5 -> 6\n",
      "Todas las tareas nuevos: 16 minutos\n",
      "Reducción del tiempo de trabajo: 1 minutos\n"
     ]
    }
   ],
   "source": [
    "# Creación del gráfico\n",
    "graph = nx.DiGraph()\n",
    "\n",
    "graph.add_weighted_edges_from([\n",
    "    (1, 2, 2),  # A\n",
    "    (1, 3, 3),  # B\n",
    "    (2, 4, 4),  # C (Tiempo de las tareas después del cambio)\n",
    "    (2, 5, 5),  # D\n",
    "    (3, 5, 4),  # E\n",
    "    (4, 5, 0),  # Dummy\n",
    "    (4, 6, 8),  # F\n",
    "    (5, 6, 9)   # G\n",
    "])\n",
    "\n",
    "# Cálculo del calendario de unión más temprano (ruta hacia adelente)\n",
    "earliest_times = {node: 0 for node in graph.nodes()}\n",
    "for node in nx.topological_sort(graph):\n",
    "    for succ in graph.successors(node):\n",
    "        earliest_times[succ] = max(earliest_times[succ], earliest_times[node] + graph[node][succ]['weight'])\n",
    "\n",
    "# Cálculo del calendario de unión más temprano (ruta hacia atrás)\n",
    "latest_times = {node: earliest_times[max(graph.nodes())] for node in graph.nodes()}\n",
    "for node in reversed(list(nx.topological_sort(graph))):\n",
    "    for pred in graph.predecessors(node):\n",
    "        latest_times[pred] = min(latest_times[pred], latest_times[node] - graph[pred][node]['weight'])\n",
    "\n",
    "\n",
    "# Identificación del camino crítico\n",
    "critical_path = []\n",
    "for node in graph.nodes():\n",
    "    for succ in graph.successors(node):\n",
    "        if earliest_times[node] == latest_times[node] and earliest_times[succ] == latest_times[succ]:\n",
    "            critical_path.append((node, succ))\n",
    "\n",
    "# Representar el gráfico\n",
    "print('Figura 2.4 Diagrama de flechas del Proyecto X')\n",
    "draw_pert_graph(graph, critical_path)\n",
    "\n",
    "# Cálculo de la ruta crítica\n",
    "critical_path = nx.algorithms.dag.dag_longest_path(graph, weight='weight')\n",
    "critical_path_length = nx.algorithms.dag.dag_longest_path_length(graph, weight='weight')\n",
    "\n",
    "critical_path_length_ = critical_path_length_before - critical_path_length\n",
    "\n",
    "print(f\"Ruta crítica: {' -> '.join(map(str, critical_path))}\")\n",
    "print(f\"Todas las tareas nuevos: {critical_path_length} minutos\")\n",
    "print(f\"Reducción del tiempo de trabajo: {critical_path_length_} minutos\")\n",
    "\n"
   ]
  },
  {
   "cell_type": "markdown",
   "metadata": {},
   "source": [
    "## Por favor, responda a las preguntas del examen de práctica a través del siguiente enlace.\n",
    "\n",
    "\n",
    "[Simulacro de examen](https://forms.gle/eYY47yu2Ht4aDuYS6)"
   ]
  },
  {
   "cell_type": "code",
   "execution_count": 12,
   "metadata": {},
   "outputs": [
    {
     "name": "stdout",
     "output_type": "stream",
     "text": [
      "QCKentei1-2.ipynb  ->  QCKentei1-2.html\n",
      "[NbConvertApp] Converting notebook QCKentei1-2.ipynb to html\n",
      "[NbConvertApp] Writing 656471 bytes to QCKentei1-2.html\n"
     ]
    }
   ],
   "source": [
    "notebook_name = 'QCKentei1-2.ipynb'\n",
    "notebook_name_html = notebook_name.replace(\".ipynb\",\".html\")\n",
    "print(notebook_name + '  ->  ' + notebook_name_html)\n",
    "\n",
    "!jupyter nbconvert --to html {notebook_name}"
   ]
  }
 ],
 "metadata": {
  "kernelspec": {
   "display_name": "3.10.5",
   "language": "python",
   "name": "python3"
  },
  "language_info": {
   "codemirror_mode": {
    "name": "ipython",
    "version": 3
   },
   "file_extension": ".py",
   "mimetype": "text/x-python",
   "name": "python",
   "nbconvert_exporter": "python",
   "pygments_lexer": "ipython3",
   "version": "3.10.5"
  }
 },
 "nbformat": 4,
 "nbformat_minor": 2
}
