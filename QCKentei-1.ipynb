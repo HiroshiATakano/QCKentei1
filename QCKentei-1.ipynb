{
 "cells": [
  {
   "cell_type": "code",
   "execution_count": 9,
   "metadata": {},
   "outputs": [],
   "source": [
    "import os\n",
    "\n",
    "try:\n",
    "  os.chdir('../Python/QCKentei')\n",
    "except:\n",
    "  pass\n",
    "\n",
    "path = os.getcwd()"
   ]
  },
  {
   "cell_type": "code",
   "execution_count": 10,
   "metadata": {},
   "outputs": [
    {
     "data": {
      "text/plain": [
       "'/Users/takanohiroshi/Library/CloudStorage/OneDrive-個人用/Documenten/Python/QCKentei'"
      ]
     },
     "execution_count": 10,
     "metadata": {},
     "output_type": "execute_result"
    }
   ],
   "source": [
    "path"
   ]
  },
  {
   "cell_type": "code",
   "execution_count": 11,
   "metadata": {},
   "outputs": [
    {
     "data": {
      "text/plain": [
       "array([ 9, 10, 10, 10, 12, 15, 26, 26, 26, 26, 33, 33, 35, 40, 42])"
      ]
     },
     "execution_count": 11,
     "metadata": {},
     "output_type": "execute_result"
    }
   ],
   "source": [
    "import pandas as pd\n",
    "import gspread \n",
    "from google.oauth2.service_account import Credentials\n",
    "\n",
    "# 認証情報の設定\n",
    "SERVICE_ACCOUNT_FILE = \"my-project-vscode-452201-249bdb033f8c.json\"  # JSONファイルのパス\n",
    "SCOPES = [\"https://www.googleapis.com/auth/spreadsheets\"]\n",
    "\n",
    "credentials = Credentials.from_service_account_file(SERVICE_ACCOUNT_FILE, scopes=SCOPES)\n",
    "client = gspread.authorize(credentials)\n",
    "\n",
    "# スプレッドシートを開く（URLまたはスプレッドシートIDを使用）\n",
    "SPREADSHEET_ID = \"1Ma7ehT4TAnkUwJjspP-C3mwJA1hYmbJr8B9GJSFI0lU\"\n",
    "\n",
    "sheet = client.open_by_key(SPREADSHEET_ID).worksheet(\"Sheet16\") # 最初のシートを取得\n",
    "\n",
    "# データを取得\n",
    "list_of_lists = sheet.get_all_records()\n",
    "df = pd.DataFrame(list_of_lists)\n",
    "df = df.set_index(df.columns[0])\n",
    "\n",
    "df = df.apply(pd.to_numeric)\n",
    "\n",
    "df.to_excel(\"Data_1/1_1.xlsx\",index=False)\n",
    "\n",
    "data = df['Data'].to_numpy()\n",
    "\n",
    "data"
   ]
  },
  {
   "cell_type": "code",
   "execution_count": 12,
   "metadata": {},
   "outputs": [
    {
     "data": {
      "text/plain": [
       "'\\n\\nfor notebook in notebooks:\\n    notebook_html = notebook.replace(\".ipynb\", \".html\")\\n\\n    print(f\"🔄 変換中: {notebook} → {notebook_html}\")\\n\\n    try:\\n        # nbconvertでHTMLへ変換\\n        subprocess.run(\\n            [\"jupyter\", \"nbconvert\", \"--to\", \"html\", notebook],\\n            check=True\\n        )\\n\\n        # 変換後のhtmlファイルを ../html に移動\\n        shutil.move(notebook_html, os.path.join(output_dir, notebook_html))\\n        print(f\"✅ 完了: {notebook_html} を {output_dir} に移動しました。\\n\")\\n\\n    except subprocess.CalledProcessError:\\n        print(f\"❌ エラー: {notebook} の変換に失敗しました。\\n\")\\n    except FileNotFoundError:\\n        print(f\"❌ エラー: {notebook_html} が見つかりません。移動できませんでした。\\n\")\\n\\n        '"
      ]
     },
     "execution_count": 12,
     "metadata": {},
     "output_type": "execute_result"
    }
   ],
   "source": [
    "import os\n",
    "import glob\n",
    "import subprocess\n",
    "import shutil\n",
    "\n",
    "# HTML保存先フォルダー（../html）がなければ作成\n",
    "output_dir = '../html'\n",
    "os.makedirs(output_dir, exist_ok=True)\n",
    "\n",
    "# カレントディレクトリのすべての .ipynb ファイルを取得\n",
    "notebooks = glob.glob(\"*.ipynb\")\n",
    "notebooks += glob.glob(\"../QCKentei2/*.ipynb\")\n",
    "\n",
    "# 実行中のノートブックは除外（必要なら）\n",
    "# current_nb = 'notebook_converter.ipynb'\n",
    "# notebooks = [nb for nb in notebooks if nb != current_nb]\n",
    "\n",
    "\n",
    "'''\n",
    "\n",
    "for notebook in notebooks:\n",
    "    notebook_html = notebook.replace(\".ipynb\", \".html\")\n",
    "\n",
    "    print(f\"🔄 変換中: {notebook} → {notebook_html}\")\n",
    "\n",
    "    try:\n",
    "        # nbconvertでHTMLへ変換\n",
    "        subprocess.run(\n",
    "            [\"jupyter\", \"nbconvert\", \"--to\", \"html\", notebook],\n",
    "            check=True\n",
    "        )\n",
    "\n",
    "        # 変換後のhtmlファイルを ../html に移動\n",
    "        shutil.move(notebook_html, os.path.join(output_dir, notebook_html))\n",
    "        print(f\"✅ 完了: {notebook_html} を {output_dir} に移動しました。\\n\")\n",
    "\n",
    "    except subprocess.CalledProcessError:\n",
    "        print(f\"❌ エラー: {notebook} の変換に失敗しました。\\n\")\n",
    "    except FileNotFoundError:\n",
    "        print(f\"❌ エラー: {notebook_html} が見つかりません。移動できませんでした。\\n\")\n",
    "\n",
    "        '''\n"
   ]
  },
  {
   "cell_type": "code",
   "execution_count": null,
   "metadata": {},
   "outputs": [],
   "source": []
  },
  {
   "cell_type": "code",
   "execution_count": null,
   "metadata": {},
   "outputs": [],
   "source": []
  }
 ],
 "metadata": {
  "kernelspec": {
   "display_name": "Python 3",
   "language": "python",
   "name": "python3"
  },
  "language_info": {
   "codemirror_mode": {
    "name": "ipython",
    "version": 3
   },
   "file_extension": ".py",
   "mimetype": "text/x-python",
   "name": "python",
   "nbconvert_exporter": "python",
   "pygments_lexer": "ipython3",
   "version": "3.10.5"
  }
 },
 "nbformat": 4,
 "nbformat_minor": 2
}
