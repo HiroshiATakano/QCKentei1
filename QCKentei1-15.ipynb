{
 "cells": [
  {
   "cell_type": "markdown",
   "metadata": {},
   "source": [
    "# Elementos de la gestión de la calidad"
   ]
  },
  {
   "cell_type": "markdown",
   "metadata": {},
   "source": [
    "## 15-01 Gestión de politicas\n",
    "\n",
    "### 1. Sistema de gestión de políticas y su operación\n",
    "* La gestión de políticas es una actividad en la que se alinean los vectores y se logra de manera orientada a lo importante, con la participación de todos los departamentos y niveles jerárquicos. Las políticas incluyen políticas a medio y largo plazo, así como políticas anuales.\n",
    "* Una política es la misión, la filosofía y la orientación de la organización, expresadas oficialmente por la alta dirección. Los elementos de una política generalmente incluyen tres aspectos: temas prioritarios, objetivos y estrategias.\n",
    "* Política = Objetivo(resultado) + Estrategia (causa, proceso)\n",
    "* Estrategia\n",
    "* Revisión\n",
    "\n",
    "### 2. Despliegue y alineación de políticas\n",
    "* Elemento de gestión\n",
    "\n",
    "### 3. Evaluación del grado de cumplimiento de las políticas y reflexión\n",
    "* Diagnóstico de la alta dirección\n",
    "* Problema del propio sistema de gestión de políticas\n",
    "* Se da importancia al proceso que conduce al resultado."
   ]
  },
  {
   "cell_type": "markdown",
   "metadata": {},
   "source": [
    "## 15-03 Gestión diaria\n",
    "\n",
    "### 1. Gestión diaria\n",
    "* En cada departamento de la organización, las tareas de asignación que deben realizarse de manera diaria son todas las actividades necesarias para lograr de manera eficiente los objetivos de esas tareas.\n",
    "* Gestión por departamentos\n",
    "* Mantener\n",
    "* Mejora\n",
    "* Asignación de tareas\n",
    "* Elementos de gestión\n",
    "* Puntos de inspección\n",
    "* Causa (factores)\n",
    "* Resultado\n",
    "\n",
    "### 2. Puntos de cambio y su gestión\n",
    "*"
   ]
  },
  {
   "cell_type": "markdown",
   "metadata": {},
   "source": [
    "## 15-04 Estandarización\n",
    "\n",
    "### 1. Objetivo, importancia y enfoque de la estandarización\n",
    "\n",
    "El término estándar se refiere a:\n",
    "\n",
    "a) Un acuerdo establecido con el propósito de unificar y simplificar para que las organizaciones o personas involucuradas obtengan beneficios o conveniencia de manera justa.\n",
    "\n",
    "b) Un método o elemento utilizado como criterio para otorgar universalidad a las mediciones, representando una magnitud específica, como el prototipo del kilogramo, las unidades del SI, los materiales de referencia o las muestras de color.\n",
    "\n",
    "La estandarización es una actividad que consiste en establecer acuerdos para su uso común y repetido con el objetivo de una gestión organizativa efectiva y eficiente. Se define el mejor método como  estándar, y al seguirlo todas las personas, se logra una forma de trabajo más eficiente.\n",
    "\n",
    "### 2. Estandarización interna y su implementación\n",
    "\n",
    "* Error-proofing\n",
    "* Estandarización interna\n",
    "* Los estándares necesarios en el alcance requerido\n",
    "\n",
    "### 3. Estandarización industrial, Estandarización internacional\n",
    "* International Organization for Standardization: ISO\n",
    "* International Electrotechnical Commission: IEC\n",
    "* International Telecommunication Union: ITU\n"
   ]
  },
  {
   "cell_type": "markdown",
   "metadata": {},
   "source": [
    "## 15-06 Diagnóstico y auditoría\n",
    "\n",
    "### 1. Auditoría de calidad\n",
    "* En un sistema de gestión, la auditoría es una herramienta eficaz para verificar su funcionamiento. Una auditoría es un proceso sistemático, independiente y documentado que consiste en recopilar evidencias objetivas y evaluarlas de manera objetiva para determinar el grado de cumplimiento de los criterios de auditoría.\n",
    "\n",
    "### 2. Diagnóstico por la alta dirección / Evaluación de la alta dirección"
   ]
  },
  {
   "cell_type": "markdown",
   "metadata": {},
   "source": [
    "## 15-07 Sistema de gestión de la calidad\n",
    "\n",
    "### 1. Principios de gestión de la calidad\n",
    "* Un sistema de gestión de la calidad es una parte del sistema de gestión relacionado con la calidad. Un sistema de gestión se refiere a un conjunto de elementos interrelacionados o que interactúan dentro de una organización, cuyo propósito es establecer políticas y objetivos, así como los procesos necesarios para alcanzar dichos objetivos.\n",
    "* Enfoque en el cliente\n",
    "* Liderazgo\n",
    "* Participación actual de las personas\n",
    "* Enfoque basado en procesos\n",
    "* Mejora\n",
    "* Toma de decisión basada en hechos de cliente\n",
    "* Gestión de las relaciones\n",
    "\n",
    "### 2. ISO9001\n",
    "* La norma internacional de ISO relativa a los sistemas de gestión de la calidad.\n",
    "\n",
    "### 3. Sistema de certificación por tercera parte / Esquema de acreditación de tercera parte\n",
    "\n",
    "### 4. Operación del sistema de gestión de la calidad\n",
    "\n"
   ]
  },
  {
   "cell_type": "code",
   "execution_count": 1,
   "metadata": {},
   "outputs": [
    {
     "name": "stdout",
     "output_type": "stream",
     "text": [
      "[NbConvertApp] Converting notebook QCKentei1-15.ipynb to html\n",
      "[NbConvertApp] Writing 585464 bytes to QCKentei1-15.html\n"
     ]
    }
   ],
   "source": [
    "notebook_name = 'QCKentei1-15.ipynb'\n",
    "notebook_name_html = notebook_name.replace(\".ipynb\",\".html\")\n",
    "\n",
    "!jupyter nbconvert --to html {notebook_name}"
   ]
  },
  {
   "cell_type": "code",
   "execution_count": null,
   "metadata": {},
   "outputs": [],
   "source": []
  }
 ],
 "metadata": {
  "kernelspec": {
   "display_name": "Python 3",
   "language": "python",
   "name": "python3"
  },
  "language_info": {
   "codemirror_mode": {
    "name": "ipython",
    "version": 3
   },
   "file_extension": ".py",
   "mimetype": "text/x-python",
   "name": "python",
   "nbconvert_exporter": "python",
   "pygments_lexer": "ipython3",
   "version": "3.10.5"
  }
 },
 "nbformat": 4,
 "nbformat_minor": 2
}
