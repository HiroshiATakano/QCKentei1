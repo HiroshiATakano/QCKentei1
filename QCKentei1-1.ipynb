{
 "cells": [
  {
   "cell_type": "markdown",
   "metadata": {},
   "source": [
    "# Cómo recopilar y organizar los datos\n",
    "\n",
    "## 01-01 Distribución hipergeométrica\n",
    "* Distribución hipergeométrica: La población se puede dividir en dos grupos, aquellos que tienen una cierta característica y aquellos que no la tienen (como productos conformes- no conformes, etc.)\n",
    "* Muestreo con reemplazo: Seguir una distribución binomial\n",
    "* Muestreo sin reemplazo: Seguir una distribución hipergeométrica\n",
    "* Corrección para población finita\n",
    "\n",
    "## 01-02 Muestreo de una población finita\n",
    "1. Propósito del muestreo\n",
    "* Valores medibles (valores continuos)\n",
    "* Valores contables (valores discretos o discontinuos)\n",
    "* Muestreo intencional: Muestrear de una parte específica de la población\n",
    "* Muestreo aleatorio: Extraer de manera amorosa\n",
    "* Muestreo aleatorio simple\n",
    "* Muestreo en dos etapas\n",
    "* Muestreo estratificado\n",
    "* Muestreo por conglomerados\n",
    "* Muestreo sistemático\n",
    "* Diseño del método de muestreo (precisión y costo)\n",
    "\n",
    "2. Estructura del error\n",
    "3. Muestreo aleatorio simple\n",
    "4. Muestreo en dos etapas\n",
    "5. Muestreo estratificado\n",
    "6. Muestreo por conglomerados"
   ]
  },
  {
   "cell_type": "code",
   "execution_count": 1,
   "metadata": {},
   "outputs": [],
   "source": [
    "import os\n",
    "\n",
    "try:\n",
    "  os.chdir('../Python/QCKentei')\n",
    "except:\n",
    "  pass\n",
    "\n",
    "path = os.getcwd()\n",
    "\n",
    "import pandas as pd\n",
    "import numpy as np"
   ]
  },
  {
   "cell_type": "markdown",
   "metadata": {},
   "source": [
    "## 1.1\n",
    "\n",
    "ひと箱25個入りの洗顔ソープを一ロット200箱として出荷している。出荷検査で洗顔ソープ1個の重量 $ x $ (g)を測定しており、重量の箱間のバラつきは $ \\sigma_b = 2.8 $ (g)であり、箱内のバラつきは $ \\sigma_w = 1.2 $ (g)で安定状態にある。ひと箱を開梱して再梱包するのに$ k_1 = 210 $ 円の費用がかかり、１箱を検査して再梱包するのに $ k_2 = 15 $ 円の費用がかかる。その他の費用や測定誤差は無視できるものとする。\n",
    "\n",
    "全体 $ 25 \\times 25 = 5000 $ 個から10個をサンプリングする単純ランダムサンプリング法と、200箱から5箱を選び、その箱から各2個の合計10個を検査する2段サンプリング法について、洗顔ソープ1個の重量 $ x $ の平均値とサンプリングの総費用を比較せよ\n",
    "\n",
    "\n",
    "Se envian lotes de 200 cajas de jabón facial, Cada una con 25 unidades. Para la inspección de envío, se mide el peso $ x $ (g) de cada jabón facial. La variación entre cajas es $ \\sigma_b = 2.8 $ (g), y la variación dentro de las cajas es $ \\sigma_w = 1.2 $ (g), manteniéndose estables. El costo de abrir y volver a empaquetar una caja es $ k_1 = 210 $ yenes, y el costo de inspeccionar y volver a empaquetar una caja $ k_2 = 15 $ yens. Se supone que otros costos y errores de medición son insignificantes.\n",
    "\n",
    "Comparar la media del peso $ x $ de los jabones faciales y el costo total de muestreo en los siguientes dos métodos:\n",
    "1. Muestreo aleatorios simple de 10 jabones de un total de 5000 unidad (200 x 25)\n",
    "2. Muestreo en dos etapas, donde se seleccionan 5 cajas de las 200 disponibles, y se toman 2 jabones de cada una, sumando un total de 10 unidades para la inspección."
   ]
  },
  {
   "cell_type": "code",
   "execution_count": 2,
   "metadata": {},
   "outputs": [
    {
     "name": "stdout",
     "output_type": "stream",
     "text": [
      "Muestreo aleatorio simple\n",
      "Varianza de la media del peso x de un jabón facial: 0.962 g^2\n",
      "Costo total cuando todos los jabones faciales se seleccionan de cajas diferetntes: 2250 Yenes\n",
      "Costo total cuando todos los jabones faciales se seleccionan de una sola caja: 360 yenes\n"
     ]
    }
   ],
   "source": [
    "# Parámetros definidos\n",
    "sigma_b = 2.8  # Variación entre cajas (g)\n",
    "sigma_w = 1.2  # Variación dentro de las cajas (g)\n",
    "k1 = 210       # Costo de abrir y volver a empaquetar una caja (g)\n",
    "k2 = 15        # Cost de inspeccionar y volver a empaquetar una caja (yenes)\n",
    "total_boxes = 200  # Número de lotes\n",
    "soaps_per_box = 25  # Número de jabones por caja\n",
    "total_soaps = total_boxes * soaps_per_box  # Número total de jabones (5000 unidades)\n",
    "n = 10 # Número total de jabones a inspeccionar\n",
    "\n",
    "# Varianza del muestreo aleatorio simple\n",
    "var = (sigma_b**2 / n) + (sigma_w**2 / n)\n",
    "# Corrección para población finita\n",
    "adj = (total_boxes*soaps_per_box -n)/(total_boxes*soaps_per_box -1)\n",
    "# Cálculo de la varianza con la corrección para población finita\n",
    "var_finite = var * adj\n",
    "var_finite = np.sqrt(var_finite)\n",
    "print(\"Muestreo aleatorio simple\")\n",
    "print(f\"Varianza de la media del peso x de un jabón facial: {var_finite:.3f} g^2\")\n",
    "\n",
    "# 1. Cuando todos los jabones faciales se seleccionan de cajas difrentes (selección de 10 cajas)\n",
    "sample_size = 10\n",
    "cost_diff_boxes = (sample_size * k1) + (sample_size * k2)\n",
    "# 2. Cuando todos los jabones faciales se seleccionan de una sola caja (selección de 10 jabones de una caja)\n",
    "cost_same_box = k1 + (sample_size * k2)\n",
    "\n",
    "print(f\"Costo total cuando todos los jabones faciales se seleccionan de cajas diferetntes: {cost_diff_boxes} Yenes\")\n",
    "print(f\"Costo total cuando todos los jabones faciales se seleccionan de una sola caja: {cost_same_box} yenes\")"
   ]
  },
  {
   "cell_type": "code",
   "execution_count": 3,
   "metadata": {},
   "outputs": [
    {
     "name": "stdout",
     "output_type": "stream",
     "text": [
      "\n",
      "Varianzá de la media en el muestreo en dos etapas: 1.294 g^2\n",
      "Costo total de método de muestreo en dos etapas: 1200 Yen\n"
     ]
    }
   ],
   "source": [
    "# Método de muestreo 2: Muestreo en dos etapas\n",
    "# Varianza de la variación entre cajas y dentro de las cajas\n",
    "m = 5\n",
    "variance_2stage = (sigma_b**2 / m)*(total_boxes - m)/(total_boxes - 1) + (sigma_w**2 / (m * 2)*(soaps_per_box - 2)/(soaps_per_box -1))\n",
    "variance_2stage = np.sqrt(variance_2stage)\n",
    "print(f\"\\nVarianzá de la media en el muestreo en dos etapas: {variance_2stage:.3f} g^2\")\n",
    "\n",
    "# Método de muestreo 2: Muestreo en dos etapas\n",
    "sample_size_2stage = 10\n",
    "cost_2stage = k1 * 5 + k2 * sample_size_2stage  # Costo de apertura + inspección\n",
    "print(f\"Costo total de método de muestreo en dos etapas: {cost_2stage} Yen\")\n"
   ]
  },
  {
   "cell_type": "code",
   "execution_count": 4,
   "metadata": {},
   "outputs": [
    {
     "name": "stdout",
     "output_type": "stream",
     "text": [
      "QCKentei1-1.ipynb  ->  QCKentei1-1.html\n",
      "[NbConvertApp] Converting notebook QCKentei1-1.ipynb to html\n",
      "[NbConvertApp] Writing 590852 bytes to QCKentei1-1.html\n"
     ]
    }
   ],
   "source": [
    "notebook_name = 'QCKentei1-1.ipynb'\n",
    "notebook_name_html = notebook_name.replace(\".ipynb\",\".html\")\n",
    "print(notebook_name + '  ->  ' + notebook_name_html)\n",
    "\n",
    "!jupyter nbconvert --to html {notebook_name}"
   ]
  },
  {
   "cell_type": "code",
   "execution_count": null,
   "metadata": {},
   "outputs": [],
   "source": []
  }
 ],
 "metadata": {
  "kernelspec": {
   "display_name": "Python 3",
   "language": "python",
   "name": "python3"
  },
  "language_info": {
   "codemirror_mode": {
    "name": "ipython",
    "version": 3
   },
   "file_extension": ".py",
   "mimetype": "text/x-python",
   "name": "python",
   "nbconvert_exporter": "python",
   "pygments_lexer": "ipython3",
   "version": "3.10.5"
  }
 },
 "nbformat": 4,
 "nbformat_minor": 2
}
