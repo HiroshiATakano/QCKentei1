{
 "cells": [
  {
   "cell_type": "markdown",
   "metadata": {},
   "source": [
    "# Ingeniería de la confiabilidad"
   ]
  },
  {
   "cell_type": "code",
   "execution_count": 1,
   "metadata": {},
   "outputs": [],
   "source": [
    "import os\n",
    "\n",
    "try:\n",
    "  os.chdir('../Python/QCKentei')\n",
    "except:\n",
    "  pass\n",
    "\n",
    "path = os.getcwd()"
   ]
  },
  {
   "cell_type": "code",
   "execution_count": 2,
   "metadata": {},
   "outputs": [],
   "source": [
    "import pandas as pd\n",
    "import numpy as np\n",
    "\n",
    "import matplotlib.pyplot as plt\n",
    "import seaborn as sns\n"
   ]
  },
  {
   "cell_type": "markdown",
   "metadata": {},
   "source": [
    "## 11-01 Ingeniería de la confiabilidad\n",
    "\n",
    "### 1. Ingeniería de la confiabilidad\n",
    " * La confiabilidad se define como la capacidad de un artículo para desempeñar su función durante un período determinado sin fallar, bajo condiciones específicas.\n",
    "\n",
    " * La confiabilidad $ R $ se refiere a la probabilidad de que un artículo realice su función correctamente durante el intervalo de tiempo $ (t_1, t_2) $, bajo condiciones dadas, y se expresa como $ R = 1-F $ (donde F es la no confiabilidad)\n",
    "\n",
    " * Confiabilidad de un sistema en serie\n",
    "\n",
    " $ R = R_1 \\times R_2 \\times ... \\times R_n $\n",
    "\n",
    " * Confiabilidad de un sistema en paralelo\n",
    "\n",
    " $ R = 1 - (1 - R_1) \\times (1-R_2) \\times ... \\times (1 - R_n) $\n"
   ]
  },
  {
   "cell_type": "markdown",
   "metadata": {},
   "source": [
    "## 11.1\n",
    "\n",
    "信頼度が80%のA部品を三つ用いて直列に結合した時の信頼度を求めよ。また、A部品を用いて、システムの信頼度を99%以上にするためには、少なくと何個の部品を用いて並列系を構成する必要があるかを求めよ。\n",
    "\n",
    "Determina la confiabilidad cuando tres componentes A, cada uno con una confiabilidad del 80%, se conectan en serie. Además, calcula cuántos componentes A se necesitan en paralelo para que la confiabilidad del sistema sea de al menos del 99%.\n",
    "\n"
   ]
  },
  {
   "cell_type": "code",
   "execution_count": 3,
   "metadata": {},
   "outputs": [
    {
     "name": "stdout",
     "output_type": "stream",
     "text": [
      "Confiabilidad cuando tres componentes A están conectados en serie: 0.5120\n",
      "Número mínimo de componentes A necesarios para que la confiabilidad del sistema sea de la menos el 99%: 3\n"
     ]
    }
   ],
   "source": [
    "# Confiabilidad cuando tres componentes A con una confiabilidad del 80% están conectado en serie.\n",
    "\n",
    "def series_reliability(r, n):\n",
    "    return r ** n\n",
    "\n",
    "# Determinar el número mínimo de componentes A con una confiabilidad 80% conectados\n",
    "# en paralelo para lograr una confiabilidad del sistema de al menos el 99%\n",
    "\n",
    "def required_parallel_units(r, target):\n",
    "    n = 1\n",
    "    while 1 - (1 - r) ** n < target:\n",
    "        n += 1\n",
    "    return n\n",
    "\n",
    "# Confiabilidad del componente A\n",
    "r_A = 0.8\n",
    "\n",
    "# Confiabilidad en conexión en serie\n",
    "series_r = series_reliability(r_A, 3)\n",
    "print(f\"Confiabilidad cuando tres componentes A están conectados en serie: {series_r:.4f}\")\n",
    "\n",
    "# Número mínimo de componentes en conecxión en paralelo para alcanzar al menos un 99% de confiabilidad\n",
    "min_parallel_units = required_parallel_units(r_A, 0.99)\n",
    "print(f\"Número mínimo de componentes A necesarios para que la confiabilidad del sistema sea de la menos el 99%: {min_parallel_units}\")"
   ]
  },
  {
   "cell_type": "markdown",
   "metadata": {},
   "source": [
    "### 1. FMEA (Failure Modes and Effects Analysis)\n",
    "\n",
    "Es un método para analizar los modos de fallo de los componentes y su impacto en los elementos superiores, con el fin de identificar posibles defectos.\n",
    "\n",
    "### 2. FTA (Fault Tree Analysis)\n",
    "\n",
    "Es un método para analizar los modos de fallo y las probabilidades de su ocurrencia utilizando símbolos lógicos, expandiendo los sucesos en un diagrama de árbol, retrocediendo a lo largo de la secuencia de eventos, y analizando las rutas y causas de ocurrencia.\n",
    "\n",
    "### 3. DR (Design Review)\n",
    "\n",
    "Debido a la complejización de las funciones del producto, depender únicamente de uno o pocos técnicos puede dar lugar a errores, omisiones o fallos relacionados con las nuevas tecnologías. Este enfoque busca prevenir estos problemas de manera proactiva y mejorar el nivel de diseño del producto mediante la integración de las perspectivas de un grupo más amplio de expertos.\n"
   ]
  },
  {
   "cell_type": "markdown",
   "metadata": {},
   "source": [
    "### 2. Durabilidad, Mantenibilidad y Fiabilidad del deseño\n",
    "\n",
    "#### (1) Durabilidad:\n",
    "* Robustez\n",
    "* Fiabilidad R\n",
    "* MTTF (Tiempo Medio Hasta Fallo)\n",
    "* Vida B10\n",
    "* Tasa de fallos $ \\lambda $\n",
    "* MTBF (Tiempo Medio Entre Fallos=\n",
    "\n",
    "#### (2) Mantenibilidad:\n",
    "* Facilidad de reparación\n",
    "* Mantenimiento correctivo\n",
    "* Mantenimiento preventivo\n",
    "* Índice de mantenibilidad R\n",
    "* MTTR (Tiempo Medio de Reparación\n",
    "\n",
    "#### (3) Fiabilidad del diseño:\n",
    "* Prevención de errores\n",
    "* Sistemas a prueba de fallos\n",
    "Fallo suave (sin daño completo)\n",
    "* Fallo suave (progresivo)\n"
   ]
  },
  {
   "cell_type": "markdown",
   "metadata": {},
   "source": [
    "## 11.2\n",
    "\n",
    "ある部品について、寿命の平均値が1200時間、標準偏差が20時間の正規分布に従うとき、B10ライフを求めよ。\n",
    "\n",
    "Para un determinado componente cuya vida útil sigue una distribución normal con una media de 1200 horas y una desviación estándar de 20 horas, determina la vida B10."
   ]
  },
  {
   "cell_type": "code",
   "execution_count": 4,
   "metadata": {},
   "outputs": [
    {
     "name": "stdout",
     "output_type": "stream",
     "text": [
      "Vida B10: 1174.37 horas\n"
     ]
    }
   ],
   "source": [
    "import scipy.stats as stats\n",
    "\n",
    "# Vida útil promedio y desviación estándar\n",
    "mean_life = 1200\n",
    "std_dev = 20\n",
    "\n",
    "# Cálculo de la vida B10 (percentil inferior del 10%)\n",
    "b10_life = stats.norm.ppf(0.10, loc=mean_life, scale=std_dev)\n",
    "\n",
    "print(f\"Vida B10: {b10_life:.2f} horas\")"
   ]
  },
  {
   "cell_type": "markdown",
   "metadata": {},
   "source": [
    "## 11.3\n",
    "\n",
    "６台のシステムの故障データは次のとおりであり、寿命分布は指数分布に従うとき、MTBFの点推定値と故障率λを求めよ。653,780,798,854,911,1038（時間）\n",
    "\n",
    "Los datos de fallos de seis sistemas son los siguientes: 653, 780, 798, 911 y 1038 horas.\n",
    "\n",
    "Si la distribución de vida sigue una distribución exponencial, determina la estimación puntual del MTBF y la tasa de fallos $ \\lambda $."
   ]
  },
  {
   "cell_type": "markdown",
   "metadata": {},
   "source": []
  },
  {
   "cell_type": "code",
   "execution_count": 5,
   "metadata": {},
   "outputs": [
    {
     "name": "stdout",
     "output_type": "stream",
     "text": [
      "MTBF（Fallos por unidad de tiemp）: 839.00 horas\n",
      "Tasa de fallos λ: 0.0012 （fallos/horas）\n"
     ]
    }
   ],
   "source": [
    "# Datos de fallos\n",
    "failure_times = [653, 780, 798, 854, 911, 1038]\n",
    "\n",
    "# Cálculo del MTBF（Tiempo Medio Entre Fallos）\n",
    "mtbf = sum(failure_times) / len(failure_times)\n",
    "\n",
    "# Cálculo de la tasa de fallos λ （λ = 1/MTBF）\n",
    "failure_rate = 1 / mtbf\n",
    "\n",
    "print(f\"MTBF（Fallos por unidad de tiemp）: {mtbf:.2f} horas\")\n",
    "print(f\"Tasa de fallos λ: {failure_rate:.4f} （fallos/horas）\")\n"
   ]
  },
  {
   "cell_type": "markdown",
   "metadata": {},
   "source": [
    "## 11.4\n",
    "\n",
    "故障した場合に修理を考える修理系では、耐久性と保全性を同時に考慮し総合的に評価する尺度としてアベイラビリティが用いられる。アベイラビリティを求める式に用いる耐久性の尺度と保全性の尺度について答え、それらの尺度を用いてアベイラビリティの計算式を答えよ。\n",
    "\n",
    "En los sistemas de reparación donde se considera la reparación en caso de fallos, se utiliza la disponibilidad como un indicador integral que evalúa simultáneamente la durabilidad y la mantenibilidad. Responde sobre las métricas de durabilidad y mantenibilidad que se utilizan en la fórmula para calcular la disponibilidad y proporciona la fórmula de cálculo de la disponibilidad utilizando estas métricas.\n"
   ]
  },
  {
   "cell_type": "markdown",
   "metadata": {},
   "source": [
    "La disponibilidad en un sistema de reparación se calcula como la relación entre el tiempo de funcionamiento del sistema (tiempo de actividad) y el tiempo total, cuando se divide en tiempo de actividad y tiempo de inactividad (tiempo de reparación).\n",
    "* Métrica de durabilidad: MTBF (Tiempo Medio Entre Fallos)\n",
    "* Métrica de mantenibilidad: MTTR (Tiempo Medio de Reparación)\n",
    "* Disponibilidad = MTBF / (MTBF + MTTR)\n"
   ]
  },
  {
   "cell_type": "markdown",
   "metadata": {},
   "source": [
    "## 11-02 Cómo resumir y analizar los datos de confiabilidad\n",
    "\n",
    "### 1. Distribución de Weibull\n",
    "* Función de distribución de la distribución de Weibull: No confiabilidad F(t)\n",
    "* Parámetro de ubicación\n",
    "* Parámetro de forma\n",
    "* Curva en forma de de bañera\n",
    "* Parámetro de escala\n"
   ]
  },
  {
   "cell_type": "markdown",
   "metadata": {},
   "source": [
    "## 11-02\n",
    "\n",
    "ある部品の寿命データをワイブル確率紙で解析し、図１１．４の結果を得た。以下の設問に答えよ。\n",
    "1. 形状パラメータ $ m $ を求め、故障パターンを答えよ。\n",
    "2. 尺度パラメータ $ \\eta $ を求めよ。\n",
    "3. 3000時間での部品信頼度を求めよ。\n",
    "\n",
    "Se realizó un análisis de los datos de vida útil de un componente utilizando el papel de probabilidad de Weibull, y se obtuvo el resultado mostrado en la Figura 11.4. Responda las siguientes preguntas:\n",
    "1. Calcule el parámetro de forma $ m $ y determine el patrón de fallas.\n",
    "2. Calcule el parámetro de escala $ \\eta $.\n",
    "3. Calcule la fiabilidad del componente a las 3000 horas."
   ]
  },
  {
   "cell_type": "code",
   "execution_count": 6,
   "metadata": {},
   "outputs": [],
   "source": [
    "import gspread \n",
    "from google.oauth2.service_account import Credentials\n",
    "\n",
    "# 認証情報の設定\n",
    "SERVICE_ACCOUNT_FILE = \"my-project-vscode-452201-249bdb033f8c.json\"  # JSONファイルのパス\n",
    "SCOPES = [\"https://www.googleapis.com/auth/spreadsheets\"]\n",
    "\n",
    "credentials = Credentials.from_service_account_file(SERVICE_ACCOUNT_FILE, scopes=SCOPES)\n",
    "client = gspread.authorize(credentials)\n",
    "\n",
    "# スプレッドシートを開く（URLまたはスプレッドシートIDを使用）\n",
    "SPREADSHEET_ID = \"1RkO0VL4WR6cbPBfBEjz693Lo4SdUAoSvRHV491ggXTo\"\n",
    "\n",
    "sheet = client.open_by_key(SPREADSHEET_ID).worksheet(\"Sheet18\") # 最初のシートを取得\n",
    "\n",
    "# データを取得\n",
    "list_of_lists = sheet.get_all_values()\n",
    "df = pd.DataFrame(list_of_lists)\n",
    "df.columns = df.iloc[0]\n",
    "df = df.drop(index=0)\n",
    "df = df.apply(pd.to_numeric)\n",
    "\n",
    "df.to_excel('Data_1/11_2.xlsx')"
   ]
  },
  {
   "cell_type": "code",
   "execution_count": 7,
   "metadata": {},
   "outputs": [
    {
     "data": {
      "image/png": "[encoded data removed]",
      "text/plain": [
       "<Figure size 576x432 with 1 Axes>"
      ]
     },
     "metadata": {
      "needs_background": "light"
     },
     "output_type": "display_data"
    },
    {
     "name": "stdout",
     "output_type": "stream",
     "text": [
      "Parámetro de forma estimado m = 1.49\n",
      "Parámetro de escala estimado η = 20033\n",
      "t = Fiabilidad R(t) en 3000: 0.943\n"
     ]
    }
   ],
   "source": [
    "from scipy.stats import linregress\n",
    "import matplotlib.ticker as ticker\n",
    "\n",
    "# Data\n",
    "Time = df['Time']\n",
    "F = df['F']\n",
    "\n",
    "# Eje Y transformado a Weibull\n",
    "Y = np.log(np.log(1 / (1 - F)))\n",
    "\n",
    "# Eje X transformado a logaritmo\n",
    "X = np.log(Time)\n",
    "\n",
    "# Estimación de los parámetros de Weibull mediante regresión lineal\n",
    "slope, intercept, r_value, p_value, std_err = linregress(X, Y)\n",
    "\n",
    "# Cálculo del parámetro de forma m y del parámetro de escala η\n",
    "m = slope\n",
    "eta = np.exp(-intercept / m)\n",
    "\n",
    "# Plot\n",
    "plt.figure(figsize=(8, 6))\n",
    "plt.scatter(X, Y, color='blue', label='Data')\n",
    "plt.plot(X, slope * X + intercept, color='red', label=f'Línea de Weibull (m={m:.2f}, η={eta:.0f})')\n",
    "\n",
    "\n",
    "#\n",
    "plt.xlabel(\"ln t(horas)\")\n",
    "plt.ylabel(\"ln(ln(1/(1-F(t))))\")\n",
    "plt.title(\"Figura 11.4: Análisis de datos mediante el papel de probabilidad de Weibull\")\n",
    "\n",
    "#\n",
    "plt.grid(True, which=\"both\", linestyle=\"--\")\n",
    "plt.legend()\n",
    "plt.show()\n",
    "\n",
    "# Representacion del parámetro de forma m y η\n",
    "print(f\"Parámetro de forma estimado m = {m:.2f}\")\n",
    "print(f\"Parámetro de escala estimado η = {eta:.0f}\")\n",
    "\n",
    "# Cálculo de la fiabilidad a t=3000\n",
    "t = 3000\n",
    "R_t = np.exp(- (t / eta) ** m)\n",
    "\n",
    "#\n",
    "print(f\"t = Fiabilidad R(t) en {t}: {R_t:.3f}\")\n"
   ]
  },
  {
   "cell_type": "markdown",
   "metadata": {},
   "source": [
    "## 11-04\n",
    "\n",
    "製品の寿命分布がワイブル分布に従い、平均寿命が１０００時間の場合のB10ライフを求める。ただし、ワイブル分布の形状パラメータ $ \\beta $は１．５として計算する。\n",
    "* $ \\beta = 1.5 $ 劣化型の故障分布：使い続けるうちに徐々に故障しやすくなる特性をもっており、電子機器や家電製品に適用されることが多い。\n",
    "\n",
    "\n",
    "La distribución de vida de un producto sigue una distribución de Weibull, y se requiere calcular la vida B10 cuando la vida promedio del producto es de 1000 horas, con el parámetro de forma $ \\beta = 1.5 $\n",
    "Dado que  $ \\beta = 1.5 $ es un tipo de distribución de fallos por degradación: los productos tienden a volverse más propensos a fallar con el tiempo, un comportamiento común en equipos electrónicos y electrodomésticos.\n"
   ]
  },
  {
   "cell_type": "code",
   "execution_count": 8,
   "metadata": {},
   "outputs": [
    {
     "name": "stdout",
     "output_type": "stream",
     "text": [
      "Parámetro de forma β = 1.5\n",
      "Parámetro de escala λ = 1107.73\n"
     ]
    }
   ],
   "source": [
    "import numpy as np\n",
    "from scipy.special import gamma\n",
    "\n",
    "# Vida útil promedio objetivo\n",
    "mean_lifetime = 1000  # Vida útil promedio (horas)\n",
    "\n",
    "# Parámetro de forma (supuesto)\n",
    "beta_param = 1.5\n",
    "\n",
    "# Obtener el parámetro de escala  λ utilizando la fórmula de vida útil promedio\n",
    "lambda_param = mean_lifetime / gamma(1 + 1 / beta_param)\n",
    "\n",
    "#\n",
    "print(f\"Parámetro de forma β = {beta_param}\")\n",
    "print(f\"Parámetro de escala λ = {lambda_param:.2f}\")\n"
   ]
  },
  {
   "cell_type": "code",
   "execution_count": 9,
   "metadata": {},
   "outputs": [
    {
     "data": {
      "image/png": "[encoded data removed]",
      "text/plain": [
       "<Figure size 576x432 with 1 Axes>"
      ]
     },
     "metadata": {
      "needs_background": "light"
     },
     "output_type": "display_data"
    },
    {
     "name": "stdout",
     "output_type": "stream",
     "text": [
      "Vida B10 = 1931.58 horas\n"
     ]
    }
   ],
   "source": [
    "import matplotlib.pyplot as plt\n",
    "from scipy.stats import weibull_min\n",
    "\n",
    "# Parámetros de la distribuchión de Weibull\n",
    "lambda_param = lambda_param  # Parámetro de escala jerárquica\n",
    "beta_param = beta_param  # Parámetro de forma\n",
    "\n",
    "# Calcular la vida B10 utilizando la función de distribución acumulada (CDF)\n",
    "# de la distribución de Weibull\n",
    "B10 = lambda_param * (-np.log(0.1))**(1 / beta_param)\n",
    "\n",
    "# Establecer el rango del eje de tiempo (de 0 a 5000 horas)\n",
    "time = np.linspace(0, 5000, 500)\n",
    "\n",
    "# Función de distribución acumulada（CDF）de la distribución de Weibull\n",
    "cdf = weibull_min.cdf(time, beta_param, scale=lambda_param)\n",
    "\n",
    "# Gráfico\n",
    "plt.figure(figsize=(8, 6))\n",
    "plt.plot(time, cdf, label=f'Distribución de Weibull CDF (β={beta_param:.1f}, λ={lambda_param:.0f})')\n",
    "plt.axvline(x=B10, color='r', linestyle='--', label=f'Vida B10 = {B10:.0f}horas')\n",
    "\n",
    "# Etiquetas y títlo del gráfico\n",
    "plt.title(\"Distribución de Weibull y vida B10\")\n",
    "plt.xlabel(\"Vida útil (horas)\")\n",
    "plt.ylabel(\"Probabilidad acumulada\")\n",
    "plt.legend()\n",
    "\n",
    "#\n",
    "plt.grid(True)\n",
    "plt.show()\n",
    "\n",
    "# Mostrar la vida B10\n",
    "print(f\"Vida B10 = {B10:.2f} horas\")\n"
   ]
  },
  {
   "cell_type": "markdown",
   "metadata": {},
   "source": [
    "## 2. Datos censurados a mitad de periodo\n",
    "\n",
    "* Datos censurados a tiempo\n",
    "* Datos censurados a tiempo (Tipo II)\n",
    "* Datos censurados aleatoriamente"
   ]
  },
  {
   "cell_type": "markdown",
   "metadata": {},
   "source": [
    "## 11.6\n",
    "\n",
    "ある部品についてサンプル数 $ n = 7 $で寿命試験を行った。その結果を表１１．２に示す。〇印は故障前に中途打ち切りしたデータでｘ印は故障を示す。以下の設問に答えよ。\n",
    "1. 表１１．２のデータ打ち切りデータの区分は何かを答えよ。\n",
    "2. Ｎｏ４の故障データ４５０００時間における累積ハザード関数$ H(t) $を求めよ。\n",
    "\n",
    "Se realizó una prueba de vida útil en un determinado componente con un tamaño de muestra de $ n=7 $. Los resultados se muestran en la Table 11.2. El símbolo $ \\bigcirc $ indica datos censurados antes de la falla, mientras que el símbolo $ \\times $ indica fallas. Responda las siguientes preguntas:\n",
    "1. ¿Cuál es la clasificación de los datos censurados en la Tabla 11.2?\n",
    "2. Calcula la función de riesgo acumulada $ H(t) $ en $ t=45000 $ horas para el dato de falla del No.4.\n"
   ]
  },
  {
   "cell_type": "code",
   "execution_count": 10,
   "metadata": {},
   "outputs": [
    {
     "name": "stdout",
     "output_type": "stream",
     "text": [
      "Tabla 11.2: Resultados de la prueba de vida útil (unidad: x1000 horas) \n",
      " No  Data (Hora) 〇／✕\n",
      "  1           25   ✕\n",
      "  2           34   ✕\n",
      "  3           38   〇\n",
      "  4           45   ✕\n",
      "  5           51   〇\n",
      "  6           54   ✕\n",
      "  7           68   ✕\n",
      "\n",
      "【Respuesta】\n",
      "1. Clasificación de los datos censurados: \n",
      "   Los datos de 38 horas y 51 horas son censurados aleatoriamente (censura por la derecha）\n",
      "2. Función de riesgo acumulada H(t) para el No.4（45,000 horas）: 0.510\n"
     ]
    }
   ],
   "source": [
    "# Data\n",
    "data_dict = {\n",
    "    \"No\": [1, 2, 3, 4, 5, 6, 7],\n",
    "    \"Data (Hora)\": [25, 34, 38, 45, 51, 54, 68],\n",
    "    \"〇／✕\": ['✕', '✕', '〇', '✕', '〇', '✕', '✕']\n",
    "}\n",
    "\n",
    "df = pd.DataFrame(data_dict)\n",
    "\n",
    "print(\"Tabla 11.2: Resultados de la prueba de vida útil (unidad: x1000 horas) \")\n",
    "print(df.to_string(index=False))\n",
    "\n",
    "# ① Clasificación de los datos censuados\n",
    "censored_types = \"Los datos de 38 horas y 51 horas son censurados aleatoriamente (censura por la derecha）\"\n",
    "\n",
    "# ② Cálculo de la función de riesgo acumulada H(t) mediante el método de Nelson-Aalen\n",
    "df_sorted = df.sort_values(\"Data (Hora)\").reset_index(drop=True)\n",
    "\n",
    "# Extraer solo los datos de fallos\n",
    "failure_times = df_sorted[df_sorted[\"〇／✕\"] == '✕'][\"Data (Hora)\"].values\n",
    "\n",
    "# Cálculo de H(t)\n",
    "H_t_values = []\n",
    "H_t = 0\n",
    "n = len(df)  # Número inicial de sujetos de prueba\n",
    "\n",
    "for i, t_i in enumerate(failure_times):\n",
    "    r_i = n - i  # Número de suetos de prueba que sobreviven en el tiempo t_i\n",
    "    H_t += 1 / r_i\n",
    "    H_t_values.append((t_i, H_t))\n",
    "\n",
    "# H(t) en el tiempo de 45,000 horas para el No.4\n",
    "H_45000 = next(H for t, H in H_t_values if t == 45)\n",
    "\n",
    "'''\n",
    "# Cálculo de la función de riesto acumulada H(t)（método Kaplan-Meier）\n",
    "failure_times = np.array([25, 34, 45, 54, 68])  # Solo datos de fallos\n",
    "n = len(df)  # Tamaño de la muestra 7\n",
    "H_t = sum(1 / (n - i) for i in range(len(failure_times)) if failure_times[i] <= 45)\n",
    "'''\n",
    "\n",
    "#\n",
    "print(\"\\n【Respuesta】\")\n",
    "print(f\"1. Clasificación de los datos censurados: \")\n",
    "print(f\"   {censored_types}\")\n",
    "print(f\"2. Función de riesgo acumulada H(t) para el No.4（45,000 horas）: {H_45000:.3f}\")\n"
   ]
  },
  {
   "cell_type": "code",
   "execution_count": 11,
   "metadata": {},
   "outputs": [
    {
     "name": "stdout",
     "output_type": "stream",
     "text": [
      "[NbConvertApp] Converting notebook QCKentei1-11.ipynb to html\n",
      "[NbConvertApp] Writing 695865 bytes to QCKentei1-11.html\n"
     ]
    }
   ],
   "source": [
    "notebook_name = 'QCKentei1-11.ipynb'\n",
    "notebook_name_html = notebook_name.replace(\".ipynb\",\".html\")\n",
    "\n",
    "!jupyter nbconvert --to html {notebook_name}"
   ]
  },
  {
   "cell_type": "code",
   "execution_count": null,
   "metadata": {},
   "outputs": [],
   "source": []
  }
 ],
 "metadata": {
  "kernelspec": {
   "display_name": "Python 3",
   "language": "python",
   "name": "python3"
  },
  "language_info": {
   "codemirror_mode": {
    "name": "ipython",
    "version": 3
   },
   "file_extension": ".py",
   "mimetype": "text/x-python",
   "name": "python",
   "nbconvert_exporter": "python",
   "pygments_lexer": "ipython3",
   "version": "3.10.5"
  }
 },
 "nbformat": 4,
 "nbformat_minor": 2
}
