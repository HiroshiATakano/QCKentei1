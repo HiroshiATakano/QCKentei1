{
 "cells": [
  {
   "cell_type": "markdown",
   "metadata": {},
   "source": [
    "# Ética y responsabilidad social\n",
    "\n",
    "En todos las actividades de la empresa, empezando por las de gestión de la calidad, la ética es el estándar.\n",
    "Es crucial que quienes se dedican a la gestión de la calidad tengan una gran conciencia ética al ofrecer los productos y servicios de su empresa.\n",
    "Además, es importante que las empresas no solo persiguen el beneficio, sino que también cumplan con su responsabilidad social para coexistir con la sociedad.\n",
    "\n",
    "[Audio_1](https://drive.google.com/file/d/1UbTz3iINb096P3kEkaTlyD2CejC3QTdy/view?usp=drive_link)"
   ]
  },
  {
   "cell_type": "markdown",
   "metadata": {},
   "source": [
    "## 16-01 Ética y responsabilidad social\n",
    "倫理・社会的責任\n",
    "\n",
    "### 1. Ética\n",
    "倫理\n",
    "\n",
    "Las empresas deben además de cumplir con la legislación, establecer y gestionar fundamentos básicos --como la filosofía de gestión y las directrices de conducta-- que consideren esenciales y obligatorios en sus actividades empresariales, abarcando no solo la seguridad y calidad de sus productos y servicios, sino también aspectos morales como el medio ambiente y los derechos humanos. Esto se denomina ética empresarial.\n",
    "\n",
    "### 2. Responsabilidad social\n",
    "社会的責任\n",
    "\n",
    "**CSR**: Corporate Social Responsibility\n",
    "\n",
    "No se trata únicamente de perseguir las ganancias propias, sino de comprender la responsabilidad que las actividades empresariales tienen sobre la economía, la sociedad y el medio ambiente, y de formular una estrategia de gestión que permita un desarrollo sostenible tanto para la empresa como para la sociedad, llevando a cabo las actividades empresariales en consecuencia.\n",
    "\n",
    "[Audio_2](https://drive.google.com/file/d/19a0ONd-KjqAHDg0BOtfzrEGNfpKYv-p3/view?usp=drive_link)\n"
   ]
  },
  {
   "cell_type": "markdown",
   "metadata": {},
   "source": [
    "## Por favor, responda a las preguntas del examen de práctica a través del siguiente enlace.\n",
    "\n",
    "\n",
    "[Simulacro de examen](https://forms.gle/ye95umKSQxzxCfES9)"
   ]
  },
  {
   "cell_type": "code",
   "execution_count": 1,
   "metadata": {},
   "outputs": [
    {
     "name": "stdout",
     "output_type": "stream",
     "text": [
      "[NbConvertApp] Converting notebook QCKentei1-16.ipynb to html\n",
      "[NbConvertApp] Writing 578816 bytes to QCKentei1-16.html\n"
     ]
    }
   ],
   "source": [
    "notebook_name = 'QCKentei1-16.ipynb'\n",
    "notebook_name_html = notebook_name.replace(\".ipynb\",\".html\")\n",
    "\n",
    "!jupyter nbconvert --to html {notebook_name}"
   ]
  }
 ],
 "metadata": {
  "kernelspec": {
   "display_name": "3.10.5",
   "language": "python",
   "name": "python3"
  },
  "language_info": {
   "codemirror_mode": {
    "name": "ipython",
    "version": 3
   },
   "file_extension": ".py",
   "mimetype": "text/x-python",
   "name": "python",
   "nbconvert_exporter": "python",
   "pygments_lexer": "ipython3",
   "version": "3.10.5"
  }
 },
 "nbformat": 4,
 "nbformat_minor": 2
}
