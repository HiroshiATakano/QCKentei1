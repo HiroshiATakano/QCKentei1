{
 "cells": [
  {
   "cell_type": "markdown",
   "metadata": {},
   "source": [
    "# El concepto de calidad\n",
    "\n",
    "## 13-01 El concepto de calidad\n",
    "\n",
    "### 1. Definición de calidad\n",
    "* El grado en que se satisfacen las necesidades explícitas, implícitas o latentes de los elementos de interés, como productos, servicios, procesos, sistemas, gestión y cultura organizacional.\n",
    "\n",
    "### 2. Calidad social\n",
    "* Se refiere al grado en que los productos o servicios afectan a la sociedad y al medio ambiente, además de los compradores o usuarios.\n",
    "\n",
    "### 3-1. Satisfacción del cliente (CS)\n",
    "* Se refiere a la percepción del cliente sobre el grado en que se cumplen sus expectativas.\n",
    "\n",
    "### 3-2. Valor del cliente\n",
    "* El valor que el cliente percibe a través del producto o servicio."
   ]
  },
  {
   "cell_type": "code",
   "execution_count": 1,
   "metadata": {},
   "outputs": [
    {
     "name": "stdout",
     "output_type": "stream",
     "text": [
      "[NbConvertApp] Converting notebook QCKentei1-13.ipynb to html\n",
      "[NbConvertApp] Writing 577361 bytes to QCKentei1-13.html\n"
     ]
    }
   ],
   "source": [
    "notebook_name = 'QCKentei1-13.ipynb'\n",
    "notebook_name_html = notebook_name.replace(\".ipynb\",\".html\")\n",
    "\n",
    "!jupyter nbconvert --to html {notebook_name}"
   ]
  },
  {
   "cell_type": "code",
   "execution_count": null,
   "metadata": {},
   "outputs": [],
   "source": []
  }
 ],
 "metadata": {
  "kernelspec": {
   "display_name": "Python 3",
   "language": "python",
   "name": "python3"
  },
  "language_info": {
   "codemirror_mode": {
    "name": "ipython",
    "version": 3
   },
   "file_extension": ".py",
   "mimetype": "text/x-python",
   "name": "python",
   "nbconvert_exporter": "python",
   "pygments_lexer": "ipython3",
   "version": "3.10.5"
  }
 },
 "nbformat": 4,
 "nbformat_minor": 2
}
