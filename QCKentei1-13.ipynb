{
 "cells": [
  {
   "cell_type": "markdown",
   "metadata": {},
   "source": [
    "# El concepto de calidad\n",
    "\n",
    "Para llevar a cabo el control de calidad, es necesario entender qué es la calidad."
   ]
  },
  {
   "cell_type": "markdown",
   "metadata": {},
   "source": [
    "## 13-01 El concepto de calidad\n",
    "\n",
    "### 1. Definición de calidad\n",
    "\n",
    "El grado en que se satisfacen las **necesidades** explícitas, implícitas o latentes de los elementos de interés, como productos, servicios, procesos, sistemas, gestión y cultura organizacional.\n",
    "\n",
    "La **calidad** no solo se refiere a las características de un producto, sino que también engloba conceptos como el servicio y el impacto social.\n",
    "Mejorarla requiere de un compromiso de toda la organización.\n",
    "\n",
    "Las **necesidades** abarcan las de los cliente y la sociedad, e incluyen no solo las necesidades explicítas, sino también las implicítas y las latentes.\n",
    "\n",
    "\n",
    "### 2. Calidad social\n",
    "\n",
    "**Calidad social**: se refiere al grado en que los productos o servicios afectan a la sociedad y al medio ambiente, además de los compradores o usuarios.\n",
    "\n",
    "Tradicionalmente, la **calidad** solo requería satisfacer las exigencias del proveedor y del cliente.\n",
    "Sin embargo, hoy en día esto es insuficiente; es necesario diseñar, fabricar y vender productos que no\n",
    "causen perjuicios a la sociedad.\n",
    "\n",
    "* Contaminación del aire por las emisiones de gases de escape de las fábricas.\n",
    "\n",
    "* El problema del calentamiento global causado por los gases de efecto invernadero, principalmente el dióxido de carbono."
   ]
  },
  {
   "cell_type": "markdown",
   "metadata": {},
   "source": [
    "### 3-1. Satisfacción del cliente (CS)\n",
    "\n",
    "Se refiere a la percepción del cliente sobre el grado en que se cumplen sus expectativas.\n",
    "\n",
    "En Japón, la satisfacción del cliente se refiere al grado en que las expectativas previas, tanto explicítas como implicítas o latentes, asi como las necesidades del cliente, se ven cumplidas por la eficacia del producto o servicio ofrecido.\n",
    "\n",
    "Para mejorar la **satisfacción del cliente**, es clave impulsar las actividades prestando atención a los siguientes tres puntos:\n",
    "\n",
    "1. También es necesario satisfacer las expectativas del cliente, incluso cuando este no las reconoce o no las ha expresado de forma explicita, para lograr un alto grado de satisfacción.\n",
    "Para lograrlo, es crucial adoptar la perspectiva del cliente y hacer evidentes las necesidades latentes que se encuentran en lo más profundo de sus deseos.\n",
    "\n",
    "2. Que no haya quejas no significa necesariamente que la satisfacción del cliente sea alta.\n",
    "La mayoría de los clientes insatisfechos no se queja, simplemente dejan de comprar en el futuro.\n",
    "\n",
    "3. Cumplir con los requisitos acordados con el cliente no garantiza por sí solo un alto nivel de satisfacción del cliente.\n",
    "Dado que la definición del cliente varía según cada cliente, es necesario monitorear no solo la información y los requisitos que proporcionan, sino también el estado de los pedidos.\n",
    "Además, se deben realizar encuestas de satisfacción del cliente cuando sea necesario.\n",
    "\n",
    "\n",
    "### 3-2. Valor del cliente\n",
    "\n",
    "El valor que el cliente percibe a través del producto o servicio.\n",
    "\n",
    "La competencia reciente es cada vez más feroz,por lo que es fundamental que las organizaciones formen a su personal, implementen reformas organizacionales y generen innovación para crear un alto valor para el cliente.\n"
   ]
  },
  {
   "cell_type": "code",
   "execution_count": 3,
   "metadata": {},
   "outputs": [
    {
     "name": "stdout",
     "output_type": "stream",
     "text": [
      "[NbConvertApp] Converting notebook QCKentei1-13.ipynb to html\n",
      "[NbConvertApp] Writing 580744 bytes to QCKentei1-13.html\n"
     ]
    }
   ],
   "source": [
    "notebook_name = 'QCKentei1-13.ipynb'\n",
    "notebook_name_html = notebook_name.replace(\".ipynb\",\".html\")\n",
    "\n",
    "!jupyter nbconvert --to html {notebook_name}"
   ]
  },
  {
   "cell_type": "code",
   "execution_count": null,
   "metadata": {},
   "outputs": [],
   "source": []
  }
 ],
 "metadata": {
  "kernelspec": {
   "display_name": "3.10.5",
   "language": "python",
   "name": "python3"
  },
  "language_info": {
   "codemirror_mode": {
    "name": "ipython",
    "version": 3
   },
   "file_extension": ".py",
   "mimetype": "text/x-python",
   "name": "python",
   "nbconvert_exporter": "python",
   "pygments_lexer": "ipython3",
   "version": "3.10.5"
  }
 },
 "nbformat": 4,
 "nbformat_minor": 2
}
