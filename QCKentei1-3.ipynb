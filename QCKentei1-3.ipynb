{
 "cells": [
  {
   "cell_type": "markdown",
   "metadata": {},
   "source": [
    "# Fundamentos de los métodos estadísticos"
   ]
  },
  {
   "cell_type": "markdown",
   "metadata": {},
   "source": [
    "## 03-01 Variable aleatoria y distribución de probabilidad\n",
    "\n",
    "1. Variable aleatoria y distribución de probabilidad\n",
    "* Variable aleatoria\n",
    "* Distribución de probabilidad\n",
    "* Variable aleatoria discreta\n",
    "* Variable aleatoria continua\n",
    "* Función de densidad de probabilidad\n",
    "* Estandarización:\n",
    "\n",
    "$ U = \\frac{X - \\mu}{\\sigma} $\n",
    "* Distribución normal estándar:\n",
    "\n",
    "$ N(0, 1^2) $\n",
    "\n",
    "2. Valor esperado de la variable aleatoria\n",
    "\n",
    "$ E(X) = \\sum_i x_i p_i = \\mu $\n",
    "\n",
    "$ E(X) = \\int_{- \\infty}^{\\infty} x f(x) dx = \\mu $\n",
    "* Propiedades del valor esperado:\n",
    "\n",
    "$ E(aX + b) = aE(X) + b $\n",
    "\n",
    "$ E(aX + bY) = aE(X) + bE(Y) $\n",
    "\n",
    "3. Propiedades de Varianza\n",
    "* Varianza poblacional:\n",
    "\n",
    "$ V(X) = E|(X - \\mu)^2| = \\sigma^2 $\n",
    "\n",
    "$ V(X) = E|(x - \\mu)^2| = E(X^2) - \\mu^2 $\n",
    "* Aditividad de la varianza:\n",
    "\n",
    "$ V(aX+b) = a^2V(X) $\n",
    "\n",
    "$ V(aX+bY) = a^2V(X) + b^2V(Y)+2Cov(X,Y) $\n",
    "\n",
    "$ V(aX+bY) = a^2V(X) + b^2V(Y) $ Cuando X e Y son independiente entre sí\n",
    "\n",
    "4. Varianza de la variable aleatoria\n",
    "\n",
    "$ V(X+Y) = V(X)+V(Y) $ $ V(X-Y)=V(X)+V(Y) $\n"
   ]
  },
  {
   "cell_type": "code",
   "execution_count": 1,
   "metadata": {},
   "outputs": [],
   "source": [
    "import os\n",
    "\n",
    "try:\n",
    "  os.chdir('../Python/QCKentei')\n",
    "except:\n",
    "  pass\n",
    "\n",
    "path = os.getcwd()"
   ]
  },
  {
   "cell_type": "code",
   "execution_count": 2,
   "metadata": {},
   "outputs": [],
   "source": [
    "import numpy as np\n",
    "import matplotlib.pyplot as plt"
   ]
  },
  {
   "cell_type": "markdown",
   "metadata": {},
   "source": [
    "## 03-02 Distribución uniforme\n",
    "\n",
    "La distribución uniforme es una distribución en la que la densidad de probabilidad toma un valor constante de $ 1/(b-a) $ en el intervalo (a,b).\n",
    "\n",
    "$ f(x) = 1/h \\qquad (0<x<h) $\n",
    "\n",
    "$ f(x) = 0 \\qquad (x \\leq 0, x \\geq h) $\n",
    "\n",
    "$ E(X) = \\int_{0}^{h} x \\frac{1}{h} dx = \\bigl[ \\frac{x^2}{2h} \\bigr]_{0}^{h} = \\frac{h}{2} $\n",
    "\n",
    "$ E(X^2) = \\int_{0}^{h} x^2 \\frac{1}{n} dx = \\bigl[ \\frac{x^2}{3h} \\bigr]_0^h = \\frac{h^2}{3} $\n",
    "\n",
    "$ V(X) = E|(X-\\mu)^2| = E(X^2) - |E(X)|^2 = \\frac{h^2}{3} - (\\frac{h}{2})^2 = \\frac{h^2}{12} $\n",
    "\n",
    "$ D(x) = \\sqrt{V(X)} = \\frac{h}{2 \\sqrt{3}}$\n",
    "\n"
   ]
  },
  {
   "cell_type": "markdown",
   "metadata": {},
   "source": [
    "## 03-02 Distribución uniforme\n",
    "\n",
    "La distribución uniforme es una distribución en la que la densidad de probabilidad toma un valor constante de $ 1/(b-a) $ en el intervalo (a,b).\n",
    "\n",
    "$ f(x) = 1/h \\qquad (0<x<h) $\n",
    "\n",
    "$ f(x) = 0 \\qquad (x \\leq 0, x \\geq h) $\n",
    "\n",
    "$ E(X) = \\int_{0}^{h} x \\frac{1}{h} dx = \\bigl[ \\frac{x^2}{2h} \\bigr]_{0}^{h} = \\frac{h}{2} $\n",
    "\n",
    "$ E(X^2) = \\int_{0}^{h} x^2 \\frac{1}{n} dx = \\bigl[ \\frac{x^2}{3h} \\bigr]_0^h = \\frac{h^2}{3} $\n",
    "\n",
    "$ V(X) = E|(X-\\mu)^2| = E(X^2) - |E(X)|^2 = \\frac{h^2}{3} - (\\frac{h}{2})^2 = \\frac{h^2}{12} $\n",
    "\n",
    "$ D(x) = \\sqrt{V(X)} = \\frac{h}{2 \\sqrt{3}}$\n",
    "\n"
   ]
  },
  {
   "cell_type": "code",
   "execution_count": 3,
   "metadata": {},
   "outputs": [
    {
     "name": "stdout",
     "output_type": "stream",
     "text": [
      "Valor esperado: 2.00\n",
      "Varianza: 1.33\n",
      "Desviación estándar: 1.15\n",
      "Probabilidad de que la variable aleatoria esté en el intervalo (1,3): 0.50\n"
     ]
    },
    {
     "data": {
      "image/png": "[encoded data removed]",
      "text/plain": [
       "<Figure size 576x432 with 1 Axes>"
      ]
     },
     "metadata": {
      "needs_background": "light"
     },
     "output_type": "display_data"
    }
   ],
   "source": [
    "from scipy.stats import uniform\n",
    "\n",
    "# Parámetros\n",
    "a, b = 0, 4  # Rango de distribución uniforma (0, 4)\n",
    "\n",
    "# Valor esperado, Varianza, Desviación estándar\n",
    "mean = (a + b) / 2\n",
    "variance = ((b - a) ** 2) / 12\n",
    "std_dev = np.sqrt(variance)\n",
    "\n",
    "# Cálculo de la probabilidad de que la variable aleatoria esté en el intervalo (1, 3)\n",
    "prob_1_to_3 = uniform.cdf(3, loc=a, scale=b-a) - uniform.cdf(1, loc=a, scale=b-a)\n",
    "\n",
    "print(f\"Valor esperado: {mean:.2f}\")\n",
    "print(f\"Varianza: {variance:.2f}\")\n",
    "print(f\"Desviación estándar: {std_dev:.2f}\")\n",
    "print(f\"Probabilidad de que la variable aleatoria esté en el intervalo (1,3): {prob_1_to_3:.2f}\")\n",
    "\n",
    "# Creación de gráficos\n",
    "x = np.linspace(a - 1, b + 1, 1000)  # Establecer el rango de la gráfica\n",
    "y = uniform.pdf(x, a, b - a)  # Calcular la PDF\n",
    "\n",
    "plt.figure(figsize=(8, 6))\n",
    "plt.plot(x, y, label=\"Uniform Distribution (0, 4)\", color=\"blue\")\n",
    "plt.fill_between(x, y, where=((x >= 1) & (x <= 3)), color=\"lightblue\", alpha=0.5, label='P(1 <= X <= 3)')\n",
    "plt.title(\"Uniform Distribution (0, 4)\")\n",
    "plt.xlabel(\"x\")\n",
    "plt.ylabel(\"Probability Density Function\")\n",
    "plt.legend()\n",
    "plt.grid(True)\n",
    "plt.show()\n",
    "\n",
    "\n"
   ]
  },
  {
   "cell_type": "markdown",
   "metadata": {},
   "source": [
    "## 03-03 Distribución exponencial\n",
    "\n",
    "$ f(x) = 0 \\qquad (x<0) $\n",
    "\n",
    "$ f(x) = \\lambda exp(-\\lambda x) \\qquad (x \\geq 0 ) $\n",
    "\n",
    "$ \\mu = \\frac{1}{\\lambda} $\n",
    "\n",
    "$ E(X) = \\frac{1}{\\lambda} = \\mu $\n",
    "\n",
    "$ V(X) = \\frac{1}{\\lambda^2} = \\mu^2 $"
   ]
  },
  {
   "cell_type": "markdown",
   "metadata": {},
   "source": [
    "## 3.2\n",
    "部品Qの寿命は、パラメータ $ \\lambda=1/100 $ （時間）の指数分布に従っている。この電子部品の寿命が50（時間）から100（時間）であるかくりつを求めよ。また、平均寿命と分散も求めよ。\n",
    "\n",
    "La vida útil del componente Q sigue una distribución exponencial con un parámetro $ \\lambda = 100 (horas)^{-1} $ Calcula la probabilidad de que la vida útil de este componente electrónico esté entre 50 y 100 giras Además, determina la vida media y la varianza.\n"
   ]
  },
  {
   "cell_type": "code",
   "execution_count": 4,
   "metadata": {},
   "outputs": [
    {
     "name": "stdout",
     "output_type": "stream",
     "text": [
      "Vida media: 100.00 horas\n",
      "Varianza: 10000.00 horas²\n",
      "Probabilidad de vida entre 50 y 100 horas: 0.2387\n"
     ]
    },
    {
     "data": {
      "image/png": "[encoded data removed]",
      "text/plain": [
       "<Figure size 576x360 with 1 Axes>"
      ]
     },
     "metadata": {
      "needs_background": "light"
     },
     "output_type": "display_data"
    }
   ],
   "source": [
    "# Parámetros de la distribución\n",
    "lambda_param = 1 / 100  # Tasa de falla λ = 1/100 horas\n",
    "\n",
    "# Cálculo de la vida media y la varianza\n",
    "mean_lifetime = 1 / lambda_param\n",
    "variance_lifetime = 1 / (lambda_param ** 2)\n",
    "\n",
    "# Cálculo de la probabilidad de que la vida útil esté entre 50 y 100\n",
    "probability_50_to_100 = np.exp(-lambda_param * 50) - np.exp(-lambda_param * 100)\n",
    "\n",
    "# Mostrar resultados\n",
    "print(f\"Vida media: {mean_lifetime:.2f} horas\")\n",
    "print(f\"Varianza: {variance_lifetime:.2f} horas²\")\n",
    "print(f\"Probabilidad de vida entre 50 y 100 horas: {probability_50_to_100:.4f}\")\n",
    "\n",
    "# Crear gráfico\n",
    "x = np.linspace(0, 300, 500)  # Rango de 0 a 300 horas\n",
    "pdf = lambda_param * np.exp(-lambda_param * x)  # Función de densidad de de probabilidad de distribución exponencial\n",
    "\n",
    "plt.figure(figsize=(8, 5))\n",
    "plt.plot(x, pdf, label=f\"λ = {lambda_param}\")\n",
    "plt.fill_between(x, pdf, where=(x >= 50) & (x <= 100), color='orange', alpha=0.5, label=\"Rango de 50 ~ 100 horas\")\n",
    "plt.title(\"Función de densidad de probabilidad de la distribución exponencial\")\n",
    "plt.xlabel(\"Vida útil (horas)\")\n",
    "plt.ylabel(\"Densidad de probabilidad\")\n",
    "plt.grid(True)\n",
    "plt.legend()\n",
    "plt.show()\n"
   ]
  },
  {
   "cell_type": "markdown",
   "metadata": {},
   "source": [
    "## 03-04 Distribución bidimensional Covarianza\n",
    "\n",
    "Distribución bidimensional: Distribución de dos variables aleatorias correspondientes.\n",
    "\n",
    "Coeficiente de correlación: Cantidad que representa la relación entre dos variables aleatorias\n",
    "\n",
    "Coeficiente de correlación\n",
    "\n",
    "$ \\rho (X, Y) = \\frac{Cov(X, Y)}{\\sqrt{V(X) \\cdot V(Y) }} = \\frac{Cov(X,Y)}{D(X) \\cdot D(Y)}$\n",
    "\n",
    "$ V(aX+bY) = a^2V(X) + b^2V(Y) + 2abCov(X,Y) $\n",
    "\n",
    "$ \\rho (aX +b, cY+d) = \\rho (X, Y) $"
   ]
  },
  {
   "cell_type": "markdown",
   "metadata": {},
   "source": [
    "## 3.3\n",
    " ２種類の加工部品A、Bを別々に製造しこれらを組み合わせ（Aの中にBをはめ込む）部品を作る工程がある。部品Aは外輪で、その内径Xは正規分布 $ N(40,3^2) $に従う、部品Bは軸で、その外形Yは正規分布$ N(30, 1^2) $ に従っている。組み合わせ作業では、Xの大きな部品Aには、Yの大きな部品Bを、Xの小さな部品Aには、Yの小さな部品Yを組み合わせるようにしており、その組み合わせはXとYの母相関係数で0.6であることが分かっている。外輪と軸の隙間である$ Z = X - Y $ の寸法の分散を求めよ。\n",
    "\n",
    " Hay un proceso en el que se fabrican por separado dos tipos de piezas mecanizadas, A y B, y luego se ensamblan (insertando B dentro de A) para formar un componente. La pieza A es es un anillo exterior cuya dimensión interna, X, sigue una distribución normal $ N(30, 3^2) $. La pieza B es un eje cuya dimensión interna, Y, sigue una distribución normal $ N(30, 1^2) $. Durante el proceso de ensamblaje, las piezas A más grandes (con valores altos de X= se emparejan con piezas B más grandes )con valores altos de Y), y las piezas A más pequeñas se combinan con piezas B más pequeñas. Se sabe que el coeficiente de correlación poblacional entre X e Y es 0.6. Calcule la varianza de la dimensión del espacio libre $ Z = X -Y $ entre el anillo exterior y el eje."
   ]
  },
  {
   "cell_type": "code",
   "execution_count": 5,
   "metadata": {},
   "outputs": [
    {
     "name": "stdout",
     "output_type": "stream",
     "text": [
      "La varianza de Z = X - Y:  6.40 \n"
     ]
    }
   ],
   "source": [
    "# Parámetros dados\n",
    "mu_X = 40   # Media de X（diámetro interior de la pieza A）\n",
    "sigma_X = np.sqrt(9)  # Desviación estándar de X\n",
    "mu_Y = 30   # Media de Y（diámetro exterior de la pieza B）\n",
    "sigma_Y = np.sqrt(1)  # Desviación estándar de Y\n",
    "rho_XY = 0.6  # Coeficiente de correlación entre X e Y\n",
    "\n",
    "# Cálculo de la media y la varianza de Z = X - Y\n",
    "mu_Z = mu_X - mu_Y  # Media de Z\n",
    "var_Z = sigma_X**2 + sigma_Y**2 - 2 * rho_XY * sigma_X * sigma_Y  # Varianza de Z\n",
    "\n",
    "# Visualización del resultado\n",
    "print(f\"La varianza de Z = X - Y:  {var_Z:.2f} \")\n"
   ]
  },
  {
   "cell_type": "markdown",
   "metadata": {},
   "source": [
    "## 03-05 Ley de grandes números y Teorema central del límite\n",
    "\n",
    "Ley de los grandes números\n",
    "\n",
    "La ley de los grandes números establece que, a medida que el número de repeticiones de un experimento aumenta, la media de los resultados obtenidos se acerca al valor esperado o la media teórica. Es decir, cuanto más veces se repite un experimento, más probable es que la media de los resultados se aproxime al valor verdadero que debería esperarse.\n",
    "\n",
    "Por ejemplo, al lanzar una moneda muchas veces, la frecuencia relativa de caras y cruces se acercará al valor teórico de 50% para cada uno a medida que el número de lanzamientos aumenta.\n",
    "\n",
    "Existen dos versiones de la ley de los grandes números: la versión débil y la versión fuerte. La diferencia principal está en el tipo de convergencia que describen, pero ambas indican que la media muestral se estabiliza conforme aumenta el tamaño de la muestra.\n",
    "\n",
    "Teorema central de límite\n",
    "\n",
    "El teorema central de límite establece que, independientemente de la distribución de los datos originales, cuando tomamos suficiente muestras de una población, la distribución de la media muestral de esas muestras tenderá a ser una distribución normal (también llamada distribución de Gauss) a medida que el tamaño de la muestra crece. Esto es cierto incluso si los datos originales no siguen una distribución normal.\n",
    "\n",
    "En otras palabras, si tomamos repetidas muestras de una población y calculamos sus medias, la distribución de esas medias será aproximadamente normal, siempre que el tamaño de las muestras sea lo suficientemente grande, independientemente de cómo se distribuyen los datos originales.\n",
    "\n",
    "Este teorema es la base de muchas técnicas estadísticas y nos permite usar la distribución normal como aproximación para realizar inferencias sobre una población, incluso cuando no  conocemos su distribución exacta.\n",
    "\n",
    "Ambos conceptos son fundamentales en la teoría de probabilidad, y explican por qué las distribuciones de los promedios tienden a normalizarse y cómo se puede prever el comportamiento de los resultados en experimentos repetidos."
   ]
  },
  {
   "cell_type": "code",
   "execution_count": 6,
   "metadata": {},
   "outputs": [
    {
     "name": "stdout",
     "output_type": "stream",
     "text": [
      "QCKentei1-3.ipynb  ->  QCKentei1-3.html\n",
      "[NbConvertApp] Converting notebook QCKentei1-3.ipynb to html\n",
      "[NbConvertApp] Writing 654048 bytes to QCKentei1-3.html\n",
      "mv: rename QCKentei1-3.html to ../html/: No such file or directory\n"
     ]
    }
   ],
   "source": [
    "notebook_name = 'QCKentei1-3.ipynb'\n",
    "notebook_name_html = notebook_name.replace(\".ipynb\",\".html\")\n",
    "print(notebook_name + '  ->  ' + notebook_name_html)\n",
    "\n",
    "!jupyter nbconvert --to html {notebook_name}\n",
    "!mv {notebook_name_html} ../html/"
   ]
  },
  {
   "cell_type": "code",
   "execution_count": null,
   "metadata": {},
   "outputs": [],
   "source": []
  }
 ],
 "metadata": {
  "kernelspec": {
   "display_name": "Python 3",
   "language": "python",
   "name": "python3"
  },
  "language_info": {
   "codemirror_mode": {
    "name": "ipython",
    "version": 3
   },
   "file_extension": ".py",
   "mimetype": "text/x-python",
   "name": "python",
   "nbconvert_exporter": "python",
   "pygments_lexer": "ipython3",
   "version": "3.10.5"
  }
 },
 "nbformat": 4,
 "nbformat_minor": 2
}
