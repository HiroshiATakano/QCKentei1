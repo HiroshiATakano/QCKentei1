{
 "cells": [
  {
   "cell_type": "markdown",
   "metadata": {},
   "source": [
    "# Método no paramétrico de análisis\n",
    "\n",
    "El método no paramétrico es un método estadístico que se utiliza cuando no se puede especificar la distribución de una población.\n",
    "Esta técnica se utiliza a menudo en la evaluación de la calidad y la percepción sensorial, que dependen de los sentidos humanos."
   ]
  },
  {
   "cell_type": "markdown",
   "metadata": {},
   "source": [
    "## 08-01 Método no paramétrico de análisis\n",
    "\n",
    "Los métodos estadísticos convencionales suponen que la distribución de la población sigue una distribución específica (métodos paramétricos), mientras que los **métodos no paramétricos** se utilizan cuando **no se puede asumir que la distribución de la población sigue una distribución particular**.\n",
    "\n",
    "Un buen ejemplo de los tipos de datos a los que se puede aplicar la estadística no paramétrica son los **datos de clasificación** y los datos **nominales**.\n",
    "\n",
    "Este método no solo es aplicable cuando no se puede suponer una distribución específica, sino también en los casos en los que **se rechaza la normalidad de una distribución**.\n",
    "\n",
    "Debido a que el método no paramétrico realiza inferencias estadísticas basándose en el número de elementos que cumplen ciertas condiciones, en lugar de en los valores exactos, es **menos susceptible** a la influencia de los valores atípicos.\n",
    "A esta característica se la denomina **robustez** frente a los valores atípicos.\n",
    "\n",
    "### Tipos de métodos no paramétricos\n",
    "#### (1) Inferencia sobre dos poblaciones (para datos no pareados)\n",
    "\n",
    "Utiliza datos de clasificación para evaluar la posición central y la dispersión de una distribución, e incluye pruebas como la **prueba de Wilcoxon** y la **prueba de Mood**.\n",
    "\n",
    "* Prueba de Wilcoxon: Para la posición central de la distribución de dos poblaciones:\n",
    "  * $ H_0 $ : Las posiciones centrales de las distribuciones de dos poblaciones son iguales.\n",
    "  * Estadístico de prueba específico: La suma de los rangos $ W $ de los datos con el número más pequeño de datos.\n",
    "\n",
    "* Prueba de Mood: Respecto a la dispersión de las distribuciones de dos poblaciones ($ \\sigma_A. \\sigma_B $):\n",
    "  * $ H_0 : \\sigma_A = \\sigma_B $\n",
    "  * Estadistico de prueba: $ M = \\sum_{i=1}^m \\{ R_i - (N+1)/2 \\}^2 $\n",
    "  * $ \\qquad R_i $: los datos de rango del grupo con el tamaño de muestra más pequeño\n",
    "  * $ \\qquad N $: el número total de datos\n",
    "\n",
    "#### (2) Inferencia sobre una población\n",
    "Es una técnica que infiere sobre la posición central de la distribución de una población, e incluye la **prueba de rangos con signo de Wilcoxon**.\n",
    "Además, como un método de prueba más simple que no utiliza rangos, existe la **pruba de signos**.\n",
    "\n",
    "* Prueba de rangos con signo de Wilcoxon: En relación con la posición central de la distribución $ \\theta $ de una población:\n",
    "  * $ H_0 : \\theta = \\theta_0 $\n",
    "  * Estadistico de prueba: $ WS^+ = \\sum_{i=1}^m R_i $ o $ WS^- = \\sum_{j=1}^n S_j $ el menor de los dos valores\n",
    "\n",
    "* Prueba de signos: Se utiliza solo la información del signo de la diferencia de los datos emparejados para probar la diferencia en la posición central.\n",
    "  * $ H_0 $: Los posiciones centrales de las características de las distribuciones de X e Y son iguales.\n",
    "  * Estadístico de prueba: $ n(+) $ o $ n(-) $ el menor de los dos valores\n",
    "\n",
    "#### (3) Análisis de correlación\n",
    "Se trata de un análisis de correlación para distribuciones bidimensionales que no requiere asumir una distribución normal bidimensional, a diferencia de los métodos paramétricos.\n",
    "\n",
    "* **Coeficienete de correlación de rangos de Spearman**: Se utiliza el coeficiente de correlación de muestra de datos de rango Rs (coeficiente de correlación de rangos de Spaarman) para probar si existe una relación entre dos variables.\n",
    "* **Coeficiente de correlación de rangos de Kendall**: Se utiliza el coeficiente de correlación de rangos de Kendall $ r_k $, que se deriva de la resta del número de pares que no concuerdan del número de pares en los que los signos de ($ X_i - X_j $) y ($ Y_i - Y_j $) si concuerdan , para probar si existe una relación entre dos variables.\n",
    "\n",
    "#### (4) Análisis de varianza (ANOVA)\n",
    "También es posible realizar un análisis de varianza utilizando la suma de los cuadrados de los rangos.\n",
    "\n",
    "* **Prueba de Kruskal-Wallis**: Corresponde al análisis de varianza de un factor (ANOVA de un factor).\n",
    "* **Prueba de Friedman**: Corresponde al análisis de varianza de dos factores y al diseño de bloques aleatorizados.\n",
    "* **Coeficiente de concordancia de Kendall**: Se utiliza para determinar si las clasificaciones dadas por los jueces a los sujetos de evaluación tienden a ser consistentes, y equivale al coeficiente de correlación múltiple de los métodos paramétricos."
   ]
  },
  {
   "cell_type": "code",
   "execution_count": 1,
   "metadata": {},
   "outputs": [],
   "source": [
    "import os\n",
    "\n",
    "try:\n",
    "  os.chdir('../Python/QCKentei')\n",
    "except:\n",
    "  pass\n",
    "\n",
    "path = os.getcwd()"
   ]
  },
  {
   "cell_type": "code",
   "execution_count": 2,
   "metadata": {},
   "outputs": [],
   "source": [
    "import pandas as pd\n",
    "import numpy as np\n",
    "import matplotlib.pyplot as plt\n",
    "import seaborn as sns\n",
    "\n",
    "import gspread \n",
    "from google.oauth2.service_account import Credentials"
   ]
  },
  {
   "cell_type": "markdown",
   "metadata": {},
   "source": [
    "## 8.1\n",
    "\n",
    "ある２種類の樹脂材料A、Bの強度に違いがあるかどうか調べるため、表８．４のデータを得た。開発初期の段階ということもあり、分布の形は左右対称であるが、正規分布と比べて分布の裾が長い分布となっているため、ウィルコクスン検定を行い、評価せよ（単位は省略）。\n",
    "\n",
    "Para investigar si existen diferencias en la resistencia de dos tipos de materiales de resina, A y B, se recopilaron los datos presentados en la tabla 8.4. Dado que el desarrollo se encuentra en una etapa inicial, la distribución es simétrica pero presenta colas más largas en comparación con una distribución normal. Por lo tanto, realiza la prueba de Wilcoxon y evalúa los resultados (las unidades se omiten)."
   ]
  },
  {
   "cell_type": "code",
   "execution_count": 3,
   "metadata": {},
   "outputs": [
    {
     "name": "stdout",
     "output_type": "stream",
     "text": [
      "Tabla 8.4\n"
     ]
    },
    {
     "data": {
      "text/html": [
       "<div>\n",
       "<style scoped>\n",
       "    .dataframe tbody tr th:only-of-type {\n",
       "        vertical-align: middle;\n",
       "    }\n",
       "\n",
       "    .dataframe tbody tr th {\n",
       "        vertical-align: top;\n",
       "    }\n",
       "\n",
       "    .dataframe thead th {\n",
       "        text-align: right;\n",
       "    }\n",
       "</style>\n",
       "<table border=\"1\" class=\"dataframe\">\n",
       "  <thead>\n",
       "    <tr style=\"text-align: right;\">\n",
       "      <th></th>\n",
       "      <th>1</th>\n",
       "      <th>2</th>\n",
       "      <th>3</th>\n",
       "      <th>4</th>\n",
       "      <th>5</th>\n",
       "      <th>6</th>\n",
       "      <th>7</th>\n",
       "      <th>8</th>\n",
       "      <th>9</th>\n",
       "    </tr>\n",
       "    <tr>\n",
       "      <th>resina</th>\n",
       "      <th></th>\n",
       "      <th></th>\n",
       "      <th></th>\n",
       "      <th></th>\n",
       "      <th></th>\n",
       "      <th></th>\n",
       "      <th></th>\n",
       "      <th></th>\n",
       "      <th></th>\n",
       "    </tr>\n",
       "  </thead>\n",
       "  <tbody>\n",
       "    <tr>\n",
       "      <th>A</th>\n",
       "      <td>60.0</td>\n",
       "      <td>50.0</td>\n",
       "      <td>51.0</td>\n",
       "      <td>42.0</td>\n",
       "      <td>55.0</td>\n",
       "      <td>46.0</td>\n",
       "      <td>49.0</td>\n",
       "      <td>52.0</td>\n",
       "      <td>43.0</td>\n",
       "    </tr>\n",
       "    <tr>\n",
       "      <th>B</th>\n",
       "      <td>40.0</td>\n",
       "      <td>76.0</td>\n",
       "      <td>48.0</td>\n",
       "      <td>64.0</td>\n",
       "      <td>59.0</td>\n",
       "      <td>63.0</td>\n",
       "      <td>73.0</td>\n",
       "      <td>56.0</td>\n",
       "      <td>NaN</td>\n",
       "    </tr>\n",
       "  </tbody>\n",
       "</table>\n",
       "</div>"
      ],
      "text/plain": [
       "           1     2     3     4     5     6     7     8     9\n",
       "resina                                                      \n",
       "A       60.0  50.0  51.0  42.0  55.0  46.0  49.0  52.0  43.0\n",
       "B       40.0  76.0  48.0  64.0  59.0  63.0  73.0  56.0   NaN"
      ]
     },
     "execution_count": 3,
     "metadata": {},
     "output_type": "execute_result"
    }
   ],
   "source": [
    "# 認証情報の設定\n",
    "SERVICE_ACCOUNT_FILE = \"my-project-vscode-452201-249bdb033f8c.json\"  # JSONファイルのパス\n",
    "SCOPES = [\"https://www.googleapis.com/auth/spreadsheets\"]\n",
    "\n",
    "credentials = Credentials.from_service_account_file(SERVICE_ACCOUNT_FILE, scopes=SCOPES)\n",
    "client = gspread.authorize(credentials)\n",
    "\n",
    "# スプレッドシートを開く（URLまたはスプレッドシートIDを使用）\n",
    "SPREADSHEET_ID = \"1RkO0VL4WR6cbPBfBEjz693Lo4SdUAoSvRHV491ggXTo\"\n",
    "\n",
    "sheet = client.open_by_key(SPREADSHEET_ID).worksheet(\"Sheet6\") # 最初のシートを取得\n",
    "\n",
    "# データを取得\n",
    "list_of_lists = sheet.get_all_values()\n",
    "df = pd.DataFrame(list_of_lists)\n",
    "\n",
    "df = df.drop(0)\n",
    "df = df.T\n",
    "\n",
    "df.columns = df.iloc[0]\n",
    "df = df.drop(index=0)\n",
    "\n",
    "df[[\"A\",\"B\"]] = df[[\"A\",\"B\"]].apply(pd.to_numeric)\n",
    "data = df.copy()\n",
    "\n",
    "tabla = df.T\n",
    "tabla.index.name = \"resina\"\n",
    "tabla.to_excel(\"Data_1/tabla_8.4.xlsx\")\n",
    "\n",
    "print('Tabla 8.4')\n",
    "tabla"
   ]
  },
  {
   "cell_type": "code",
   "execution_count": 4,
   "metadata": {},
   "outputs": [
    {
     "data": {
      "image/png": "[encoded data removed]",
      "text/plain": [
       "<Figure size 360x216 with 1 Axes>"
      ]
     },
     "metadata": {
      "needs_background": "light"
     },
     "output_type": "display_data"
    }
   ],
   "source": [
    "data = data\n",
    "df = pd.DataFrame(data)\n",
    "\n",
    "plt.figure(figsize=(5, 3))\n",
    "sns.histplot(df['A'], kde=True, color='blue', label='A', bins=6, stat=\"density\")\n",
    "sns.histplot(df['B'], kde=True, color='orange', label='B', bins=6, stat=\"density\")\n",
    "plt.title('Distribution of A and B', fontsize=16)\n",
    "plt.xlabel('Value', fontsize=12)\n",
    "plt.ylabel('Density', fontsize=12)\n",
    "plt.legend()\n",
    "plt.show()"
   ]
  },
  {
   "cell_type": "markdown",
   "metadata": {},
   "source": [
    "Paso 1: Establecer la hipótesis\n",
    "\n",
    "* $ H_0 $: No existe diferencia en la resistencia de los materiales de resina A y B.\n",
    "\n",
    "* $ H_1 $Ñ Existe una diferencia en la resistencia de los materiales de resina A y B.\n",
    "\n",
    "Paso 2: Ajuste del nivel de significancia\n",
    " * $ \\alpha = 0.05 $\n",
    "\n",
    "Paso 3: Determinar el rango:\n",
    "\n",
    " * Combinar los datos de los materiales de resina A y B y asignar un rango a los 17 datos totales, comenzando por el valor más pequeño.\n",
    "\n",
    "Paso 4: Cálculo del estadístico de prueba:\n",
    "\n",
    "Normalmente, la suma de los rangos del grupo con el menor número de datos se considera el estadístico de prueba.\n",
    "\n",
    "El estadístico de prueba $ W $ se calcula a partir de la suma de los rangos de los datos del material de resina B, que tiene menos datos, de la siguiente manera:\n",
    "\n",
    "$ W = 1+17+5+15+12+14+16+11 = 91 $\n",
    "\n",
    "Paso 5: Decisión y conclusión:\n",
    "\n",
    "Dado que es una prueba de dos colas, se considera significativa cuando el valor de W es demasiado pequeño o demasiado grande.\n",
    "\n",
    "$ W = 91 > W_L(0.025) = 51 $\n",
    "\n",
    "$ W = 91 < W_U(0.025) = 93 $\n",
    "\n",
    "Con un nivel de significación del 5%, no es significativa.\n",
    "Es decir, **no se puede afirmar** que haya una diferencia en la resistencia de los materiales de resina A y B."
   ]
  },
  {
   "cell_type": "code",
   "execution_count": 5,
   "metadata": {},
   "outputs": [
    {
     "name": "stdout",
     "output_type": "stream",
     "text": [
      "Tabla de datos de rango:\n",
      "           1     2     3     4     5     6     7     8     9\n",
      "0                                                           \n",
      "A       60.0  50.0  51.0  42.0  55.0  46.0  49.0  52.0  43.0\n",
      "B       40.0  76.0  48.0  64.0  59.0  63.0  73.0  56.0   NaN\n",
      "Rank A  13.0   7.0   8.0   2.0  10.0   4.0   6.0   9.0   3.0\n",
      "Rank B   1.0  17.0   5.0  15.0  12.0  14.0  16.0  11.0   NaN\n",
      "\n",
      "Suma de rangos T_A: 62.0\n",
      "Suma de rangos T_B: 91.0\n",
      "Estadística de la prueba W: 62.0\n",
      "Estadística de la pureba de Mann-Whitney U : 17.0\n",
      "p値: 0.07445495680789799\n",
      "No existe una diferencia estadísticamente significativa entre A y B\n"
     ]
    }
   ],
   "source": [
    "from scipy.stats import rankdata, mannwhitneyu\n",
    "\n",
    "data = data\n",
    "df = pd.DataFrame(data)\n",
    "\n",
    "combined = pd.concat([df['A'], df['B']])\n",
    "ranked = combined.rank(method='average')\n",
    "ranked = ranked.reset_index(drop=True)\n",
    "\n",
    "df['Rank A'] = ranked[:len(df['A'])].values\n",
    "df['Rank B'] = ranked[len(df['A']):].values\n",
    "\n",
    "print(\"Tabla de datos de rango:\")\n",
    "print(df[['A', 'B', 'Rank A', 'Rank B']].T)\n",
    "\n",
    "# Data\n",
    "A = data['A'].to_list()\n",
    "B = data['B'].to_list()\n",
    "B = B[:-1]\n",
    "\n",
    "combined = A + B\n",
    "ranks = rankdata(combined)  # Calcular los rangos\n",
    "\n",
    "# 2. Calcular la suma de rangos por grupo\n",
    "ranks_A = ranks[:len(A)]  # Rango de grupo A\n",
    "ranks_B = ranks[len(A):]  # Rango de grupo B\n",
    "\n",
    "T_A = np.sum(ranks_A)  # Suma de rangos del grupo A\n",
    "T_B = np.sum(ranks_B)  # Suma de rangos del grupo b\n",
    "\n",
    "# 3. Calcular la estadística de prueba w\n",
    "W = min(T_A, T_B)\n",
    "\n",
    "# 4. Prueba de Mann-Whitney U  (Ejectar automáticamente con Scipy)\n",
    "stat, p_value = mannwhitneyu(A, B, alternative='two-sided')\n",
    "\n",
    "# Salida de resultados\n",
    "print(\"\\nSuma de rangos T_A:\", T_A)\n",
    "print(\"Suma de rangos T_B:\", T_B)\n",
    "print(\"Estadística de la prueba W:\", W)\n",
    "print(\"Estadística de la pureba de Mann-Whitney U :\", stat)\n",
    "print(\"p値:\", p_value)\n",
    "\n",
    "# Tomar una decisión basada en el value p\n",
    "if p_value < 0.05:\n",
    "    print(\"Existe una diferencia estadísticamente significativa entre A y B\")\n",
    "else:\n",
    "    print(\"No existe una diferencia estadísticamente significativa entre A y B\")\n"
   ]
  },
  {
   "cell_type": "markdown",
   "metadata": {},
   "source": [
    "## 08-02 Calidad sensorial\n",
    "\n",
    "### 1. Calidad sensorial\n",
    "El término **calidad sensorial** se refiere a los elementos de calidad que apelan a la sensibilidad humana.\n",
    "\n",
    "### 2. Método de evaluación sensorial\n",
    "La evaluación sensorial es un método para evaluar la calidad utilizando los sentidos humanos.\n",
    "*  Cinco sentidos: Vista, Audición, Olfato, Gusto, Tacto\n",
    "\n",
    "#### (1) Datos en la evaluación sensorial\n",
    "La calidad (valores característicos) en la evaluación sensorial se expresa utilizando datos de orden, datos nominales, lenguaje, gráficos, fotografías y muestras de inspección, que se usan en el método no paramétrico.\n",
    "\n",
    "#### (2) Importancia de los evaluadores (jueces) en la evaluación sensorial\n",
    "Al utilizar a las personas como instrumentos de medición y expresar los resultados a través del lenguaje, la variabilidad aumenta. Por lo tanto, es crucial establecer muestras de inspección para estabilizar el juicio, contratar evaluadores que se ajusten al propósito de la evaluación considerando el método de evaluación y las propiedades de las muestras, e investigar las diferencias individuales entre los evaluadores.\n",
    "\n",
    "#### (3) Tipos de evaluación sensorial\n",
    "* Método de prueba de discriminación: Determinar si hay una diferencia entre dos muestras.\n",
    "* Método de prueba utilizando escalas y categorías: Se utiliza para evaluar el orden de las diferencias, su magnitud, las categorías correspondientes y la clasificación.\n",
    "* Método de prueba de clasificación o prueba descriptiva: Se utiliza para capturar cualitativa y cuantitativamente las características de una o más propiedades sensoriales.\n"
   ]
  },
  {
   "cell_type": "code",
   "execution_count": 6,
   "metadata": {},
   "outputs": [
    {
     "name": "stdout",
     "output_type": "stream",
     "text": [
      "[NbConvertApp] Converting notebook QCKentei1-8.ipynb to html\n",
      "[NbConvertApp] Writing 624677 bytes to QCKentei1-8.html\n"
     ]
    }
   ],
   "source": [
    "notebook_name = 'QCKentei1-8.ipynb'\n",
    "notebook_name_html = notebook_name.replace(\".ipynb\",\".html\")\n",
    "\n",
    "!jupyter nbconvert --to html {notebook_name}"
   ]
  }
 ],
 "metadata": {
  "kernelspec": {
   "display_name": "3.10.5",
   "language": "python",
   "name": "python3"
  },
  "language_info": {
   "codemirror_mode": {
    "name": "ipython",
    "version": 3
   },
   "file_extension": ".py",
   "mimetype": "text/x-python",
   "name": "python",
   "nbconvert_exporter": "python",
   "pygments_lexer": "ipython3",
   "version": "3.10.5"
  }
 },
 "nbformat": 4,
 "nbformat_minor": 2
}
