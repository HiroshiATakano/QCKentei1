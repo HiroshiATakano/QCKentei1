{
 "cells": [
  {
   "cell_type": "markdown",
   "metadata": {},
   "source": [
    "# Análisis de correlación y Análisis de regresión\n",
    "\n",
    "El análisis de correlación y el análisis de regresión son dos de los métodos más representativos en el control de calidad para analizar la relación entre dos o más conjuntos de datos emparejados.\n",
    "\n",
    "En este capítulo aprenderás sobre el análisis de correlación y el análisis de regresión, y deberás ser capaz de realizar lo siguiente:\n",
    "* Prueba y estimación del coeficiente de correlación poblacional.\n",
    "* Prueba y estimación de los parámetros de regresión del análisis de regresión simple.\n",
    "* Análisis de regresión simple en casos con repeticiones.\n",
    "* Estimación de la ecuación de regresión múltiple.\n",
    "* Prueba y estimación de los parámetros de regresión del análisis de regresión múltiple.\n",
    "* Comprender el diagnóstico de regresión y el enfoque de selección de variables.\n",
    "* Comprender varias ecuaciones de regresión.\n",
    "\n",
    "\n",
    "[Audio_1](https://drive.google.com/file/d/1FbThIWZKSdstIa0ed2Sv7WmiFz9Wm1TT/view?usp=drive_link)"
   ]
  },
  {
   "cell_type": "code",
   "execution_count": 267,
   "metadata": {},
   "outputs": [],
   "source": [
    "def ensure_and_move_to_folder(folder_name):\n",
    "  current_dir = os.getcwd()\n",
    "  target_path = os.path.join(current_dir, folder_name)\n",
    "\n",
    "  if not os.path.exists(target_path):\n",
    "    os.makedirs(target_path)\n",
    "    print(f\"Folder '{folder_name}' created successfully.\")\n",
    "  else:\n",
    "    print(f\"Folder '{folder_name}' already exists.\")\n",
    "\n",
    "  #os.chdir(target_path)"
   ]
  },
  {
   "cell_type": "code",
   "execution_count": 268,
   "metadata": {},
   "outputs": [
    {
     "name": "stdout",
     "output_type": "stream",
     "text": [
      "Folder 'Data_1' already exists.\n"
     ]
    }
   ],
   "source": [
    "import os, sys\n",
    "\n",
    "folder_name = 'Data_1'\n",
    "ensure_and_move_to_folder(folder_name)\n",
    "\n",
    "try:\n",
    "  os.chdir('../Python/QCKentei')\n",
    "except:\n",
    "  pass\n",
    "sys.path.append(os.path.abspath(os.path.join(\"..\",\"Common\")))\n",
    "path = os.getcwd()"
   ]
  },
  {
   "cell_type": "code",
   "execution_count": 269,
   "metadata": {},
   "outputs": [],
   "source": [
    "import pandas as pd\n",
    "import numpy as np\n",
    "import matplotlib.pyplot as plt\n",
    "import importlib\n",
    "\n",
    "from scipy.stats import pearsonr\n",
    "from scipy import stats\n",
    "from scipy.stats import norm\n",
    "\n",
    "import math"
   ]
  },
  {
   "cell_type": "markdown",
   "metadata": {},
   "source": [
    "# 09-01 Análisis de correlación\n",
    "\n",
    "## 1 Pruebas y estimaciones del coeficiente de regresión poblacional\n",
    "\n",
    "### (1) Relación de correlación\n",
    "\n",
    "Hay una **correlación** entre dos variables, x e y, cuando existe una relación no independiente entre ellas.\n",
    "\n",
    "El **análisis de correlación** es la técnica estadística utilizada para analizar la existencia de una relación entre dos variables.\n",
    "El **coeficiente de correlación** se emplea como un indicador para mostrar la fuerza de esa relación.\n",
    "\n",
    "Entre los coeficientes de correlación, el que se calcula a partir de datos obtenidos mediante experimentos u observaciones se denomina **coeficiente de correlación muestral** (se utiliza el símbolo r).\n",
    "\n",
    "* $ r = \\frac{S_{xy}}{\\sqrt{S_{xx} \\times S_{yy}}}$)\n",
    "\n",
    "* $ S_{xx} = \\sum x^2 - \\frac{1}{n} (\\sum x)^2  $\n",
    "\n",
    "* $ S_{yy} = \\sum y^2 - \\frac{1}{m} (\\sum y)^2 $\n",
    "\n",
    "* $ S_{xy} = \\sum xy  - \\frac{1}{n} \\sum x \\times \\sum y $\n",
    "\n",
    "En contraste, el coeficiente de correlación de una población se denomina coeficiente de correlación poblacional (se utiliza el simbolo $ \\rho $)\n",
    "\n",
    "### (2) Prueba de no correlación\n",
    "\n",
    "La prueba de no correlación (o prueba de ausencia de correlación) es un test que se realiza para verificar si el coeficiente de correlación poblacional $ \\rho $ es cero.\n",
    "\n",
    "1. Calcular el coeficiente de correlación muestral r.\n",
    "2. Estadístico de prueba.\n",
    "\n",
    "* $ t_0 = r \\sqrt{n-2}/\\sqrt{1-r^2} $\n",
    "\n",
    "3. Se considera que existe correlación si:\n",
    "\n",
    "* $ | t_0 | \\geq t(n-2, \\alpha) $\n",
    "\n",
    "### (3) Prueba de no correlación\n",
    "* Transformada Z\n",
    "\n",
    "* $ z = tanh^{-1} r = \\frac{1}{2} ln(1+r)/(1-r) $\n",
    "\n",
    "* $ z \\sim N(tan^{-1} \\rho + \\rho/(2(n-1), 1/(n-3))$\n",
    "\n",
    "\n",
    "### (4) Estimación del coeficiente de correlación poblacional\n",
    "* Estimación puntual del coeficiente de orrelación poblacional ($ \\hat{\\rho} = r  $)\n",
    "* Estimación por intervalo del coeficiente de correlación poblacional\n",
    "\n",
    "Estimación puntual del coeficiente de correlación poblacional:\n",
    "* $ \\hat{\\rho} = r $\n",
    "\n",
    "Estimación por intervalo del coeficiente de correlación poblacional:\n",
    "\n",
    "* $ Z_U, Z_L = z \\pm u(\\alpha) \\sqrt{1/(n-3)} $\n",
    "\n",
    "* $ \\rho_U = tanh(Z_U) $\n",
    "\n",
    "* $ \\rho_L = tanh(Z_L) $\n",
    "\n",
    "\n",
    "\n",
    "[Audio_2](https://drive.google.com/file/d/19lO2Ld5lDsA30n4sRIRS_Dwpi-cRGt1X/view?usp=drive_link)"
   ]
  },
  {
   "cell_type": "markdown",
   "metadata": {},
   "source": [
    "## 9.1\n",
    "\n",
    "加工食品Aの製造工程で、焼成時間x（分）と歯応えy（硬さ）の間にどのような関係があるか調べる。\n",
    "1.   xとyの相関係数を計算する\n",
    "2.   有意水準５％で無相関の検定をする\n",
    "3.   母相関係数が0.50より大きいか検定する\n",
    "3.   信頼区間95%で区間推定をする"
   ]
  },
  {
   "cell_type": "markdown",
   "metadata": {},
   "source": [
    "Investigar qué relación existe entre el tiempo de cocción $ x $(minutos) y  la textura $ y $ (dureza) en el proceso de fabricación del producto alimenticio A.\n",
    "\n",
    "1. Calcular el coeficiente de correlación entre el tiempo de cocción $ x $ (minutos) y la textura $ y $ (dureza)\n",
    "2. Realizar una prueba de hipótesis para determinar la independencia entre $ x $  e $ y $ con un nivel de signiciacio del 5%\n",
    "3. Probar si el coeficiente de correlación poblacional es mayor que 0.50\n",
    "4. Estimar un intervalo de confianza del 95% para el coeficiente de correlación."
   ]
  },
  {
   "cell_type": "code",
   "execution_count": 270,
   "metadata": {},
   "outputs": [
    {
     "name": "stdout",
     "output_type": "stream",
     "text": [
      "Tabla 9.1: Tabla de datos del producto alimenicio x e y, y tabla auxiliar de cáluculos\n"
     ]
    },
    {
     "data": {
      "text/html": [
       "<div>\n",
       "<style scoped>\n",
       "    .dataframe tbody tr th:only-of-type {\n",
       "        vertical-align: middle;\n",
       "    }\n",
       "\n",
       "    .dataframe tbody tr th {\n",
       "        vertical-align: top;\n",
       "    }\n",
       "\n",
       "    .dataframe thead th {\n",
       "        text-align: right;\n",
       "    }\n",
       "</style>\n",
       "<table border=\"1\" class=\"dataframe\">\n",
       "  <thead>\n",
       "    <tr style=\"text-align: right;\">\n",
       "      <th></th>\n",
       "      <th>x</th>\n",
       "      <th>y</th>\n",
       "      <th>x^2</th>\n",
       "      <th>y^2</th>\n",
       "      <th>xy</th>\n",
       "    </tr>\n",
       "    <tr>\n",
       "      <th>No</th>\n",
       "      <th></th>\n",
       "      <th></th>\n",
       "      <th></th>\n",
       "      <th></th>\n",
       "      <th></th>\n",
       "    </tr>\n",
       "  </thead>\n",
       "  <tbody>\n",
       "    <tr>\n",
       "      <th>1</th>\n",
       "      <td>28</td>\n",
       "      <td>69</td>\n",
       "      <td>784</td>\n",
       "      <td>4761</td>\n",
       "      <td>1932</td>\n",
       "    </tr>\n",
       "    <tr>\n",
       "      <th>2</th>\n",
       "      <td>21</td>\n",
       "      <td>65</td>\n",
       "      <td>441</td>\n",
       "      <td>4225</td>\n",
       "      <td>1365</td>\n",
       "    </tr>\n",
       "    <tr>\n",
       "      <th>3</th>\n",
       "      <td>21</td>\n",
       "      <td>64</td>\n",
       "      <td>441</td>\n",
       "      <td>4096</td>\n",
       "      <td>1344</td>\n",
       "    </tr>\n",
       "    <tr>\n",
       "      <th>4</th>\n",
       "      <td>23</td>\n",
       "      <td>61</td>\n",
       "      <td>529</td>\n",
       "      <td>3721</td>\n",
       "      <td>1403</td>\n",
       "    </tr>\n",
       "    <tr>\n",
       "      <th>5</th>\n",
       "      <td>25</td>\n",
       "      <td>70</td>\n",
       "      <td>625</td>\n",
       "      <td>4900</td>\n",
       "      <td>1750</td>\n",
       "    </tr>\n",
       "    <tr>\n",
       "      <th>6</th>\n",
       "      <td>30</td>\n",
       "      <td>63</td>\n",
       "      <td>900</td>\n",
       "      <td>3969</td>\n",
       "      <td>1890</td>\n",
       "    </tr>\n",
       "    <tr>\n",
       "      <th>7</th>\n",
       "      <td>26</td>\n",
       "      <td>68</td>\n",
       "      <td>676</td>\n",
       "      <td>4624</td>\n",
       "      <td>1768</td>\n",
       "    </tr>\n",
       "    <tr>\n",
       "      <th>8</th>\n",
       "      <td>25</td>\n",
       "      <td>67</td>\n",
       "      <td>625</td>\n",
       "      <td>4489</td>\n",
       "      <td>1675</td>\n",
       "    </tr>\n",
       "    <tr>\n",
       "      <th>9</th>\n",
       "      <td>21</td>\n",
       "      <td>63</td>\n",
       "      <td>441</td>\n",
       "      <td>3969</td>\n",
       "      <td>1323</td>\n",
       "    </tr>\n",
       "    <tr>\n",
       "      <th>10</th>\n",
       "      <td>27</td>\n",
       "      <td>66</td>\n",
       "      <td>729</td>\n",
       "      <td>4356</td>\n",
       "      <td>1782</td>\n",
       "    </tr>\n",
       "    <tr>\n",
       "      <th>11</th>\n",
       "      <td>38</td>\n",
       "      <td>77</td>\n",
       "      <td>1444</td>\n",
       "      <td>5929</td>\n",
       "      <td>2926</td>\n",
       "    </tr>\n",
       "    <tr>\n",
       "      <th>12</th>\n",
       "      <td>34</td>\n",
       "      <td>80</td>\n",
       "      <td>1156</td>\n",
       "      <td>6400</td>\n",
       "      <td>2720</td>\n",
       "    </tr>\n",
       "    <tr>\n",
       "      <th>13</th>\n",
       "      <td>38</td>\n",
       "      <td>75</td>\n",
       "      <td>1444</td>\n",
       "      <td>5625</td>\n",
       "      <td>2850</td>\n",
       "    </tr>\n",
       "    <tr>\n",
       "      <th>14</th>\n",
       "      <td>38</td>\n",
       "      <td>75</td>\n",
       "      <td>1444</td>\n",
       "      <td>5625</td>\n",
       "      <td>2850</td>\n",
       "    </tr>\n",
       "    <tr>\n",
       "      <th>15</th>\n",
       "      <td>32</td>\n",
       "      <td>70</td>\n",
       "      <td>1024</td>\n",
       "      <td>4900</td>\n",
       "      <td>2240</td>\n",
       "    </tr>\n",
       "    <tr>\n",
       "      <th>16</th>\n",
       "      <td>35</td>\n",
       "      <td>74</td>\n",
       "      <td>1225</td>\n",
       "      <td>5476</td>\n",
       "      <td>2590</td>\n",
       "    </tr>\n",
       "    <tr>\n",
       "      <th>17</th>\n",
       "      <td>33</td>\n",
       "      <td>73</td>\n",
       "      <td>1089</td>\n",
       "      <td>5329</td>\n",
       "      <td>2409</td>\n",
       "    </tr>\n",
       "    <tr>\n",
       "      <th>18</th>\n",
       "      <td>33</td>\n",
       "      <td>71</td>\n",
       "      <td>1089</td>\n",
       "      <td>5041</td>\n",
       "      <td>2343</td>\n",
       "    </tr>\n",
       "    <tr>\n",
       "      <th>19</th>\n",
       "      <td>39</td>\n",
       "      <td>72</td>\n",
       "      <td>1521</td>\n",
       "      <td>5184</td>\n",
       "      <td>2808</td>\n",
       "    </tr>\n",
       "    <tr>\n",
       "      <th>20</th>\n",
       "      <td>33</td>\n",
       "      <td>70</td>\n",
       "      <td>1089</td>\n",
       "      <td>4900</td>\n",
       "      <td>2310</td>\n",
       "    </tr>\n",
       "    <tr>\n",
       "      <th>Total</th>\n",
       "      <td>600</td>\n",
       "      <td>1393</td>\n",
       "      <td>18716</td>\n",
       "      <td>97519</td>\n",
       "      <td>42278</td>\n",
       "    </tr>\n",
       "  </tbody>\n",
       "</table>\n",
       "</div>"
      ],
      "text/plain": [
       "0        x     y    x^2    y^2     xy\n",
       "No                                   \n",
       "1       28    69    784   4761   1932\n",
       "2       21    65    441   4225   1365\n",
       "3       21    64    441   4096   1344\n",
       "4       23    61    529   3721   1403\n",
       "5       25    70    625   4900   1750\n",
       "6       30    63    900   3969   1890\n",
       "7       26    68    676   4624   1768\n",
       "8       25    67    625   4489   1675\n",
       "9       21    63    441   3969   1323\n",
       "10      27    66    729   4356   1782\n",
       "11      38    77   1444   5929   2926\n",
       "12      34    80   1156   6400   2720\n",
       "13      38    75   1444   5625   2850\n",
       "14      38    75   1444   5625   2850\n",
       "15      32    70   1024   4900   2240\n",
       "16      35    74   1225   5476   2590\n",
       "17      33    73   1089   5329   2409\n",
       "18      33    71   1089   5041   2343\n",
       "19      39    72   1521   5184   2808\n",
       "20      33    70   1089   4900   2310\n",
       "Total  600  1393  18716  97519  42278"
      ]
     },
     "execution_count": 270,
     "metadata": {},
     "output_type": "execute_result"
    }
   ],
   "source": [
    "import gspread \n",
    "from google.oauth2.service_account import Credentials\n",
    "\n",
    "# 認証情報の設定\n",
    "SERVICE_ACCOUNT_FILE = \"my-project-vscode-452201-249bdb033f8c.json\"  # JSONファイルのパス\n",
    "SCOPES = [\"https://www.googleapis.com/auth/spreadsheets\"]\n",
    "\n",
    "credentials = Credentials.from_service_account_file(SERVICE_ACCOUNT_FILE, scopes=SCOPES)\n",
    "client = gspread.authorize(credentials)\n",
    "\n",
    "# スプレッドシートを開く（URLまたはスプレッドシートIDを使用）\n",
    "SPREADSHEET_ID = \"1RkO0VL4WR6cbPBfBEjz693Lo4SdUAoSvRHV491ggXTo\"\n",
    "\n",
    "sheet = client.open_by_key(SPREADSHEET_ID).worksheet(\"Sheet1\") # 最初のシートを取得\n",
    "\n",
    "# データを取得\n",
    "list_of_lists = sheet.get_all_values()\n",
    "df = pd.DataFrame(list_of_lists)\n",
    "df.columns = df.iloc[0]\n",
    "df = df.drop(index=0)\n",
    "\n",
    "# Establecer la primera columna como índice\n",
    "df = df.set_index(df.columns[0])\n",
    "\n",
    "df[[\"x\",\"y\"]] = df[[\"x\",\"y\"]].apply(pd.to_numeric)\n",
    "data = df.copy()\n",
    "\n",
    "df[\"x^2\"] = df[\"x\"]**2\n",
    "df[\"y^2\"] = df[\"y\"]**2\n",
    "df[\"xy\"] = df[\"x\"]*df[\"y\"]\n",
    "df.loc[\"Total\"] = df.sum()\n",
    "\n",
    "df.to_excel(\"Data_1/Tabla_9_1.xlsx\")\n",
    "\n",
    "print(\"Tabla 9.1: Tabla de datos del producto alimenicio x e y, y tabla auxiliar de cáluculos\")\n",
    "df"
   ]
  },
  {
   "cell_type": "markdown",
   "metadata": {},
   "source": [
    "## Diagrama de dispersión"
   ]
  },
  {
   "cell_type": "code",
   "execution_count": 271,
   "metadata": {},
   "outputs": [
    {
     "data": {
      "image/png": "[encoded data removed]",
      "text/plain": [
       "<Figure size 432x288 with 1 Axes>"
      ]
     },
     "metadata": {
      "needs_background": "light"
     },
     "output_type": "display_data"
    }
   ],
   "source": [
    "plt.scatter(data[\"x\"],data[\"y\"])\n",
    "plt.xlim(15,45)\n",
    "plt.ylim(50,85)\n",
    "plt.xlabel(\"Tiempo de cocción x (minutos)\")\n",
    "plt.ylabel(\"Textura y (dureza)\")\n",
    "plt.title(\"Figura 9.1: Diagrama de dispersión\")\n",
    "plt.grid()\n"
   ]
  },
  {
   "cell_type": "markdown",
   "metadata": {},
   "source": [
    "## 1. Cálculo del coeficiente de correlación\n",
    "\n",
    "$ S_{xx} = \\sum x^2 - \\frac{\\bigl( \\sum x \\bigr)^2}{n} = 18716 - \\frac{(600)^2}{20} = 716   $\n",
    "\n",
    "$ S_{yy} = \\sum y^2 - \\frac{\\bigl( \\sum y \\bigr)^2}{n} = 97519 - \\frac{(1395)^2}{20} = 496.55 $\n",
    "\n",
    "$ S_{xy} = \\sum xy - \\frac{\\sum x \\times \\sum y}{n} = 42278 - \\frac{600 \\times 1393}{20} = 488 $\n",
    "\n",
    "$ r = \\frac{Sxy}{\\sqrt{Sxx \\times Syy}} $"
   ]
  },
  {
   "cell_type": "code",
   "execution_count": 272,
   "metadata": {},
   "outputs": [
    {
     "name": "stdout",
     "output_type": "stream",
     "text": [
      "r = 0.818\n",
      "Sxx = 716\n",
      "Syy = 496.55\n",
      "Sxy = 488\n",
      "r = 0.818\n"
     ]
    }
   ],
   "source": [
    "X = data[\"x\"]\n",
    "y = data[\"y\"]\n",
    "n = len(X)\n",
    "alpha = 0.05\n",
    "\n",
    "# NumPy\n",
    "def pearson_corr(X,y):\n",
    "  x = np.array(X)\n",
    "  y = np.array(y)\n",
    "\n",
    "  return np.corrcoef(x,y)[0,1]\n",
    "\n",
    "r = pearson_corr(X,y)\n",
    "print(f\"r = {r:.3f}\")\n",
    "\n",
    "#Cálculo manual\n",
    "def pearson_corr_manual(x,y):\n",
    "\n",
    "  if len(x) != len(y):\n",
    "    raise ValueError(\"Las listas x e y deben tener la misma longitud.\")\n",
    "\n",
    "  n = len(x)\n",
    "  mean_x = np.mean(x)\n",
    "  mean_y = np.mean(y)\n",
    "\n",
    "  cov = sum((xi - mean_x) * (yi - mean_y) for xi, yi in zip(x,y))\n",
    "  std_x = np.sqrt(sum((xi - mean_x)**2 for xi in x))\n",
    "  std_y = np.sqrt(sum((yi - mean_y)**2 for yi in y))\n",
    "  r =  cov / (std_x * std_y)\n",
    "\n",
    "  Sxx = sum(x**2) - (sum(x)**2)/n\n",
    "  Syy = sum(y**2) - (sum(y)**2)/n\n",
    "  Sxy = sum(x*y) - (sum(x)*sum(y))/n\n",
    "  r = Sxy/(np.sqrt(Sxx)*np.sqrt(Syy))\n",
    "\n",
    "  return r, Sxx, Syy, Sxy\n",
    "\n",
    "r, Sxx, Syy, Sxy = pearson_corr_manual(X,y)\n",
    "\n",
    "print(f\"Sxx = {Sxx:.0f}\")\n",
    "print(f\"Syy = {Syy:.2f}\")\n",
    "print(f\"Sxy = {Sxy:.0f}\")\n",
    "print(f\"r = {r:.3f}\")\n"
   ]
  },
  {
   "cell_type": "markdown",
   "metadata": {},
   "source": [
    "#### 2. Prueba de no correlación\n",
    "\n",
    "$ t_0 = r \\sqrt{n-2} / \\sqrt{1-r^2} = 6.043 \\geq t(n-2, α/2) = 2.101 $\n",
    "\n",
    "Fue significativo al 5% de nivel de significancia, y la correlación entre x e y no es cero."
   ]
  },
  {
   "cell_type": "code",
   "execution_count": 273,
   "metadata": {},
   "outputs": [
    {
     "name": "stdout",
     "output_type": "stream",
     "text": [
      "t0 = 6.043 >= 2.101\n"
     ]
    }
   ],
   "source": [
    "# t0\n",
    "t0 = r*np.sqrt(n-2)/np.sqrt(1-r**2)\n",
    "\n",
    "#\n",
    "t_crit = stats.t.ppf(1-alpha/2, df=n-2)\n",
    "\n",
    "print(f\"t0 = {t0:.3f}\" + \" >= \" + f\"{t_crit:.3f}\")\n"
   ]
  },
  {
   "cell_type": "markdown",
   "metadata": {},
   "source": [
    "#### 3. Probar si el coeficiente de correlación poblacional es mayor que 0.50\n",
    "\n",
    "$ z = tanh^{-1} r  $\n",
    "\n",
    "$ u_0 = \\sqrt{n-3}(z - (tanh^{-1} \\rho0 + \\rho0/(2(n-1)) $"
   ]
  },
  {
   "cell_type": "code",
   "execution_count": 274,
   "metadata": {},
   "outputs": [
    {
     "name": "stdout",
     "output_type": "stream",
     "text": [
      "U0 = 2.431 >= u(0.10) = 1.645\n"
     ]
    }
   ],
   "source": [
    "def inverse_tanh(r):\n",
    "    if abs(r) >= 1:\n",
    "        raise ValueError(\"r は -1 より大きく、1 より小さい値でなければなりません\")\n",
    "    return np.arctanh(r)\n",
    "\n",
    "def fisher_z_transform(r):\n",
    "    return 0.5 * np.log((1 + r) / (1 - r))\n",
    "\n",
    "def compute_u0(z, rho0, n):\n",
    "    \"\"\"\n",
    "    z: Fisherのz変換値（z = arctanh(r)）\n",
    "    rho0: 帰無仮説下の相関係数（通常は0）\n",
    "    n: サンプルサイズ\n",
    "    \"\"\"\n",
    "    if not (-1 < rho0 < 1):\n",
    "        raise ValueError(\"rho0 must be in the open interval (-1, 1)\")\n",
    "    if n <= 3:\n",
    "        raise ValueError(\"n must be greater than 3\")\n",
    "\n",
    "    z0 = inverse_tanh(rho0)\n",
    "    bias_correction = rho0 / (2 * (n - 1))\n",
    "    u0 = np.sqrt(n - 3) * (z - (z0 + bias_correction))\n",
    "    return u0\n",
    "\n",
    "def z_test_for_correlation(correlation, n, r_0, alpha=0.05):\n",
    "    z_sample = fisher_z_transform(correlation)\n",
    "    z_null = fisher_z_transform(r_0)\n",
    "    se = 1 / np.sqrt(n - 3)\n",
    "    z_statistic = (z_sample - z_null) / se\n",
    "    p_value = 1 - norm.cdf(z_statistic)\n",
    "\n",
    "    if p_value < alpha:\n",
    "        return f\"El coeficiente de correlación poblacional es significativamente mayor que {r_0} (rechazo de la hipótesis nul)\", p_value\n",
    "    else:\n",
    "        return f\"No se puede concluir que el coeficiente de correlación poblacional sea mayor que {r_0} (aceptación de la hipótesis nula)\", p_value\n",
    "\n",
    "# Prueba\n",
    "r_0 = 0.50\n",
    "z = inverse_tanh(r)\n",
    "\n",
    "u0 = compute_u0(z, r_0, n)\n",
    "u_0_10 = norm.ppf(1 - 0.10/2)\n",
    "print( \"U0 = \" + f\"{u0:.3f} >= u(0.10) = {u_0_10:.3f}\" )\n",
    "\n"
   ]
  },
  {
   "cell_type": "markdown",
   "metadata": {},
   "source": [
    "## Cálculo del intervalo de confianza para el coeficiente de correlación poblacional\n",
    "\n",
    "$ Z_U, Z_L = Z \\pm u(\\alpha) \\sqrt{1/(n-3)} = 1.626, 0.676 $\n",
    "\n",
    "$ \\rho_U = tanh(Z_U) = 0.925 $\n",
    "\n",
    "$ \\rho_L = tanh(Z_L) = 0.589 $"
   ]
  },
  {
   "cell_type": "code",
   "execution_count": 275,
   "metadata": {},
   "outputs": [
    {
     "name": "stdout",
     "output_type": "stream",
     "text": [
      "Intervalo de confianza del 95%: (0.589, 0.926)\n"
     ]
    }
   ],
   "source": [
    "# Calcula el coeficiente de correlación y el valor p\n",
    "r, _ = pearsonr(X, y)\n",
    "\n",
    "# Tamaño de la muestra de los datos.\n",
    "n = len(X)\n",
    "\n",
    "# Transformación z de Fisher\n",
    "z = 0.5 * np.log((1 + r) / (1 - r))\n",
    "\n",
    "# Error estándar\n",
    "SE_z = 1 / np.sqrt(n - 3)\n",
    "\n",
    "# Cálculo del intervalo de confianza del 95% (rango de puntuaciones z)\n",
    "z_lower = z - 1.96 * SE_z\n",
    "z_upper = z + 1.96 * SE_z\n",
    "\n",
    "# Invertir la transformación del intervalo de confianza para obtener el coeficiente de correlación original\n",
    "r_lower = np.tanh(z_lower)\n",
    "r_upper = np.tanh(z_upper)\n",
    "\n",
    "print(f\"Intervalo de confianza del 95%: ({r_lower:.3f}, {r_upper:.3f})\")"
   ]
  },
  {
   "cell_type": "markdown",
   "metadata": {},
   "source": [
    "#09-02 Análisis de regresión simple\n",
    "単回帰分析\n",
    "\n",
    "####  1. Análisis de regresión\n",
    "\n",
    "**Análisis de regresión** es una técnica para explicar, predecir y controlar las relaciones entre múltiples variables.\n",
    "Cuando se asume una relación causal, la variable que es la causa se denomina **Variable explicativa** o  **Variable independiente**\n",
    "La variable resultante se denomina **Variable dependiente** o  **Variable dependiente**.\n",
    "\n",
    "El **análisis de regresión simple** es un tipo de análisis de regresión que involucra una única **variable explicativa** y una única **variable de respuesta**.\n",
    "\n",
    "$ y_i = \\mu_i + \\epsilon_i = \\beta_0 + \\beta_1 x_i + \\epsilon_i $\n",
    "\n",
    "Se asume que el error $ \\epsilon $ cumple las siguientes cuatro suposiciones:\n",
    "1. Insesgadez: $ E(\\epsilon_i) = 0 $\n",
    "不偏性\n",
    "2. Homocedasticidad: $ V(\\epsilon_i) = \\sigma^2 $\n",
    "等分散性\n",
    "3. Independencia: $ Cov(\\epsilon_i, \\epsilon_j) = 0, i \\ne j $\n",
    "独立性\n",
    "4. Normalidad: Sigue una distribución normal.\n",
    "正規性\n",
    "\n",
    "$ \\beta_0 $ se denomina **intersección** 切片 y $ \\beta_1 $ se conoce como **coeficiente de regresión** 回帰係数.\n",
    "Ambos $ \\beta_0 $ y $ \\beta_1 $, también se llaman **parámetros de regresión** 回帰母数. Además la línea que se dibuja con $ E(y) = \\mu - \\beta_0 + \\beta_1 x $ se denomina **línea de regresión** 回帰直線.\n",
    "\n",
    "El **método de mínimos cuadrados** 最小二乗法 es un método de cálculo que minimiza la suma de los cuadrados de los residuos (suma de los cuadrados de los errores) de la ecuación de regresión.\n",
    "\n",
    "* $ \\hat{\\beta}_1 = S_{xy}/S_{xx} $\n",
    "\n",
    "* $ \\hat{\\beta}_0 = \\bar{y} - \\hat{\\beta}_1 \\bar{x} = \\bar{y} - (S_{xy}/S_{xx}) \\bar{x} $\n",
    "\n",
    "[Audio_3](https://drive.google.com/file/d/1oqqF6CIu5BnUkGeaKplIRDb4e9IorLLc/view?usp=drive_link)\n",
    "\n",
    "\n"
   ]
  },
  {
   "cell_type": "markdown",
   "metadata": {},
   "source": [
    "En el análisis de regresión, lo importante es en qué medida la ecuación de regresión (ecuación de predicción) obtenida mediante cálculos puede explicar los datos reales.\n",
    "\n",
    "Cuando la ecuación de regresión se expresa como $ \\hat{\\mu} = \\hat{\\beta}_0 + \\hat{\\beta}_1 x $, y se considera la **variación total** de los datos como $ y_i - \\bar{y} $, la **variación debida a la regresión** como  $ \\hat{y}_i - \\bar{y} $, y los **residuos de la regresión** como $ y_i - \\hat{y}_i $, se puede establecer una relación como la que se ilustra en la Figura 9.2.\n",
    "\n",
    "Suma de cuadrados total $ ST: \\sum(y_i - \\bar{y})^2 = S_{yy}$\n",
    "\n",
    "Suma de Cuadrados de la Regresión $ SR: \\sum(\\hat{y} - \\bar{y})^2 = \\beta_1^2 S_{xx} = S_{xy}^2 / S_{xx} $\n",
    "\n",
    "Suma de Cuadrados de los Residuao $ SE: \\sum(y_i - \\hat{y})^2 = S_{yy} - S_{xy}^2 / S_{xx} $\n",
    "\n",
    "[Audio_4](https://drive.google.com/file/d/1E9Qnd6Ci2UezvZbjzlzZpyI6W3k9kqBo/view?usp=drive_link)\n"
   ]
  },
  {
   "cell_type": "code",
   "execution_count": 276,
   "metadata": {},
   "outputs": [
    {
     "data": {
      "image/png": "[encoded data removed]",
      "text/plain": [
       "<PIL.PngImagePlugin.PngImageFile image mode=RGBA size=839x497>"
      ]
     },
     "metadata": {},
     "output_type": "display_data"
    }
   ],
   "source": [
    "from PIL import Image\n",
    "img = Image.open('./Graph3/Fig9_2.png')\n",
    "display(img)"
   ]
  },
  {
   "cell_type": "markdown",
   "metadata": {},
   "source": [
    "Utilizando estos elementos, se puede crear una tabla de análisis de varianza (ANOVA) y emplear la prueba F para determinar si la regresión es estadísticamente significativa.\n",
    "\n",
    "**Coeficiente de determinación**\n",
    "寄与率\n",
    "\n",
    "$ R^2 = R_R / S_T = r_{xy}^2 $\n",
    "\n",
    "[Audio_5](https://drive.google.com/file/d/1_qbkbwJWb7OeVtkv-1gspZ4zhEatQh_P/view?usp=drive_link)\n"
   ]
  },
  {
   "cell_type": "markdown",
   "metadata": {},
   "source": [
    "## 9.2\n",
    "\n",
    "部品Bの製造工程における、原材料の純度x（%）と品質特性y（MPa）の間にどのような関係があるか調べる。データを採取し表9.3を作成した。\n",
    "\n",
    "1. 回帰母数β０、β１を推定し、母回帰式をもとめよ\n",
    "2. 分散分析表を作成し、回帰に意味があるかどうか検定せよ\n",
    "3. 寄与率を計算せよ\n"
   ]
  },
  {
   "cell_type": "markdown",
   "metadata": {},
   "source": [
    "Para investigar la relación entre la pureza de la materia prima, $ x $ (%), y la característica de calidad, $ y $ (MPa), en el proceso de fabricación del componente B, se recopiló la información y se creó la Tabla 9.3.\n",
    "\n",
    "1. Estimar los parámetros de regresión  $ \\beta_0 $ y $ \\beta_1 $, y determinar la ecuación de regresión poblacional\n",
    "\n",
    "2. Elabore una tabla de análisis de varianza y prueba si la regresión es significativa\n",
    "\n",
    "3. Calcule el coeficiente de determinación"
   ]
  },
  {
   "cell_type": "code",
   "execution_count": 277,
   "metadata": {},
   "outputs": [
    {
     "name": "stdout",
     "output_type": "stream",
     "text": [
      "Tabla 9.3: Tabla de datos y tabla auxiliar de cáluculos\n"
     ]
    },
    {
     "data": {
      "text/html": [
       "<div>\n",
       "<style scoped>\n",
       "    .dataframe tbody tr th:only-of-type {\n",
       "        vertical-align: middle;\n",
       "    }\n",
       "\n",
       "    .dataframe tbody tr th {\n",
       "        vertical-align: top;\n",
       "    }\n",
       "\n",
       "    .dataframe thead th {\n",
       "        text-align: right;\n",
       "    }\n",
       "</style>\n",
       "<table border=\"1\" class=\"dataframe\">\n",
       "  <thead>\n",
       "    <tr style=\"text-align: right;\">\n",
       "      <th></th>\n",
       "      <th>x</th>\n",
       "      <th>y</th>\n",
       "      <th>x^2</th>\n",
       "      <th>y^2</th>\n",
       "      <th>xy</th>\n",
       "    </tr>\n",
       "    <tr>\n",
       "      <th>No</th>\n",
       "      <th></th>\n",
       "      <th></th>\n",
       "      <th></th>\n",
       "      <th></th>\n",
       "      <th></th>\n",
       "    </tr>\n",
       "  </thead>\n",
       "  <tbody>\n",
       "    <tr>\n",
       "      <th>1</th>\n",
       "      <td>66</td>\n",
       "      <td>20</td>\n",
       "      <td>4356</td>\n",
       "      <td>400</td>\n",
       "      <td>1320</td>\n",
       "    </tr>\n",
       "    <tr>\n",
       "      <th>2</th>\n",
       "      <td>65</td>\n",
       "      <td>11</td>\n",
       "      <td>4225</td>\n",
       "      <td>121</td>\n",
       "      <td>715</td>\n",
       "    </tr>\n",
       "    <tr>\n",
       "      <th>3</th>\n",
       "      <td>64</td>\n",
       "      <td>14</td>\n",
       "      <td>4096</td>\n",
       "      <td>196</td>\n",
       "      <td>896</td>\n",
       "    </tr>\n",
       "    <tr>\n",
       "      <th>4</th>\n",
       "      <td>67</td>\n",
       "      <td>10</td>\n",
       "      <td>4489</td>\n",
       "      <td>100</td>\n",
       "      <td>670</td>\n",
       "    </tr>\n",
       "    <tr>\n",
       "      <th>5</th>\n",
       "      <td>60</td>\n",
       "      <td>15</td>\n",
       "      <td>3600</td>\n",
       "      <td>225</td>\n",
       "      <td>900</td>\n",
       "    </tr>\n",
       "    <tr>\n",
       "      <th>6</th>\n",
       "      <td>62</td>\n",
       "      <td>20</td>\n",
       "      <td>3844</td>\n",
       "      <td>400</td>\n",
       "      <td>1240</td>\n",
       "    </tr>\n",
       "    <tr>\n",
       "      <th>7</th>\n",
       "      <td>69</td>\n",
       "      <td>15</td>\n",
       "      <td>4761</td>\n",
       "      <td>225</td>\n",
       "      <td>1035</td>\n",
       "    </tr>\n",
       "    <tr>\n",
       "      <th>8</th>\n",
       "      <td>70</td>\n",
       "      <td>18</td>\n",
       "      <td>4900</td>\n",
       "      <td>324</td>\n",
       "      <td>1260</td>\n",
       "    </tr>\n",
       "    <tr>\n",
       "      <th>9</th>\n",
       "      <td>75</td>\n",
       "      <td>17</td>\n",
       "      <td>5625</td>\n",
       "      <td>289</td>\n",
       "      <td>1275</td>\n",
       "    </tr>\n",
       "    <tr>\n",
       "      <th>10</th>\n",
       "      <td>67</td>\n",
       "      <td>16</td>\n",
       "      <td>4489</td>\n",
       "      <td>256</td>\n",
       "      <td>1072</td>\n",
       "    </tr>\n",
       "    <tr>\n",
       "      <th>11</th>\n",
       "      <td>73</td>\n",
       "      <td>25</td>\n",
       "      <td>5329</td>\n",
       "      <td>625</td>\n",
       "      <td>1825</td>\n",
       "    </tr>\n",
       "    <tr>\n",
       "      <th>12</th>\n",
       "      <td>70</td>\n",
       "      <td>18</td>\n",
       "      <td>4900</td>\n",
       "      <td>324</td>\n",
       "      <td>1260</td>\n",
       "    </tr>\n",
       "    <tr>\n",
       "      <th>13</th>\n",
       "      <td>73</td>\n",
       "      <td>22</td>\n",
       "      <td>5329</td>\n",
       "      <td>484</td>\n",
       "      <td>1606</td>\n",
       "    </tr>\n",
       "    <tr>\n",
       "      <th>14</th>\n",
       "      <td>68</td>\n",
       "      <td>18</td>\n",
       "      <td>4624</td>\n",
       "      <td>324</td>\n",
       "      <td>1224</td>\n",
       "    </tr>\n",
       "    <tr>\n",
       "      <th>15</th>\n",
       "      <td>73</td>\n",
       "      <td>17</td>\n",
       "      <td>5329</td>\n",
       "      <td>289</td>\n",
       "      <td>1241</td>\n",
       "    </tr>\n",
       "    <tr>\n",
       "      <th>16</th>\n",
       "      <td>71</td>\n",
       "      <td>23</td>\n",
       "      <td>5041</td>\n",
       "      <td>529</td>\n",
       "      <td>1633</td>\n",
       "    </tr>\n",
       "    <tr>\n",
       "      <th>17</th>\n",
       "      <td>71</td>\n",
       "      <td>25</td>\n",
       "      <td>5041</td>\n",
       "      <td>625</td>\n",
       "      <td>1775</td>\n",
       "    </tr>\n",
       "    <tr>\n",
       "      <th>18</th>\n",
       "      <td>79</td>\n",
       "      <td>26</td>\n",
       "      <td>6241</td>\n",
       "      <td>676</td>\n",
       "      <td>2054</td>\n",
       "    </tr>\n",
       "    <tr>\n",
       "      <th>19</th>\n",
       "      <td>73</td>\n",
       "      <td>28</td>\n",
       "      <td>5329</td>\n",
       "      <td>784</td>\n",
       "      <td>2044</td>\n",
       "    </tr>\n",
       "    <tr>\n",
       "      <th>20</th>\n",
       "      <td>77</td>\n",
       "      <td>23</td>\n",
       "      <td>5929</td>\n",
       "      <td>529</td>\n",
       "      <td>1771</td>\n",
       "    </tr>\n",
       "    <tr>\n",
       "      <th>21</th>\n",
       "      <td>74</td>\n",
       "      <td>28</td>\n",
       "      <td>5476</td>\n",
       "      <td>784</td>\n",
       "      <td>2072</td>\n",
       "    </tr>\n",
       "    <tr>\n",
       "      <th>22</th>\n",
       "      <td>79</td>\n",
       "      <td>25</td>\n",
       "      <td>6241</td>\n",
       "      <td>625</td>\n",
       "      <td>1975</td>\n",
       "    </tr>\n",
       "    <tr>\n",
       "      <th>23</th>\n",
       "      <td>75</td>\n",
       "      <td>28</td>\n",
       "      <td>5625</td>\n",
       "      <td>784</td>\n",
       "      <td>2100</td>\n",
       "    </tr>\n",
       "    <tr>\n",
       "      <th>24</th>\n",
       "      <td>76</td>\n",
       "      <td>28</td>\n",
       "      <td>5776</td>\n",
       "      <td>784</td>\n",
       "      <td>2128</td>\n",
       "    </tr>\n",
       "    <tr>\n",
       "      <th>25</th>\n",
       "      <td>72</td>\n",
       "      <td>23</td>\n",
       "      <td>5184</td>\n",
       "      <td>529</td>\n",
       "      <td>1656</td>\n",
       "    </tr>\n",
       "    <tr>\n",
       "      <th>Total</th>\n",
       "      <td>1769</td>\n",
       "      <td>513</td>\n",
       "      <td>125779</td>\n",
       "      <td>11231</td>\n",
       "      <td>36747</td>\n",
       "    </tr>\n",
       "  </tbody>\n",
       "</table>\n",
       "</div>"
      ],
      "text/plain": [
       "0         x    y     x^2    y^2     xy\n",
       "No                                    \n",
       "1        66   20    4356    400   1320\n",
       "2        65   11    4225    121    715\n",
       "3        64   14    4096    196    896\n",
       "4        67   10    4489    100    670\n",
       "5        60   15    3600    225    900\n",
       "6        62   20    3844    400   1240\n",
       "7        69   15    4761    225   1035\n",
       "8        70   18    4900    324   1260\n",
       "9        75   17    5625    289   1275\n",
       "10       67   16    4489    256   1072\n",
       "11       73   25    5329    625   1825\n",
       "12       70   18    4900    324   1260\n",
       "13       73   22    5329    484   1606\n",
       "14       68   18    4624    324   1224\n",
       "15       73   17    5329    289   1241\n",
       "16       71   23    5041    529   1633\n",
       "17       71   25    5041    625   1775\n",
       "18       79   26    6241    676   2054\n",
       "19       73   28    5329    784   2044\n",
       "20       77   23    5929    529   1771\n",
       "21       74   28    5476    784   2072\n",
       "22       79   25    6241    625   1975\n",
       "23       75   28    5625    784   2100\n",
       "24       76   28    5776    784   2128\n",
       "25       72   23    5184    529   1656\n",
       "Total  1769  513  125779  11231  36747"
      ]
     },
     "execution_count": 277,
     "metadata": {},
     "output_type": "execute_result"
    }
   ],
   "source": [
    "sheet = client.open_by_key(SPREADSHEET_ID).worksheet(\"Sheet2\") # 最初のシートを取得\n",
    "\n",
    "# データを取得\n",
    "list_of_lists = sheet.get_all_values()\n",
    "\n",
    "df = pd.DataFrame.from_records(list_of_lists)\n",
    "df.columns = df.iloc[0]\n",
    "df = df.drop(index=0)\n",
    "\n",
    "# Establecer la primera columna como índice\n",
    "df = df.set_index(df.columns[0])\n",
    "\n",
    "df[[\"x\",\"y\"]] = df[[\"x\",\"y\"]].apply(pd.to_numeric)\n",
    "data = df.copy()\n",
    "\n",
    "df[\"x^2\"] = df[\"x\"]**2\n",
    "df[\"y^2\"] = df[\"y\"]**2\n",
    "df[\"xy\"] = df[\"x\"]*df[\"y\"]\n",
    "df.loc[\"Total\"] = df.sum()\n",
    "\n",
    "df.to_excel(\"Data_1/Tabla_9_3.xlsx\")\n",
    "\n",
    "print(\"Tabla 9.3: Tabla de datos y tabla auxiliar de cáluculos\")\n",
    "df"
   ]
  },
  {
   "cell_type": "markdown",
   "metadata": {},
   "source": [
    "## 9.2-1 Estimación de los parámetros y la ecuación de regresión\n",
    "\n",
    "#### Paso 1: Calcular la suma de cuadrados y la suma de productos.\n",
    "\n",
    "* $ \\bar{x} = \\frac{1}{n} \\sum x_i $\n",
    "* $ \\bar{y} = \\frac{1}{n} \\sum y_i $\n",
    "* $ S_{xx}^2 = \\sum x_i^2 - \\frac{1}{n} ( \\sum x_i)^2 $\n",
    "* $ S_{yy}^2 = \\sum y_i^2 - \\frac{1}{n} ( \\sum y_i)^2 $\n",
    "* $ S_{xy} = \\sum x_i y_i  - \\frac{1}{n} \\sum x_i \\times \\sum y_i $"
   ]
  },
  {
   "cell_type": "code",
   "execution_count": 278,
   "metadata": {},
   "outputs": [
    {
     "name": "stdout",
     "output_type": "stream",
     "text": [
      "Sxx^2 = 604.56\n",
      "Syy^2 = 704.24\n",
      "Sxy = 447.12\n"
     ]
    }
   ],
   "source": [
    "def sum_of_squares(X):\n",
    "    return np.sum(X**2)\n",
    "\n",
    "def sum_of_products(X, Y):\n",
    "  if len(X) != len(Y):\n",
    "    raise ValueError(\"Las listas x e y deben tener la misma longitud.\")\n",
    "  return np.sum(X * Y)\n",
    "\n",
    "X = data[\"x\"]\n",
    "y = data[\"y\"]\n",
    "n = len(X)\n",
    "\n",
    "xbar = X.mean()\n",
    "ybar = y.mean()\n",
    "\n",
    "Sxx2 = sum_of_squares(X) - (sum(X)**2)/n\n",
    "Syy2 = sum_of_squares(y) - (sum(y)**2)/n\n",
    "Sxy = sum_of_products(X,y) - (sum(X)*sum(y))/n\n",
    "\n",
    "print(f\"Sxx^2 = {Sxx2:.2f}\")\n",
    "print(f\"Syy^2 = {Syy2:.2f}\")\n",
    "print(f\"Sxy = {Sxy:.2f}\")"
   ]
  },
  {
   "cell_type": "code",
   "execution_count": 279,
   "metadata": {},
   "outputs": [
    {
     "name": "stdout",
     "output_type": "stream",
     "text": [
      "Sxx^2 = 604.56\n",
      "Syy^2 = 704.24\n",
      "Sxy = 447.12\n"
     ]
    }
   ],
   "source": [
    "def sum_of_squares(X):\n",
    "    return np.sum(X**2)\n",
    "\n",
    "def sum_of_products(X, Y):\n",
    "  if len(X) != len(Y):\n",
    "    raise ValueError(\"Las listas x e y deben tener la misma longitud.\")\n",
    "  return np.sum(X * Y)\n",
    "\n",
    "X = data[\"x\"]\n",
    "y = data[\"y\"]\n",
    "n = len(X)\n",
    "\n",
    "xbar = X.mean()\n",
    "ybar = y.mean()\n",
    "\n",
    "Sxx2 = sum_of_squares(X) - (sum(X)**2)/n\n",
    "Syy2 = sum_of_squares(y) - (sum(y)**2)/n\n",
    "Sxy = sum_of_products(X,y) - (sum(X)*sum(y))/n\n",
    "\n",
    "print(f\"Sxx^2 = {Sxx2:.2f}\")\n",
    "print(f\"Syy^2 = {Syy2:.2f}\")\n",
    "print(f\"Sxy = {Sxy:.2f}\")"
   ]
  },
  {
   "cell_type": "markdown",
   "metadata": {},
   "source": [
    "#### Paso 2: Estimar los parámetros de regresión\n",
    "\n",
    "$ \\hat{\\beta}_1 = S_{xy} / S_{xx} $\n",
    "\n",
    "$ \\hat{\\beta}_0 = \\bar{y} - \\hat{\\beta}_1 \\bar{x} $\n",
    "\n",
    "$ \\hat{\\mu} = \\hat{\\beta_0} + \\hat{\\beta_1} x = -31.842 + 0.740 x $"
   ]
  },
  {
   "cell_type": "code",
   "execution_count": 280,
   "metadata": {},
   "outputs": [
    {
     "name": "stdout",
     "output_type": "stream",
     "text": [
      "beta_1 = 0.740\n",
      "beta_0 = -31.813\n"
     ]
    }
   ],
   "source": [
    "beta_1 = Sxy/Sxx2\n",
    "print(f\"beta_1 = {beta_1:.3f}\")\n",
    "\n",
    "beta_0 = ybar - beta_1*xbar\n",
    "print(f\"beta_0 = {beta_0:.3f}\")"
   ]
  },
  {
   "cell_type": "markdown",
   "metadata": {},
   "source": [
    "#### OLS Regression"
   ]
  },
  {
   "cell_type": "code",
   "execution_count": 281,
   "metadata": {},
   "outputs": [
    {
     "name": "stdout",
     "output_type": "stream",
     "text": [
      "Ecuación de regresión: y = -31.813 + 0.740x\n",
      "Resultados del análisis de regresión:\n",
      "                            OLS Regression Results                            \n",
      "==============================================================================\n",
      "Dep. Variable:                      y   R-squared:                       0.470\n",
      "Model:                            OLS   Adj. R-squared:                  0.446\n",
      "Method:                 Least Squares   F-statistic:                     20.36\n",
      "Date:                Tue, 09 Sep 2025   Prob (F-statistic):           0.000157\n",
      "Time:                        18:22:04   Log-Likelihood:                -69.276\n",
      "No. Observations:                  25   AIC:                             142.6\n",
      "Df Residuals:                      23   BIC:                             145.0\n",
      "Df Model:                           1                                         \n",
      "Covariance Type:            nonrobust                                         \n",
      "==============================================================================\n",
      "                 coef    std err          t      P>|t|      [0.025      0.975]\n",
      "------------------------------------------------------------------------------\n",
      "const        -31.8126     11.626     -2.736      0.012     -55.863      -7.762\n",
      "x              0.7396      0.164      4.512      0.000       0.401       1.079\n",
      "==============================================================================\n",
      "Omnibus:                        1.609   Durbin-Watson:                   2.106\n",
      "Prob(Omnibus):                  0.447   Jarque-Bera (JB):                1.105\n",
      "Skew:                          -0.226   Prob(JB):                        0.576\n",
      "Kurtosis:                       2.075   Cond. No.                     1.02e+03\n",
      "==============================================================================\n",
      "\n",
      "Notes:\n",
      "[1] Standard Errors assume that the covariance matrix of the errors is correctly specified.\n",
      "[2] The condition number is large, 1.02e+03. This might indicate that there are\n",
      "strong multicollinearity or other numerical problems.\n"
     ]
    },
    {
     "data": {
      "image/png": "[encoded data removed]",
      "text/plain": [
       "<Figure size 432x288 with 1 Axes>"
      ]
     },
     "metadata": {
      "needs_background": "light"
     },
     "output_type": "display_data"
    }
   ],
   "source": [
    "import statsmodels.api as sm\n",
    "from statsmodels.formula.api import ols\n",
    "\n",
    "y = data[\"y\"]\n",
    "X = data[\"x\"]\n",
    "\n",
    "plt.scatter(X,y)\n",
    "plt.xlim(50,90)\n",
    "plt.ylim(0,35)\n",
    "plt.xlabel(\"x\")\n",
    "plt.ylabel(\"y\")\n",
    "plt.title(\"Figura 9.3: Diagrama de dispersión\")\n",
    "plt.grid()\n",
    "\n",
    "# Análisis de regresión (método de mínimos cuadrados)\n",
    "X_with_const = sm.add_constant(X)  # Agregar el término constante (β0)\n",
    "model = sm.OLS(y, X_with_const)\n",
    "results = model.fit()  # Ajuste del modelo de regresión\n",
    "\n",
    "# Representación de la línea de regresión\n",
    "xx = np.linspace(55,85,100)\n",
    "plt.plot(xx, results.params.iloc[0] + results.params.iloc[1]*xx, color=\"red\", label=\"Línea de regresión\")\n",
    "plt.legend()\n",
    "\n",
    "# Mostrar la ecuación de regresión\n",
    "print(f\"Ecuación de regresión: y = {results.params.iloc[0]:.3f} + {results.params.iloc[1]:.3f}x\")\n",
    "\n",
    "# Mostrar los resultados del análisis de regresión\n",
    "print(\"Resultados del análisis de regresión:\")\n",
    "print(results.summary())\n"
   ]
  },
  {
   "cell_type": "markdown",
   "metadata": {},
   "source": [
    "OLS Regression Results の表は、回帰分析の結果を要約して表示するもので、多くの重要な統計情報が含まれています。以下に、表の各部分の意味と見方を説明します。\n",
    "\n",
    "1. Dep. Variable (従属変数)\n",
    "回帰モデルで予測しようとしている変数の名前です。\n",
    "2. R-squared (決定係数)\n",
    "モデルがデータの分散をどれだけ説明できるかを示す指標。0から1の範囲をとり、値が1に近いほど良いモデルを意味します。\n",
    "3. Adj. R-squared (自由度調整済み決定係数)\n",
    "説明変数の数を考慮した決定係数。説明変数が多すぎるモデルを避けるために使います。\n",
    "4. F-statistic (F統計量)\n",
    "モデル全体が有意かどうかを検定する統計量。対応する p 値が小さいほど、モデルが有意であることを示します。\n",
    "5. Prob (F-statistic) (F統計量のp値)\n",
    "モデル全体の有意性を判断するための p 値。通常、0.05未満ならモデルは有意です。\n",
    "6. Log-Likelihood (対数尤度)\n",
    "モデルの適合度を表す指標で、数値が大きいほど良いモデルです。\n",
    "7. AIC (赤池情報量基準) と BIC (ベイズ情報量基準)\n",
    "モデルの良さを測る情報量基準。値が小さいほど良いモデル。\n",
    "8. Coefficients (回帰係数)\n",
    "説明変数と従属変数の関係を示す係数。\n",
    "const (切片): 回帰直線が y 軸と交わる点。\n",
    "説明変数 (e.g., X1, X2): 説明変数1単位あたりの従属変数の変化。\n",
    "9. Std. Error (標準誤差)\n",
    "回帰係数の推定値の不確実性を示す。\n",
    "10. t (t値) と P>|t| (p値)\n",
    "各回帰係数がゼロであるという仮説を検定する t 値とその p 値。\n",
    "通常、p 値が0.05未満であれば有意。\n",
    "11. [0.025, 0.975] (信頼区間)\n",
    "各係数の95%信頼区間。"
   ]
  },
  {
   "cell_type": "markdown",
   "metadata": {},
   "source": [
    "La tabla de resultados de OLS Regression Results resume los resultados del análisis de regresión, incluyendo estadísticas clave. Aquí se explica cada sección y cómo interpretarla:\n",
    "\n",
    "1. Dep. Variable (Variable dependiente)\n",
    "El nombre de la variable que se intenta predecir con el modelo de regresión.\n",
    "2. R-squared (Coeficiente de determinación)\n",
    "Indica qué proporción de la varianza de los datos es explicada por el modelo. Varía entre 0 y 1, donde valores más cercanos a 1 indican un mejor ajuste del modelo.\n",
    "3. Adj. R-squared (Coeficiente de determinación ajustado)\n",
    "Considera el número de variables independientes. Ayuda a evitar un modelo sobre ajustado.\n",
    "4. F-statistic (Estadístico F)\n",
    "Evalúa la significancia del modelo en su conjunto. Un valor p bajo sugiere que el modelo es significativo.\n",
    "5. Prob (F-statistic) (Valor p del estadístico F)\n",
    "Indica la significancia global del modelo. Un valor inferior a 0.05 generalmente sugiere que el modelo es significativo.\n",
    "6. Log-Likelihood (Logaritmo de verosimilitud)\n",
    "Mide el ajuste del modelo. Valores más altos indican mejor ajuste.\n",
    "7. AIC y BIC (Criterios de información de Akaike y Bayes)\n",
    "Miden la calidad del modelo. Valores más bajos indican mejor ajuste.\n",
    "8. Coefficients (Coeficientes de regresión)\n",
    "Muestran la relación entre las variables independientes y dependientes.\n",
    "const: Intersección de la recta de regresión con el eje y.\n",
    "Variables independientes (e.g., X1, X2): Cambio en la variable dependiente por cada unidad de cambio en la variable independiente.\n",
    "9. Std. Error (Error estándar)\n",
    "Mide la incertidumbre de los coeficientes estimados.\n",
    "10. t y P>|t|\n",
    "Prueba si los coeficientes son significativamente diferentes de cero.\n",
    "Un valor p < 0.05 generalmente indica significancia.\n",
    "11. [0.025, 0.975] (Intervalo de confianza)\n",
    "Intervalo de confianza del 95% para los coeficientes.\n"
   ]
  },
  {
   "cell_type": "markdown",
   "metadata": {},
   "source": [
    "## 9.2-2 Cálculo de la tabla ANOVA y del coeficiente de determinación."
   ]
  },
  {
   "cell_type": "markdown",
   "metadata": {},
   "source": [
    "### 分散分析表\n",
    "\n",
    "複数のグループの平均の違いを検定すること\n",
    "\n",
    "分散分析は母平均を検定している。（T検定と同じ）\n",
    "\n",
    "分散分析は３群以上の時に使う\n",
    "\n",
    "帰無仮説と対立仮説を確認すると、分散分析で有意になったとしても、どの群の平均が異なるか、ということまではわからない\n",
    "\n",
    "分散分析をした後に２群検定の多重比較は推奨しない\n",
    "\n",
    "回帰式 $ \\hat{\\mu} = \\hat{\\beta}_0 + \\hat{\\beta}_1 x $\n",
    "\n",
    "総平方和 $ S_T = \\sum (y_i - \\bar{y})^2 $\n",
    "\n",
    "回帰平方和 $ S_R = \\sum (\\hat{y}_i - \\bar{y})^2 = \\hat{\\beta}_1^2 S_{xx} = \\frac{S_{xy}^2}{S_{xx}}$\n",
    "\n",
    "残差平方和 $ S_{\\epsilon} = \\sum (y_i - \\hat{y}_i)^2 $\n"
   ]
  },
  {
   "cell_type": "markdown",
   "metadata": {},
   "source": [
    "### Tabla de análisis de varianza (ANOVA)\n",
    "\n",
    "El análisis de varianza se utiliza para comparar las medias de múltiples grupos.\n",
    "\n",
    "El análisis de varianza es una prueba para la media poblacional (similar a la prueba t).\n",
    "\n",
    "Se utiliza el análisis de varianza cuando hay tres o más grupos.\n",
    "\n",
    "Al formular las hipótesis, aunque el ANOVA indique significancia, no especifica qué grupos tienen medidas diferentes.\n",
    "\n",
    "No se recomienda realizar comparaciones múltiples de dos grupos después de un ANOVA.\n",
    "\n",
    "Ecuación de regresión $ \\hat{\\mu} = \\hat{\\beta}_0 + \\hat{\\beta}_1 x $\n",
    "\n",
    "Suma total de cuadrados $ S_T = \\sum (y_i - \\bar{y})^2 $\n",
    "\n",
    "Suma de cuadrados de los residuos $ S_R = \\sum (\\hat{y}_i - \\bar{y})^2 = \\hat{\\beta}_1^2 S_{xx} = \\frac{S_{xy}^2}{S_{xx}}$\n",
    "\n",
    "Suma de cuadrados de los residuos $ S_{\\epsilon} = \\sum (y_i - \\hat{y}_i)^2 $\n"
   ]
  },
  {
   "cell_type": "markdown",
   "metadata": {},
   "source": [
    "La determianción de la significancia se realiza cuando $ F_0 $ se cumple, se dictamina que es significativa con nivel de significancia $ \\alpha $\n",
    "\n",
    "Segun la Tabla 9.4, $ F_0 = 20.360 \\geq F(1, 23: 0.01) = 7.88 $,\n",
    "\n",
    "La regresión $ \\beta_1 $ puede considerarse altamente significativa."
   ]
  },
  {
   "cell_type": "code",
   "execution_count": 282,
   "metadata": {},
   "outputs": [
    {
     "name": "stdout",
     "output_type": "stream",
     "text": [
      "Tabla de análisis de varianza para el análisis de regresión (ANOVA):\n",
      "              sum_sq    df          F    PR(>F)\n",
      "x         330.680651   1.0  20.359964  0.000157\n",
      "Residual  373.559349  23.0        NaN       NaN\n",
      "\n",
      "Ecuación de regresión: y = -31.813 + 0.740X\n"
     ]
    }
   ],
   "source": [
    "import statsmodels.formula.api as smf\n",
    "\n",
    "# Construcción del modelo de regresión\n",
    "model = smf.ols('y ~ x', data=data).fit()\n",
    "\n",
    "# Creación de la tabla de análisis de varianza\n",
    "anova_table = sm.stats.anova_lm(model, typ=2)\n",
    "\n",
    "# Presentación de los resultados\n",
    "print(\"Tabla de análisis de varianza para el análisis de regresión (ANOVA):\")\n",
    "print(anova_table)\n",
    "print(f\"\\nEcuación de regresión: y = {model.params['Intercept']:.3f} + {model.params['x']:.3f}X\")\n"
   ]
  },
  {
   "cell_type": "markdown",
   "metadata": {},
   "source": [
    "## 9.2-3 Cálculo del coeficiente de determinación:\n",
    "\n",
    "Calcula el coeficiente de correlación y el valor p"
   ]
  },
  {
   "cell_type": "code",
   "execution_count": 283,
   "metadata": {},
   "outputs": [
    {
     "name": "stdout",
     "output_type": "stream",
     "text": [
      "\n",
      "Análisis de Varianza:\n",
      "Suma de cuadrados de regresión (SSR): 330.681\n",
      "Suma de cuadrados de los residuos (SSE): 373.559\n",
      "Suma total de cuadrados (SST): 704.240\n",
      "Valor F: 20.360\n",
      "Valor p: 0.000\n",
      "\n",
      "Coeficiente de determinaci:on R^2: 0.470\n"
     ]
    }
   ],
   "source": [
    "# Calcular manualmente el análisis de varianza\n",
    "from scipy import stats\n",
    "\n",
    "# Suma de cuadrados de regresión (SSR)\n",
    "ssr = np.sum((results.fittedvalues - np.mean(y))**2)\n",
    "\n",
    "# Suma de cuadrados de los regresi:on (SSE)\n",
    "sse = np.sum((y - results.fittedvalues)**2)\n",
    "\n",
    "# Suma total de cuadrados (SST)\n",
    "sst = ssr + sse\n",
    "\n",
    "# Grados de libertad (df)\n",
    "df_regression = 1  # Grados de libertad de la regresión\n",
    "df_error = len(y) - 2  # Grados de libertad de residuos\n",
    "df_total = len(y) - 1  # Grados de libertad totales\n",
    "\n",
    "# Promedio de cuadrados (MS)\n",
    "msr = ssr / df_regression\n",
    "mse = sse / df_error\n",
    "\n",
    "# Valor F\n",
    "f_value = msr / mse\n",
    "p_value = 1 - stats.f.cdf(f_value, df_regression, df_error)\n",
    "\n",
    "# Mostrar el análisis de varianza\n",
    "print(\"\\nAnálisis de Varianza:\")\n",
    "print(f\"Suma de cuadrados de regresión (SSR): {ssr:.3f}\")\n",
    "print(f\"Suma de cuadrados de los residuos (SSE): {sse:.3f}\")\n",
    "print(f\"Suma total de cuadrados (SST): {sst:.3f}\")\n",
    "print(f\"Valor F: {f_value:.3f}\")\n",
    "print(f\"Valor p: {p_value:.3f}\")\n",
    "\n",
    "# Calucular el coeficiente de dterminación (R^2)\n",
    "r_squared = results.rsquared\n",
    "print(f\"\\nCoeficiente de determinaci:on R^2: {r_squared:.3f}\")"
   ]
  },
  {
   "cell_type": "code",
   "execution_count": 284,
   "metadata": {},
   "outputs": [
    {
     "name": "stdout",
     "output_type": "stream",
     "text": [
      "\n",
      "Coeficiente de correlacion: 0.685\n"
     ]
    }
   ],
   "source": [
    "r, _ = pearsonr(X, y)\n",
    "print(f\"\\nCoeficiente de correlacion: {r:.3f}\")"
   ]
  },
  {
   "cell_type": "markdown",
   "metadata": {},
   "source": [
    "## 2. Pruebas y estimaciones de los parámetros de regresión\n",
    "回帰母数に関する検定と推定\n",
    "\n",
    "### (1) Prueba de los parámetros de regresión\n",
    "回帰母数の検定\n",
    "\n",
    "El objetivo de la prueba.\n",
    "1. Si $ \\beta_1 $ es igual a cero (prueba de la hipótesis nula).\n",
    "2. ¿Es $ \\beta_1 $ diferente de un valor específico $ \\beta_{10} $?\n",
    "3. ¿Es $ \\beta_0 $ diferente de un valor específico $ \\beta_{00} $?\n",
    "4. ¿Es $ \\beta_0 $ diferente de un valor específico $ \\beta_{00} $ cuando $ x = \\bar{x} $\n",
    "\n",
    "\n",
    "### (2) Estimación de los parámetros de regresión, estimación por intervalo de la regresión poblacional y predicción de datos.\n",
    "回帰母数の推定、母回帰の区間推定、データ予測\n",
    "\n",
    "La anchura de la estimación por intervalo de la regresión poblacional varía de x especificado $ x_0 $. Tiene la propiedad de ser mínima cuando $ x_0 = \\bar{x} $ y de aumentar a medida que $ x_0 $ se aleja de $ \\bar{x} $.\n",
    "\n",
    "[Audio_6](https://drive.google.com/file/d/1YH6Ui_pJVqFaSwjTS_584A1y0g39Il6N/view?usp=drive_link)"
   ]
  },
  {
   "cell_type": "markdown",
   "metadata": {},
   "source": [
    "## 9.3\n",
    "\n",
    "例題９.２のデータを使い、以下の設問に答えよ。\n",
    "1. β０が０.３０と異なるか検定を行え。\n",
    "2. β１が０となるか検定を行え。\n",
    "3. 回帰母数β0とβ1について、信頼率95%で区間推定を行え。\n",
    "4. x=75における母回帰について、信頼率95%で区間推定を行え。\n",
    "5. 新たにx=80を取るとき、yの値を95%信頼区間で予測せよ。"
   ]
  },
  {
   "cell_type": "markdown",
   "metadata": {},
   "source": [
    "Usando los datos del Ejemplo 9.2, responde a las siguientes preguntas:\n",
    "\n",
    "1. Realiza una prueba para verificar si β₀ es diferente de 0.30\n",
    "2. Realiza una prueba para verificar si β₁es igual a 0.\n",
    "3. Realiza una estimación por intervalos con un nivel de confianza del 96% para los parámetros de regresión β₀ y β₁.\n",
    "4. Realiza una estimación por intervalos con un nivel de confianza del 95% para la regresión poblacional cuando x = 75.\n",
    "5. Predice el valor de y con un intervalo de confianza del 95% cuando se toma un nuevo valor de x = 80."
   ]
  },
  {
   "cell_type": "markdown",
   "metadata": {},
   "source": [
    "## 9.3-1\n",
    "\n",
    "β１が0.30と異なるか検定を行え\n",
    "\n",
    "Realice una prueba para determinar si $ \\beta_1 $ es diferente de 0.30\n",
    "\n"
   ]
  },
  {
   "cell_type": "code",
   "execution_count": 285,
   "metadata": {},
   "outputs": [
    {
     "name": "stdout",
     "output_type": "stream",
     "text": [
      "Estimación de β0: -31.813\n",
      "Error estándar de β0: 11.626\n",
      "Estadístico t: -2.762\n",
      "Valor p: 0.011\n",
      "Se rechaza la hipótesis nula: β₀ es diferente de 0.30\n"
     ]
    }
   ],
   "source": [
    "from scipy.stats import t\n",
    "\n",
    "# Prueba de hipótesis\n",
    "beta_0_hypothesis = 0.30  # Valor que se desea probar\n",
    "\n",
    "# Estimación y error estándar de β0\n",
    "beta_0_estimate = results.params.iloc[0]  # Estimación de β0\n",
    "beta_0_se = results.bse.iloc[0]           # Error estandar de β0\n",
    "\n",
    "# Cálculo del estadístico t\n",
    "t_stat = (beta_0_estimate - beta_0_hypothesis) / beta_0_se\n",
    "\n",
    "# Grados de libertad\n",
    "df_residuals = len(y) - 2\n",
    "\n",
    "# Cálculo del valor p (prueba bilateral)\n",
    "p_value = 2 * (1 - t.cdf(abs(t_stat), df=df_residuals))\n",
    "\n",
    "print(f\"Estimación de β0: {beta_0_estimate:.3f}\")\n",
    "print(f\"Error estándar de β0: {beta_0_se:.3f}\")\n",
    "print(f\"Estadístico t: {t_stat:.3f}\")\n",
    "print(f\"Valor p: {p_value:.3f}\")\n",
    "\n",
    "# Determinación con un nivel de significancia del 5%\n",
    "alpha = 0.05\n",
    "if p_value < alpha:\n",
    "    print(\"Se rechaza la hipótesis nula: β₀ es diferente de 0.30\")\n",
    "else:\n",
    "    print(\"Se acepta la hipótesis nual: β₀ no es significativamente diferente de 0.30\")\n"
   ]
  },
  {
   "cell_type": "markdown",
   "metadata": {},
   "source": [
    "## 9.3-2\n",
    "\n",
    "仮説検定: β0 = 0 であるかどうか\n",
    "\n",
    "Prueba de hipótesis: verficar si β₀ = 0.\n"
   ]
  },
  {
   "cell_type": "code",
   "execution_count": 286,
   "metadata": {},
   "outputs": [
    {
     "name": "stdout",
     "output_type": "stream",
     "text": [
      "Estimación deβ0: -31.813\n",
      "Error estándar deβ0: 11.626\n",
      "Estadístico t: -2.736\n",
      "Valor p: 0.012\n",
      "\n",
      "Rechazamos la hipótesis nula:  β₀ es diferente de 0\n"
     ]
    }
   ],
   "source": [
    "beta_0_hypothesis = 0  # Valor que se desea contrastar\n",
    "\n",
    "# Estimación de β₀ y su error estándar\n",
    "beta_0_estimate = results.params.iloc[0]\n",
    "beta_0_se = results.bse.iloc[0]\n",
    "\n",
    "# Cálculo del estadístico t.\n",
    "t_stat = (beta_0_estimate - beta_0_hypothesis) / beta_0_se\n",
    "\n",
    "# Grado de libertad.\n",
    "df_residuals = len(y) - 2\n",
    "\n",
    "# Cálculo del valor p (prueba bilateral)\n",
    "p_value = 2 * (1 - t.cdf(abs(t_stat), df=df_residuals))\n",
    "\n",
    "# Presentación de los resultados.\n",
    "print(f\"Estimación deβ0: {beta_0_estimate:.3f}\")\n",
    "print(f\"Error estándar deβ0: {beta_0_se:.3f}\")\n",
    "print(f\"Estadístico t: {t_stat:.3f}\")\n",
    "print(f\"Valor p: {p_value:.3f}\")\n",
    "\n",
    "# Determinación con un nivel de significancia del 95%\n",
    "alpha = 0.05\n",
    "if p_value < alpha:\n",
    "    print(\"\\nRechazamos la hipótesis nula:  β₀ es diferente de 0\")\n",
    "else:\n",
    "    print(\"\\nAceptamos la hipótesis nula:  β₀ no es significativamente diferente de 0\")"
   ]
  },
  {
   "cell_type": "markdown",
   "metadata": {},
   "source": [
    "## 9.3-3\n",
    "\n",
    "回帰母数β₀とβ₁について信頼区間を計算\n",
    "\n",
    "Caluclar el intervalo dse confianza para los parámetros de regresión β₀ y β₁."
   ]
  },
  {
   "cell_type": "code",
   "execution_count": 287,
   "metadata": {},
   "outputs": [
    {
     "name": "stdout",
     "output_type": "stream",
     "text": [
      "Parámetros β₀ y β₁ de intervalo de confianza del 95%:\n",
      "               0         1\n",
      "const -55.862833 -7.762415\n",
      "x       0.400513  1.078646\n"
     ]
    }
   ],
   "source": [
    "conf_int_beta = results.conf_int(alpha=0.05)  # Intervalo de confiaza del 95%.\n",
    "print(\"Parámetros β₀ y β₁ de intervalo de confianza del 95%:\")\n",
    "print(conf_int_beta)"
   ]
  },
  {
   "cell_type": "markdown",
   "metadata": {},
   "source": [
    "## 9.3-4\n",
    "\n",
    "x = 75 における母回帰の区間推定\n",
    "\n",
    "Estimación por intervalo de la regresión poblacional para x=75."
   ]
  },
  {
   "cell_type": "code",
   "execution_count": 288,
   "metadata": {},
   "outputs": [
    {
     "name": "stdout",
     "output_type": "stream",
     "text": [
      "\n",
      "Estimación por intervalo de la regresión poblacional para x = 75:\n",
      "Valor predicho: 23.66\n",
      "Intervalo de confianza: [21.45, 25.86]\n"
     ]
    }
   ],
   "source": [
    "# Configurar la columna de la intersección y x=75.\n",
    "x_target_75 = np.array([[1, 75]])\n",
    "prediction_75 = results.get_prediction(x_target_75)\n",
    "\n",
    "# Intervalo de confianza del 95%.\n",
    "conf_int_75 = prediction_75.conf_int(alpha=0.05)\n",
    "\n",
    "print(f\"\\nEstimación por intervalo de la regresión poblacional para x = 75:\")\n",
    "print(f\"Valor predicho: {prediction_75.predicted_mean[0]:.2f}\")\n",
    "print(f\"Intervalo de confianza: [{conf_int_75[0][0]:.2f}, {conf_int_75[0][1]:.2f}]\")\n"
   ]
  },
  {
   "cell_type": "markdown",
   "metadata": {},
   "source": [
    "## 9.3-5\n",
    "\n",
    "x = 80 における予測値と信頼区間を計算\n",
    "\n",
    "Calcular el valor predicho y el intervalo de confianza para x=80"
   ]
  },
  {
   "cell_type": "code",
   "execution_count": 289,
   "metadata": {},
   "outputs": [
    {
     "name": "stdout",
     "output_type": "stream",
     "text": [
      "\n",
      "Valor t con 24 grados de libertad (nivel de confianza del 95%): 2.064\n",
      "\n",
      "Coeficientes: β₀ = -31.813, β₁ = 0.740\n",
      "Valor predicho para x = 80 : 27.354\n",
      "Intervalo de confianza del 95% para x = 80 : [18.531, 36.176]\n"
     ]
    }
   ],
   "source": [
    "# obtener los coeficientes de regresióon\n",
    "beta_0 = results.params['const']\n",
    "beta_1 = results.params['x']\n",
    "\n",
    "# Obtener la suma de cuadrados residuales (SSE)\n",
    "SSE = np.sum(results.resid**2)\n",
    "\n",
    "# Calcular las caracter:isticas de los adatos\n",
    "n = len(df)  # Tamaño de la muestra.\n",
    "x_mean = X.mean()  # Media de x.\n",
    "x_var = np.var(X, ddof=1)  # Varianza muestral de x.\n",
    "MSE = SSE / (n - 2)  # Varianza residual.\n",
    "\n",
    "# Establecer los grados de libertad y el nivel de confianza.\n",
    "alpha = 0.05  # Nivel de significancia (nivel de confianza del 95%)\n",
    "df_t = n - 2  # Grados de libertad.\n",
    "\n",
    "# Calcular el valor t.\n",
    "t_value = t.ppf(1 - alpha / 2, df_t)\n",
    "print(f\"\\nValor t con {df_t} grados de libertad (nivel de confianza del 95%): {t_value:.3f}\")\n",
    "\n",
    "x_target = 80\n",
    "y_hat = beta_0 + beta_1 * x_target\n",
    "\n",
    "# Calcular el ancho del intervalo de confianza\n",
    "conf_width = t_value * np.sqrt(\n",
    "    MSE * (1 + (1 / n) + ((x_target - x_mean)**2) / (x_var * (n - 1)))\n",
    ")\n",
    "\n",
    "# Calcular el intervalo de confianza.\n",
    "conf_int = [y_hat - conf_width, y_hat + conf_width]\n",
    "\n",
    "# Mostrar los resultados.\n",
    "print(f\"\\nCoeficientes: β₀ = {beta_0:.3f}, β₁ = {beta_1:.3f}\")\n",
    "print(f\"Valor predicho para x = {x_target} : {y_hat:.3f}\")\n",
    "print(f\"Intervalo de confianza del 95% para x = {x_target} : [{conf_int[0]:.3f}, {conf_int[1]:.3f}]\")"
   ]
  },
  {
   "cell_type": "markdown",
   "metadata": {},
   "source": [
    "## 3. Análisis de regresión simple con repeticiones\n",
    "くり返しのある場合の単回帰分析\n",
    "\n",
    "Con repeticiones significa que existen múltiples valores de $ y $ para un $ x $ específico.\n",
    "Tener repeticiones permite estimar el error dentro de los niveles (o dentro de los grupos). Este tipo de análisis de regresión simple se denomina análisis de regresión simple con repeticiones.\n",
    "\n",
    "A la variación dentro del mismo nivel se le denomina **variación intraclase** (o variación dentro de los grupos) y su suma de cuadrados se escribe como $ S_E $. A la variación entre niveles se le denomina **variación interclase** (o variación entre los grupos) y su suma de cuadrados se escribe como $ S_A $.\n",
    "\n",
    "Cuando la **suma de cuadrados de los residuos** es $ S_R $ y la **suma de cuadrados de la regresión** es $ S_e $.\n",
    "\n",
    "$ S_T = S_E + S_A = S_E + (S_A - S_R) + S_R $\n",
    "\n",
    "$ S_T = S_e + S_R = S_E + (S_e - S_E) + S_R $\n",
    "\n",
    "A la segunda parte de estas dos ecuaciones se le conoce como la **suma de cuadrados de la falta de ajuste** (lack of fit) y  se representa de la siguiente manera:\n",
    "\n",
    "$ S_{lof} = S_A - S_R = S_e - S_E $\n",
    "\n",
    "En el modelo de regresión simple, se establece la suposición de que la media poblacional de cada nivel se expresa mediante una ecuación lineal de $ x $.\n",
    "\n",
    "Podemos determinar si es apropiado asumir un **modelo de regresión simple** para los datos dados a partir de la **suma de cuadrados de la falta de ajuste**.\n",
    "\n",
    "\n",
    "En el análisis de regresión simple con repeticiones, al crear una tabla ANOVA como la Tabla 9.7., es posible realizar pruebas para la variación entre niveles y la falta de ajuste. Si la falta de ajuste no es significativa y el valor de $ F_0 $ es pequeño, se agrupa con el error para realizar la prueba de regresión lineal.\n",
    "\n",
    "[Audio_7](https://drive.google.com/file/d/1fWLV-_V9e71WjxAx4NMKImBTbPyomJmp/view?usp=drive_link)"
   ]
  },
  {
   "cell_type": "markdown",
   "metadata": {},
   "source": [
    "## 9.4\n",
    "\n",
    "部品Cの製造工程における、加工精度ｘ（μｍ）と振動特性ｙ（μｍ/ｓ）の間にどのような関係があるのかを調べるため、繰り返し実験を行い表９．８を作成した。図示すると図９．４のようになる。回帰母数β０、β１を計算し、母回帰式を求めよ。\n",
    "\n",
    "Para investigar la relación entre la precisión de procesamiento $ x (\\mu m) $ y las características de vibración $ y (\\mu m /s) $ en el proceso de fabricación de la pieza C, se realizaron experimentos repetidos y se elaboró la tabla 9.8. Al representarlo gráficamente, se obtiene la figura 9.4. Calcule los parámetros de regresión $ \\beta_0 $ y $ \\beta_1 $, y determine la ecuación de regresión poblacional."
   ]
  },
  {
   "cell_type": "code",
   "execution_count": 290,
   "metadata": {},
   "outputs": [],
   "source": [
    "# Obtener los datos (como lista)\n",
    "sheet = client.open_by_key(SPREADSHEET_ID).worksheet(\"Sheet3\") # 最初のシートを取得\n",
    "\n",
    "# データを取得\n",
    "list_of_lists = sheet.get_all_values()\n",
    "\n",
    "df = pd.DataFrame.from_records(list_of_lists)\n",
    "df.columns = df.iloc[0]\n",
    "df = df.drop(index=0)\n",
    "\n",
    "# Establecer la primera columna como índice\n",
    "df = df.set_index(df.columns[0])\n",
    "\n",
    "df[[\"x\",\"y\"]] = df[[\"x\",\"y\"]].apply(pd.to_numeric)\n",
    "data = df.copy()"
   ]
  },
  {
   "cell_type": "code",
   "execution_count": 291,
   "metadata": {},
   "outputs": [
    {
     "name": "stdout",
     "output_type": "stream",
     "text": [
      "x   0   1   2   3   4\n",
      "0  38  51  57  64  70\n",
      "1  37  48  50  56  63\n",
      "2  42  36  61  69  74\n"
     ]
    }
   ],
   "source": [
    "# xでグループ化し、各グループをリストにして列にする\n",
    "table = df.groupby('x')['y'].apply(list).apply(pd.Series).T\n",
    "\n",
    "# 列順をxの昇順に明示的に整える\n",
    "table = table[[0, 1, 2, 3, 4]]\n",
    "\n",
    "# 結果表示\n",
    "print(table)"
   ]
  },
  {
   "cell_type": "markdown",
   "metadata": {},
   "source": [
    "#### Paso 2: Cálculo de valores para tabla de ANOVA\n",
    "\n"
   ]
  },
  {
   "cell_type": "code",
   "execution_count": 292,
   "metadata": {},
   "outputs": [],
   "source": [
    "#\n",
    "N = len(df)\n",
    "a = df['x'].nunique()\n",
    "\n",
    "# 総平方和（SST）\n",
    "grand_mean = df['y'].mean()\n",
    "SST = ((df['y'] - grand_mean) ** 2).sum()\n",
    "\n",
    "# 各水準の平均\n",
    "group_means = df.groupby('x')['y'].mean()\n",
    "\n",
    "# 回帰（直線）モデルの平方和 SSR（1自由度）\n",
    "x_mean = df['x'].mean()\n",
    "b1 = ((df['x'] - x_mean) * (df['y'] - grand_mean)).sum() / ((df['x'] - x_mean)**2).sum()\n",
    "y_hat_linear = b1 * (df['x'] - x_mean) + grand_mean\n",
    "SSR = ((y_hat_linear - grand_mean) ** 2).sum()\n",
    "\n",
    "# 級間平方和 SSB\n",
    "SSB = ((group_means[df['x']] - grand_mean) ** 2).sum()\n",
    "\n",
    "# 当てはまりの悪さ（lack of fit）: SSLF = SSB - SSR\n",
    "SSLF = SSB - SSR\n",
    "\n",
    "# 総平方和\n",
    "SST = ((df['y'] - grand_mean) ** 2).sum()\n",
    "\n",
    "# 級内平方和 SSE\n",
    "residuals = df['y'] - group_means[df['x']].values\n",
    "SSE = (residuals ** 2).sum()\n",
    "\n",
    "# 自由度\n",
    "df_total = N - 1\n",
    "df_reg = 1\n",
    "df_group = a - 1  # 5群 → 4\n",
    "df_lof = df_group - df_reg\n",
    "df_error = N - df['x'].nunique()\n",
    "\n",
    "df_resid_pooled = df_lof + df_error\n",
    "\n",
    "# 平均平方\n",
    "MSR = SSR / df_reg\n",
    "MSLF = SSLF / df_lof\n",
    "MSE = SSE / df_error\n",
    "MSB = SSB / df_group\n",
    "\n",
    "MSE_pooled = (SSLF + SSE) / df_resid_pooled\n",
    "\n",
    "# F値\n",
    "F_reg = MSR / MSE\n",
    "F_lof = MSLF / MSE\n",
    "\n",
    "F_reg = MSR / MSE_pooled"
   ]
  },
  {
   "cell_type": "markdown",
   "metadata": {},
   "source": [
    "#### Paso 3: Creación de la tabla de análisis de varianza y pooling"
   ]
  },
  {
   "cell_type": "code",
   "execution_count": 293,
   "metadata": {},
   "outputs": [],
   "source": [
    "import anova # type: ignore\n",
    "importlib.reload(anova)\n",
    "from anova import Anova66 # type: ignore"
   ]
  },
  {
   "cell_type": "code",
   "execution_count": 294,
   "metadata": {},
   "outputs": [
    {
     "name": "stdout",
     "output_type": "stream",
     "text": [
      "\n"
     ]
    },
    {
     "data": {
      "text/html": [
       "<div>\n",
       "<style scoped>\n",
       "    .dataframe tbody tr th:only-of-type {\n",
       "        vertical-align: middle;\n",
       "    }\n",
       "\n",
       "    .dataframe tbody tr th {\n",
       "        vertical-align: top;\n",
       "    }\n",
       "\n",
       "    .dataframe thead th {\n",
       "        text-align: right;\n",
       "    }\n",
       "</style>\n",
       "<table border=\"1\" class=\"dataframe\">\n",
       "  <thead>\n",
       "    <tr style=\"text-align: right;\">\n",
       "      <th></th>\n",
       "      <th>Suma de Cuadrados</th>\n",
       "      <th>Grados de Libertad</th>\n",
       "      <th>Cuadrados Medios</th>\n",
       "      <th>Valor F</th>\n",
       "    </tr>\n",
       "  </thead>\n",
       "  <tbody>\n",
       "    <tr>\n",
       "      <th>Regresión</th>\n",
       "      <td>1825.2</td>\n",
       "      <td>1</td>\n",
       "      <td>1825.2</td>\n",
       "      <td>64.059395</td>\n",
       "    </tr>\n",
       "    <tr>\n",
       "      <th>Falta de Ajuste</th>\n",
       "      <td>20.4</td>\n",
       "      <td>3</td>\n",
       "      <td>6.8</td>\n",
       "      <td>0.194286</td>\n",
       "    </tr>\n",
       "    <tr>\n",
       "      <th>Modelo（Regresión+Ajuste）</th>\n",
       "      <td>1845.6</td>\n",
       "      <td>4</td>\n",
       "      <td>461.4</td>\n",
       "      <td></td>\n",
       "    </tr>\n",
       "    <tr>\n",
       "      <th>Error</th>\n",
       "      <td>350.0</td>\n",
       "      <td>10</td>\n",
       "      <td>35.0</td>\n",
       "      <td></td>\n",
       "    </tr>\n",
       "    <tr>\n",
       "      <th>Total</th>\n",
       "      <td>2195.6</td>\n",
       "      <td>14</td>\n",
       "      <td></td>\n",
       "      <td></td>\n",
       "    </tr>\n",
       "  </tbody>\n",
       "</table>\n",
       "</div>"
      ],
      "text/plain": [
       "                          Suma de Cuadrados  Grados de Libertad  \\\n",
       "Regresión                            1825.2                   1   \n",
       "Falta de Ajuste                        20.4                   3   \n",
       "Modelo（Regresión+Ajuste）             1845.6                   4   \n",
       "Error                                 350.0                  10   \n",
       "Total                                2195.6                  14   \n",
       "\n",
       "                         Cuadrados Medios    Valor F  \n",
       "Regresión                          1825.2  64.059395  \n",
       "Falta de Ajuste                       6.8   0.194286  \n",
       "Modelo（Regresión+Ajuste）            461.4             \n",
       "Error                                35.0             \n",
       "Total                                                 "
      ]
     },
     "metadata": {},
     "output_type": "display_data"
    }
   ],
   "source": [
    "anova = Anova66(df, a=0, p=0)\n",
    "anova_table, message = anova.creacion_ANOVA66()\n",
    "\n",
    "print(message)\n",
    "display(anova_table)"
   ]
  },
  {
   "cell_type": "markdown",
   "metadata": {},
   "source": [
    "La variación entre grupos resultó altamente significativa.\n",
    "\n",
    "El valor F de la falta de ajuste (regresión de orden superior) es 0.194, siendo inferior a 2, por lo que se agrupa en la variación dentro de las líneas para crear la tabla de análisis de varianza."
   ]
  },
  {
   "cell_type": "code",
   "execution_count": 295,
   "metadata": {},
   "outputs": [
    {
     "name": "stdout",
     "output_type": "stream",
     "text": [
      "\n"
     ]
    },
    {
     "data": {
      "text/html": [
       "<div>\n",
       "<style scoped>\n",
       "    .dataframe tbody tr th:only-of-type {\n",
       "        vertical-align: middle;\n",
       "    }\n",
       "\n",
       "    .dataframe tbody tr th {\n",
       "        vertical-align: top;\n",
       "    }\n",
       "\n",
       "    .dataframe thead th {\n",
       "        text-align: right;\n",
       "    }\n",
       "</style>\n",
       "<table border=\"1\" class=\"dataframe\">\n",
       "  <thead>\n",
       "    <tr style=\"text-align: right;\">\n",
       "      <th></th>\n",
       "      <th>Suma de Cuadrados</th>\n",
       "      <th>Grados de Libertad</th>\n",
       "      <th>Cuadrados Medios</th>\n",
       "      <th>Valor F</th>\n",
       "    </tr>\n",
       "  </thead>\n",
       "  <tbody>\n",
       "    <tr>\n",
       "      <th>Regresión</th>\n",
       "      <td>1825.2</td>\n",
       "      <td>1</td>\n",
       "      <td>1825.2</td>\n",
       "      <td>64.059395</td>\n",
       "    </tr>\n",
       "    <tr>\n",
       "      <th>Error</th>\n",
       "      <td>370.4</td>\n",
       "      <td>13</td>\n",
       "      <td>28.492308</td>\n",
       "      <td></td>\n",
       "    </tr>\n",
       "    <tr>\n",
       "      <th>Total</th>\n",
       "      <td>2195.6</td>\n",
       "      <td>14</td>\n",
       "      <td></td>\n",
       "      <td></td>\n",
       "    </tr>\n",
       "  </tbody>\n",
       "</table>\n",
       "</div>"
      ],
      "text/plain": [
       "           Suma de Cuadrados  Grados de Libertad Cuadrados Medios    Valor F\n",
       "Regresión             1825.2                   1           1825.2  64.059395\n",
       "Error                  370.4                  13        28.492308           \n",
       "Total                 2195.6                  14                            "
      ]
     },
     "metadata": {},
     "output_type": "display_data"
    }
   ],
   "source": [
    "anova = Anova66(df, a=0, p=1)\n",
    "anova_table, message = anova.creacion_ANOVA66()\n",
    "\n",
    "print(message)\n",
    "display(anova_table)"
   ]
  },
  {
   "cell_type": "markdown",
   "metadata": {},
   "source": [
    "ANOVA\n",
    "\n",
    "1. 「級間変動」が意味するものとは？\n",
    "\n",
    "$ SST（全体平方和） = SSB（級間平方和） + SSE（級内平方和）\n",
    "\n",
    "\n",
    "$ model = ols('y \\sim C(x)', data=df).fit() $\n",
    "\n",
    "$ y = \\mu + \\alpha_i + \\epsilon $\n",
    "\n",
    "* 各水準iに対して、異なる平均（切片）を持つ\n",
    "* 各水準は独立なグループとして扱われる\n",
    "\n",
    "つまり、「級間変動」は「グループ間で平均がどれだけ違うか」を測る指標です。\n",
    "\n",
    "2. xを数値変数にした場合のモデル\n",
    "\n",
    "$ model = ols('y \\sim x'), data=df).fit() $\n",
    "\n",
    "$ y = \\beta_0 + \\beta_1 x + \\epsilon $\n",
    "\n",
    "$ SST = SSR（回帰平方和） + SSE（残差平方和） $\n",
    "\n"
   ]
  },
  {
   "cell_type": "code",
   "execution_count": 296,
   "metadata": {},
   "outputs": [
    {
     "name": "stdout",
     "output_type": "stream",
     "text": [
      "【ANOVA】\n",
      "            df  sum_sq      mean_sq          F    PR(>F)\n",
      "x          1.0  1825.2  1825.200000  64.059395  0.000002\n",
      "Residual  13.0   370.4    28.492308        NaN       NaN\n"
     ]
    }
   ],
   "source": [
    "model = smf.ols('y ~ x', data=data).fit()\n",
    "anova_table = sm.stats.anova_lm(model, typ=1)\n",
    "\n",
    "# 結果表示\n",
    "print(\"【ANOVA】\")\n",
    "print(anova_table)"
   ]
  },
  {
   "cell_type": "code",
   "execution_count": 297,
   "metadata": {},
   "outputs": [
    {
     "name": "stdout",
     "output_type": "stream",
     "text": [
      "【ANOVA】\n",
      "            df  sum_sq  mean_sq          F    PR(>F)\n",
      "C          4.0  1845.6    461.4  13.182857  0.000536\n",
      "Residual  10.0   350.0     35.0        NaN       NaN\n"
     ]
    }
   ],
   "source": [
    "data[\"C\"] = data['x'].astype(\"category\")\n",
    "\n",
    "model = smf.ols('y ~ C', data=data).fit()\n",
    "anova_table = sm.stats.anova_lm(model, typ=1)\n",
    "\n",
    "# 結果表示\n",
    "print(\"【ANOVA】\")\n",
    "print(anova_table)"
   ]
  },
  {
   "cell_type": "code",
   "execution_count": 298,
   "metadata": {},
   "outputs": [
    {
     "name": "stdout",
     "output_type": "stream",
     "text": [
      "        Mixed Linear Model Regression Results\n",
      "======================================================\n",
      "Model:            MixedLM Dependent Variable: y       \n",
      "No. Observations: 15      Method:             REML    \n",
      "No. Groups:       5       Scale:              28.4878 \n",
      "Min. group size:  3       Log-Likelihood:     -43.2767\n",
      "Max. group size:  3       Converged:          No      \n",
      "Mean group size:  3.0                                 \n",
      "------------------------------------------------------\n",
      "            Coef.  Std.Err.   z    P>|z| [0.025 0.975]\n",
      "------------------------------------------------------\n",
      "Intercept   38.800    2.390 16.232 0.000 34.115 43.485\n",
      "x            7.800    0.976  7.993 0.000  5.887  9.713\n",
      "Group Var    0.027                                    \n",
      "======================================================\n",
      "\n",
      "\n",
      "Efectos fijos:\n",
      "Intercept    38.8\n",
      "x             7.8\n",
      "dtype: float64\n",
      "----------------------------------------\n",
      "Group 1: 0.000573\n",
      "Group 2: -0.004584\n",
      "Group 3: 0.004584\n",
      "Group 4: 0.002292\n",
      "Group 5: -0.002865\n",
      "\n"
     ]
    }
   ],
   "source": [
    "from statsmodels.formula.api import mixedlm\n",
    "\n",
    "import warnings\n",
    "from statsmodels.tools.sm_exceptions import ConvergenceWarning\n",
    "warnings.simplefilter('ignore', ConvergenceWarning)\n",
    "\n",
    "\n",
    "# Preparación de datos (datos de medición repetida)\n",
    "data['id'] = [1, 1, 1, 2, 2, 2, 3, 3, 3, 4, 4, 4, 5, 5, 5]\n",
    "\n",
    "model = mixedlm(\"y ~ x\", data, groups=data[\"id\"])\n",
    "result = model.fit()\n",
    "\n",
    "print(result.summary())\n",
    "\n",
    "# Coeficientes de regresión de efectos fijos y efectos aleatorios\n",
    "fixed_effects = result.fe_params\n",
    "random_effects = result.random_effects\n",
    "print(f\"\\nEfectos fijos:\\n{fixed_effects}\")\n",
    "print(\"----\"*10)\n",
    "\n",
    "for group_id, effect in random_effects.items():\n",
    "    val = effect.item()  # Series → 単一の float 値に\n",
    "    print(f\"Group {group_id}: {val:.6f}\")\n",
    "print(\"\")\n",
    "\n"
   ]
  },
  {
   "cell_type": "code",
   "execution_count": 299,
   "metadata": {},
   "outputs": [
    {
     "data": {
      "image/png": "[encoded data removed]",
      "text/plain": [
       "<Figure size 576x432 with 1 Axes>"
      ]
     },
     "metadata": {
      "needs_background": "light"
     },
     "output_type": "display_data"
    }
   ],
   "source": [
    "# Cálculo del valor predicho\n",
    "data['predicted'] = result.fittedvalues\n",
    "\n",
    "# Visualización del efecto aleatorio por grupo (diferencias en los valores predichos)\n",
    "random_effects = result.random_effects\n",
    "\n",
    "plt.figure(figsize=(8, 6))\n",
    "for group_id, random_effect in random_effects.items():\n",
    "    plt.plot(data['x'][data['id'] == group_id], data['predicted'][data['id'] == group_id],\n",
    "             marker='o', label=f'Grupo {group_id} - Efecto aleatorio')\n",
    "\n",
    "plt.scatter(data['x'], data['y'], label='Datos observados', color='blue')\n",
    "plt.plot(data['x'], data['predicted'], label='Línea de regresión ajustada', color='red')\n",
    "plt.title('Efectos aleatorios en el modelo de efectos mixtos')\n",
    "plt.legend()\n",
    "plt.show()\n"
   ]
  },
  {
   "cell_type": "code",
   "execution_count": 300,
   "metadata": {},
   "outputs": [
    {
     "name": "stdout",
     "output_type": "stream",
     "text": [
      "Ecuación de regresión: y = 38.800 + 7.800x\n",
      "Resultados del análisis de regresión:\n",
      "                            OLS Regression Results                            \n",
      "==============================================================================\n",
      "Dep. Variable:                      y   R-squared:                       0.831\n",
      "Model:                            OLS   Adj. R-squared:                  0.818\n",
      "Method:                 Least Squares   F-statistic:                     64.06\n",
      "Date:                Tue, 09 Sep 2025   Prob (F-statistic):           2.22e-06\n",
      "Time:                        18:22:06   Log-Likelihood:                -45.333\n",
      "No. Observations:                  15   AIC:                             94.67\n",
      "Df Residuals:                      13   BIC:                             96.08\n",
      "Df Model:                           1                                         \n",
      "Covariance Type:            nonrobust                                         \n",
      "==============================================================================\n",
      "                 coef    std err          t      P>|t|      [0.025      0.975]\n",
      "------------------------------------------------------------------------------\n",
      "const         38.8000      2.387     16.254      0.000      33.643      43.957\n",
      "x              7.8000      0.975      8.004      0.000       5.695       9.905\n",
      "==============================================================================\n",
      "Omnibus:                        1.314   Durbin-Watson:                   2.692\n",
      "Prob(Omnibus):                  0.518   Jarque-Bera (JB):                1.064\n",
      "Skew:                          -0.573   Prob(JB):                        0.587\n",
      "Kurtosis:                       2.375   Cond. No.                         4.74\n",
      "==============================================================================\n",
      "\n",
      "Notes:\n",
      "[1] Standard Errors assume that the covariance matrix of the errors is correctly specified.\n"
     ]
    },
    {
     "name": "stderr",
     "output_type": "stream",
     "text": [
      "/Users/takanohiroshi/.pyenv/versions/3.10.5/lib/python3.10/site-packages/scipy/stats/_axis_nan_policy.py:430: UserWarning: `kurtosistest` p-value may be inaccurate with fewer than 20 observations; only n=15 observations were given.\n",
      "  return hypotest_fun_in(*args, **kwds)\n"
     ]
    },
    {
     "data": {
      "image/png": "[encoded data removed]",
      "text/plain": [
       "<Figure size 432x288 with 1 Axes>"
      ]
     },
     "metadata": {
      "needs_background": "light"
     },
     "output_type": "display_data"
    }
   ],
   "source": [
    "y = data[\"y\"]\n",
    "x = data[\"x\"]\n",
    "\n",
    "plt.scatter(x,y)\n",
    "plt.xlim(0,4)\n",
    "plt.ylim(0,80)\n",
    "plt.xlabel(\"x\")\n",
    "plt.ylabel(\"y\")\n",
    "plt.title(\"Figura 9.4: Diagrama de dispersión\")\n",
    "plt.grid()\n",
    "\n",
    "# Análisis de regresión (método de mínimos cuadrados)\n",
    "X_with_const = sm.add_constant(x)  # Agregar el término constante (β0)\n",
    "model = sm.OLS(y, X_with_const)\n",
    "results = model.fit()  # Ajuste del modelo de regresión\n",
    "\n",
    "# Representación de la línea de regresión\n",
    "xx = np.linspace(0,4,100)\n",
    "plt.plot(xx, results.params.iloc[0] + results.params.iloc[1]*xx, color=\"red\", label=\"Línea de regresión\")\n",
    "plt.legend()\n",
    "\n",
    "# Mostrar la ecuación de regresión\n",
    "print(f\"Ecuación de regresión: y = {results.params.iloc[0]:.3f} + {results.params.iloc[1]:.3f}x\")\n",
    "\n",
    "# Mostrar los resultados del análisis de regresión\n",
    "print(\"Resultados del análisis de regresión:\")\n",
    "print(results.summary())"
   ]
  },
  {
   "cell_type": "markdown",
   "metadata": {},
   "source": [
    "# 09-03 Regresión múltiple\n",
    "重回帰分析\n",
    "\n",
    "## 1. Regresion múltiple\n",
    "\n",
    "La **regresión múltiple** es un tipo de regresión que utiliza **múltiples variables explicativas** para predecir una única **variable dependiente**.\n",
    "\n",
    "$ y = \\beta_0 + \\beta_1 x_1 + \\beta_2 x_2 + ... + \\beta_p x_p + \\epsilon $\n",
    "\n",
    "$ \\beta_0 $ : término constante\n",
    "\n",
    "$ \\beta_1, \\beta_2, .. \\beta_p $: coeficiente de regresión parcial\n",
    "\n",
    "\n",
    "* Coeficiente de regresión estándar\n",
    "* Tasa de contribución\n",
    "* Tasa de contribución ajustada por los grados de libertad\n",
    "\n",
    "[Audio_8](https://drive.google.com/file/d/1bwq3tNo2Kud5aoHcKy3CCZmxVBC5FA67/view?usp=drive_link)\n"
   ]
  },
  {
   "cell_type": "markdown",
   "metadata": {},
   "source": [
    "### 9.5\n",
    "\n",
    "表９．１４は、２種類の原材料の使用量ｘ１（％）、ｘ２（％）と収率ｙ（％）の関係を調査したものである。\n",
    "\n",
    "\n",
    "\n",
    "1. ３つの変数間の相関係数と、偏相関係数を求めよ\n",
    "2. $ \\beta_1, \\beta_2, \\beta_2 $ と $ \\beta_1^*, \\beta_2^* $ を推定し、重回帰式を計算せよ\n",
    "3. 分散分析表を作成し、寄与率および自由度調整済み寄与率を計算せよ\n",
    "\n",
    "\n",
    "Tabla 9.14 muestra la relación entre la cantidad de uso de dos tipos de materias primas, $ x_1 $ (%) y $ x_2 $ (%), y el rendimiento $ y $ (%)\n",
    "\n",
    "1. Calcula los coeficientes de correlación entre las tres variables y los coeficientes de correlación parcial.\n",
    "2. Espima $ \\beta_0, \\beta_1, \\beta_2 $ y $ \\beta_1^* \\beta_2^* $ y calcula la ecuación de regresión múltiple.\n",
    "3. Elabora la tabla de análisis de varianza y calcula la tasa de contribución y tasa de contribución ajustada por los grados de libertad.\n",
    "\n"
   ]
  },
  {
   "cell_type": "code",
   "execution_count": 301,
   "metadata": {},
   "outputs": [],
   "source": [
    "# Obtener los datos (como lista)\n",
    "sheet = client.open_by_key(SPREADSHEET_ID).worksheet(\"Sheet5\") # 最初のシートを取得\n",
    "\n",
    "# データを取得\n",
    "list_of_lists = sheet.get_all_values()\n",
    "\n",
    "df = pd.DataFrame.from_records(list_of_lists)\n",
    "df.columns = df.iloc[0]\n",
    "df = df.drop(index=0)\n",
    "\n",
    "# Establecer la primera columna como índice\n",
    "df = df.set_index(df.columns[0])\n",
    "\n",
    "df[[\"x1\",\"x2\",\"y\"]] = df[[\"x1\",\"x2\",\"y\"]].apply(pd.to_numeric)\n",
    "data = df.copy()\n",
    "\n",
    "df.loc[\"Total\"] = df.sum()\n",
    "df.to_excel(\"Data_1/Tabla_9_14.xlsx\")"
   ]
  },
  {
   "cell_type": "code",
   "execution_count": 302,
   "metadata": {},
   "outputs": [],
   "source": [
    "df = df.drop(df.index[-1])\n",
    "x1_bar = np.mean(df['x1'])\n",
    "x2_bar = np.mean(df['x2'])\n",
    "y_bar = np.mean(df['y'])\n",
    "\n",
    "df[\"(x1i-x1_bar)^2\"] = (df['x1'] - x1_bar)**2\n",
    "df[\"(x1i-x1_bar)(x2-x2_bar)\"] = (df['x1']-x1_bar)*(df[\"x2\"]-x2_bar)\n",
    "df[\"(x2i-x2_bar)^2\"] = (df['x2'] - x2_bar)**2\n",
    "df[\"(x1i-x1_bar)(yi-y_bar)\"] = (df[\"x1\"]-x1_bar)*(df['y']-y_bar)\n",
    "df[\"(x2i-x2_bar)(yi-y_bar)\"] = (df[\"x2\"]-x1_bar)*(df['y']-y_bar)\n",
    "df[\"(yi -y_bar)^2\"] = (df['y']-y_bar)**2\n",
    "df.loc[\"Total\"] = df.sum()\n",
    "\n",
    "df.to_excel(\"Data_1/Tabla_9_15.xlsx\")"
   ]
  },
  {
   "cell_type": "code",
   "execution_count": 303,
   "metadata": {},
   "outputs": [
    {
     "name": "stdout",
     "output_type": "stream",
     "text": [
      "Tabla 9.15: Tabla auxiliar de cálculo\n"
     ]
    },
    {
     "data": {
      "text/html": [
       "<div>\n",
       "<style scoped>\n",
       "    .dataframe tbody tr th:only-of-type {\n",
       "        vertical-align: middle;\n",
       "    }\n",
       "\n",
       "    .dataframe tbody tr th {\n",
       "        vertical-align: top;\n",
       "    }\n",
       "\n",
       "    .dataframe thead th {\n",
       "        text-align: right;\n",
       "    }\n",
       "</style>\n",
       "<table border=\"1\" class=\"dataframe\">\n",
       "  <thead>\n",
       "    <tr style=\"text-align: right;\">\n",
       "      <th></th>\n",
       "      <th>x1</th>\n",
       "      <th>x2</th>\n",
       "      <th>y</th>\n",
       "      <th>(x1i-x1_bar)^2</th>\n",
       "      <th>(x1i-x1_bar)(x2-x2_bar)</th>\n",
       "      <th>(x2i-x2_bar)^2</th>\n",
       "      <th>(x1i-x1_bar)(yi-y_bar)</th>\n",
       "      <th>(x2i-x2_bar)(yi-y_bar)</th>\n",
       "      <th>(yi -y_bar)^2</th>\n",
       "    </tr>\n",
       "    <tr>\n",
       "      <th>No</th>\n",
       "      <th></th>\n",
       "      <th></th>\n",
       "      <th></th>\n",
       "      <th></th>\n",
       "      <th></th>\n",
       "      <th></th>\n",
       "      <th></th>\n",
       "      <th></th>\n",
       "      <th></th>\n",
       "    </tr>\n",
       "  </thead>\n",
       "  <tbody>\n",
       "    <tr>\n",
       "      <th>1</th>\n",
       "      <td>18.0</td>\n",
       "      <td>9.0</td>\n",
       "      <td>54.0</td>\n",
       "      <td>1.823</td>\n",
       "      <td>3.24</td>\n",
       "      <td>5.76</td>\n",
       "      <td>0.945</td>\n",
       "      <td>-5.355</td>\n",
       "      <td>0.49</td>\n",
       "    </tr>\n",
       "    <tr>\n",
       "      <th>2</th>\n",
       "      <td>17.0</td>\n",
       "      <td>14.0</td>\n",
       "      <td>48.0</td>\n",
       "      <td>0.123</td>\n",
       "      <td>2.59</td>\n",
       "      <td>54.76</td>\n",
       "      <td>-1.855</td>\n",
       "      <td>14.045</td>\n",
       "      <td>28.09</td>\n",
       "    </tr>\n",
       "    <tr>\n",
       "      <th>3</th>\n",
       "      <td>16.0</td>\n",
       "      <td>3.0</td>\n",
       "      <td>54.0</td>\n",
       "      <td>0.422</td>\n",
       "      <td>2.34</td>\n",
       "      <td>12.96</td>\n",
       "      <td>-0.455</td>\n",
       "      <td>-9.555</td>\n",
       "      <td>0.49</td>\n",
       "    </tr>\n",
       "    <tr>\n",
       "      <th>4</th>\n",
       "      <td>18.0</td>\n",
       "      <td>4.0</td>\n",
       "      <td>61.0</td>\n",
       "      <td>1.823</td>\n",
       "      <td>-3.51</td>\n",
       "      <td>6.76</td>\n",
       "      <td>10.395</td>\n",
       "      <td>-97.405</td>\n",
       "      <td>59.29</td>\n",
       "    </tr>\n",
       "    <tr>\n",
       "      <th>5</th>\n",
       "      <td>16.0</td>\n",
       "      <td>8.0</td>\n",
       "      <td>51.0</td>\n",
       "      <td>0.422</td>\n",
       "      <td>-0.91</td>\n",
       "      <td>1.96</td>\n",
       "      <td>1.495</td>\n",
       "      <td>19.895</td>\n",
       "      <td>5.29</td>\n",
       "    </tr>\n",
       "    <tr>\n",
       "      <th>6</th>\n",
       "      <td>16.0</td>\n",
       "      <td>4.0</td>\n",
       "      <td>51.0</td>\n",
       "      <td>0.422</td>\n",
       "      <td>1.69</td>\n",
       "      <td>6.76</td>\n",
       "      <td>1.495</td>\n",
       "      <td>29.095</td>\n",
       "      <td>5.29</td>\n",
       "    </tr>\n",
       "    <tr>\n",
       "      <th>7</th>\n",
       "      <td>18.0</td>\n",
       "      <td>7.0</td>\n",
       "      <td>58.0</td>\n",
       "      <td>1.823</td>\n",
       "      <td>0.54</td>\n",
       "      <td>0.16</td>\n",
       "      <td>6.345</td>\n",
       "      <td>-45.355</td>\n",
       "      <td>22.09</td>\n",
       "    </tr>\n",
       "    <tr>\n",
       "      <th>8</th>\n",
       "      <td>11.0</td>\n",
       "      <td>4.0</td>\n",
       "      <td>51.0</td>\n",
       "      <td>31.922</td>\n",
       "      <td>14.69</td>\n",
       "      <td>6.76</td>\n",
       "      <td>12.995</td>\n",
       "      <td>29.095</td>\n",
       "      <td>5.29</td>\n",
       "    </tr>\n",
       "    <tr>\n",
       "      <th>9</th>\n",
       "      <td>19.0</td>\n",
       "      <td>11.0</td>\n",
       "      <td>53.0</td>\n",
       "      <td>5.523</td>\n",
       "      <td>10.34</td>\n",
       "      <td>19.36</td>\n",
       "      <td>-0.705</td>\n",
       "      <td>1.695</td>\n",
       "      <td>0.09</td>\n",
       "    </tr>\n",
       "    <tr>\n",
       "      <th>10</th>\n",
       "      <td>19.0</td>\n",
       "      <td>2.0</td>\n",
       "      <td>62.0</td>\n",
       "      <td>5.523</td>\n",
       "      <td>-10.81</td>\n",
       "      <td>21.16</td>\n",
       "      <td>20.445</td>\n",
       "      <td>-127.455</td>\n",
       "      <td>75.69</td>\n",
       "    </tr>\n",
       "    <tr>\n",
       "      <th>11</th>\n",
       "      <td>16.0</td>\n",
       "      <td>4.0</td>\n",
       "      <td>58.0</td>\n",
       "      <td>0.422</td>\n",
       "      <td>1.69</td>\n",
       "      <td>6.76</td>\n",
       "      <td>-3.055</td>\n",
       "      <td>-59.455</td>\n",
       "      <td>22.09</td>\n",
       "    </tr>\n",
       "    <tr>\n",
       "      <th>12</th>\n",
       "      <td>16.0</td>\n",
       "      <td>7.0</td>\n",
       "      <td>48.0</td>\n",
       "      <td>0.422</td>\n",
       "      <td>-0.26</td>\n",
       "      <td>0.16</td>\n",
       "      <td>3.445</td>\n",
       "      <td>51.145</td>\n",
       "      <td>28.09</td>\n",
       "    </tr>\n",
       "    <tr>\n",
       "      <th>13</th>\n",
       "      <td>14.0</td>\n",
       "      <td>5.0</td>\n",
       "      <td>54.0</td>\n",
       "      <td>7.022</td>\n",
       "      <td>4.24</td>\n",
       "      <td>2.56</td>\n",
       "      <td>-1.855</td>\n",
       "      <td>-8.155</td>\n",
       "      <td>0.49</td>\n",
       "    </tr>\n",
       "    <tr>\n",
       "      <th>14</th>\n",
       "      <td>20.0</td>\n",
       "      <td>9.0</td>\n",
       "      <td>52.0</td>\n",
       "      <td>11.223</td>\n",
       "      <td>8.04</td>\n",
       "      <td>5.76</td>\n",
       "      <td>-4.355</td>\n",
       "      <td>9.945</td>\n",
       "      <td>1.69</td>\n",
       "    </tr>\n",
       "    <tr>\n",
       "      <th>15</th>\n",
       "      <td>16.0</td>\n",
       "      <td>0.0</td>\n",
       "      <td>61.0</td>\n",
       "      <td>0.422</td>\n",
       "      <td>4.29</td>\n",
       "      <td>43.56</td>\n",
       "      <td>-5.005</td>\n",
       "      <td>-128.205</td>\n",
       "      <td>59.29</td>\n",
       "    </tr>\n",
       "    <tr>\n",
       "      <th>16</th>\n",
       "      <td>14.0</td>\n",
       "      <td>10.0</td>\n",
       "      <td>48.0</td>\n",
       "      <td>7.022</td>\n",
       "      <td>-9.01</td>\n",
       "      <td>11.56</td>\n",
       "      <td>14.045</td>\n",
       "      <td>35.245</td>\n",
       "      <td>28.09</td>\n",
       "    </tr>\n",
       "    <tr>\n",
       "      <th>17</th>\n",
       "      <td>14.0</td>\n",
       "      <td>8.0</td>\n",
       "      <td>51.0</td>\n",
       "      <td>7.022</td>\n",
       "      <td>-3.71</td>\n",
       "      <td>1.96</td>\n",
       "      <td>6.095</td>\n",
       "      <td>19.895</td>\n",
       "      <td>5.29</td>\n",
       "    </tr>\n",
       "    <tr>\n",
       "      <th>18</th>\n",
       "      <td>19.0</td>\n",
       "      <td>8.0</td>\n",
       "      <td>47.0</td>\n",
       "      <td>5.523</td>\n",
       "      <td>3.29</td>\n",
       "      <td>1.96</td>\n",
       "      <td>-14.805</td>\n",
       "      <td>54.495</td>\n",
       "      <td>39.69</td>\n",
       "    </tr>\n",
       "    <tr>\n",
       "      <th>19</th>\n",
       "      <td>20.0</td>\n",
       "      <td>7.0</td>\n",
       "      <td>54.0</td>\n",
       "      <td>11.223</td>\n",
       "      <td>1.34</td>\n",
       "      <td>0.16</td>\n",
       "      <td>2.345</td>\n",
       "      <td>-6.755</td>\n",
       "      <td>0.49</td>\n",
       "    </tr>\n",
       "    <tr>\n",
       "      <th>20</th>\n",
       "      <td>16.0</td>\n",
       "      <td>8.0</td>\n",
       "      <td>50.0</td>\n",
       "      <td>0.422</td>\n",
       "      <td>-0.91</td>\n",
       "      <td>1.96</td>\n",
       "      <td>2.145</td>\n",
       "      <td>28.545</td>\n",
       "      <td>10.89</td>\n",
       "    </tr>\n",
       "    <tr>\n",
       "      <th>Total</th>\n",
       "      <td>333.0</td>\n",
       "      <td>132.0</td>\n",
       "      <td>1066.0</td>\n",
       "      <td>100.550</td>\n",
       "      <td>29.20</td>\n",
       "      <td>212.80</td>\n",
       "      <td>50.100</td>\n",
       "      <td>-194.600</td>\n",
       "      <td>398.20</td>\n",
       "    </tr>\n",
       "  </tbody>\n",
       "</table>\n",
       "</div>"
      ],
      "text/plain": [
       "0         x1     x2       y  (x1i-x1_bar)^2  (x1i-x1_bar)(x2-x2_bar)  \\\n",
       "No                                                                     \n",
       "1       18.0    9.0    54.0           1.823                     3.24   \n",
       "2       17.0   14.0    48.0           0.123                     2.59   \n",
       "3       16.0    3.0    54.0           0.422                     2.34   \n",
       "4       18.0    4.0    61.0           1.823                    -3.51   \n",
       "5       16.0    8.0    51.0           0.422                    -0.91   \n",
       "6       16.0    4.0    51.0           0.422                     1.69   \n",
       "7       18.0    7.0    58.0           1.823                     0.54   \n",
       "8       11.0    4.0    51.0          31.922                    14.69   \n",
       "9       19.0   11.0    53.0           5.523                    10.34   \n",
       "10      19.0    2.0    62.0           5.523                   -10.81   \n",
       "11      16.0    4.0    58.0           0.422                     1.69   \n",
       "12      16.0    7.0    48.0           0.422                    -0.26   \n",
       "13      14.0    5.0    54.0           7.022                     4.24   \n",
       "14      20.0    9.0    52.0          11.223                     8.04   \n",
       "15      16.0    0.0    61.0           0.422                     4.29   \n",
       "16      14.0   10.0    48.0           7.022                    -9.01   \n",
       "17      14.0    8.0    51.0           7.022                    -3.71   \n",
       "18      19.0    8.0    47.0           5.523                     3.29   \n",
       "19      20.0    7.0    54.0          11.223                     1.34   \n",
       "20      16.0    8.0    50.0           0.422                    -0.91   \n",
       "Total  333.0  132.0  1066.0         100.550                    29.20   \n",
       "\n",
       "0      (x2i-x2_bar)^2  (x1i-x1_bar)(yi-y_bar)  (x2i-x2_bar)(yi-y_bar)  \\\n",
       "No                                                                      \n",
       "1                5.76                   0.945                  -5.355   \n",
       "2               54.76                  -1.855                  14.045   \n",
       "3               12.96                  -0.455                  -9.555   \n",
       "4                6.76                  10.395                 -97.405   \n",
       "5                1.96                   1.495                  19.895   \n",
       "6                6.76                   1.495                  29.095   \n",
       "7                0.16                   6.345                 -45.355   \n",
       "8                6.76                  12.995                  29.095   \n",
       "9               19.36                  -0.705                   1.695   \n",
       "10              21.16                  20.445                -127.455   \n",
       "11               6.76                  -3.055                 -59.455   \n",
       "12               0.16                   3.445                  51.145   \n",
       "13               2.56                  -1.855                  -8.155   \n",
       "14               5.76                  -4.355                   9.945   \n",
       "15              43.56                  -5.005                -128.205   \n",
       "16              11.56                  14.045                  35.245   \n",
       "17               1.96                   6.095                  19.895   \n",
       "18               1.96                 -14.805                  54.495   \n",
       "19               0.16                   2.345                  -6.755   \n",
       "20               1.96                   2.145                  28.545   \n",
       "Total          212.80                  50.100                -194.600   \n",
       "\n",
       "0      (yi -y_bar)^2  \n",
       "No                    \n",
       "1               0.49  \n",
       "2              28.09  \n",
       "3               0.49  \n",
       "4              59.29  \n",
       "5               5.29  \n",
       "6               5.29  \n",
       "7              22.09  \n",
       "8               5.29  \n",
       "9               0.09  \n",
       "10             75.69  \n",
       "11             22.09  \n",
       "12             28.09  \n",
       "13              0.49  \n",
       "14              1.69  \n",
       "15             59.29  \n",
       "16             28.09  \n",
       "17              5.29  \n",
       "18             39.69  \n",
       "19              0.49  \n",
       "20             10.89  \n",
       "Total         398.20  "
      ]
     },
     "execution_count": 303,
     "metadata": {},
     "output_type": "execute_result"
    }
   ],
   "source": [
    "df_formatted = df.copy()\n",
    "df_formatted.iloc[:, [3,6,7]] = df_formatted.iloc[:, [3,6,7]].apply(lambda col: col.map(lambda x: f\"{x:.3f}\")).astype(float)\n",
    "\n",
    "print(\"Tabla 9.15: Tabla auxiliar de cálculo\")\n",
    "df_formatted"
   ]
  },
  {
   "cell_type": "markdown",
   "metadata": {},
   "source": [
    "#### 1. Calcular el coeficiente de correlación y el coeficiente de correlación parcial."
   ]
  },
  {
   "cell_type": "code",
   "execution_count": 304,
   "metadata": {},
   "outputs": [
    {
     "name": "stdout",
     "output_type": "stream",
     "text": [
      "Correlation matrix:\n",
      "0      x1      x2       y\n",
      "0                        \n",
      "x1  1.000   0.200   0.250\n",
      "x2  0.200   1.000  -0.669\n",
      "y   0.250  -0.669   1.000\n",
      "\n",
      "Partial correlation between x1 and y controlling for x2: 0.527\n",
      "Partial correlation between x2 and y controlling for x1: -0.757\n",
      "\n",
      "\n",
      "                            OLS Regression Results                            \n",
      "==============================================================================\n",
      "Dep. Variable:                      y   R-squared:                       0.600\n",
      "Model:                            OLS   Adj. R-squared:                  0.553\n",
      "Method:                 Least Squares   F-statistic:                     12.77\n",
      "Date:                Tue, 09 Sep 2025   Prob (F-statistic):           0.000412\n",
      "Time:                        18:22:06   Log-Likelihood:                -49.120\n",
      "No. Observations:                  20   AIC:                             104.2\n",
      "Df Residuals:                      17   BIC:                             107.2\n",
      "Df Model:                           2                                         \n",
      "Covariance Type:            nonrobust                                         \n",
      "==============================================================================\n",
      "                 coef    std err          t      P>|t|      [0.025      0.975]\n",
      "------------------------------------------------------------------------------\n",
      "const         46.8105      5.140      9.107      0.000      35.966      57.655\n",
      "x1             0.7955      0.311      2.555      0.021       0.139       1.453\n",
      "x2            -1.0236      0.214     -4.782      0.000      -1.475      -0.572\n",
      "==============================================================================\n",
      "Omnibus:                        2.327   Durbin-Watson:                   2.416\n",
      "Prob(Omnibus):                  0.312   Jarque-Bera (JB):                1.645\n",
      "Skew:                          -0.693   Prob(JB):                        0.439\n",
      "Kurtosis:                       2.776   Cond. No.                         136.\n",
      "==============================================================================\n",
      "\n",
      "Notes:\n",
      "[1] Standard Errors assume that the covariance matrix of the errors is correctly specified.\n"
     ]
    }
   ],
   "source": [
    "from scipy.stats import pearsonr\n",
    "from statsmodels.regression.linear_model import OLS\n",
    "from statsmodels.tools import add_constant\n",
    "from statsmodels.stats.outliers_influence import variance_inflation_factor as vif\n",
    "from statsmodels.stats.api import anova_lm\n",
    "\n",
    "# Data\n",
    "data = data\n",
    "df = pd.DataFrame(data)\n",
    "\n",
    "# Correlation coefficients\n",
    "corr_matrix = df.corr()\n",
    "corr_matrix = corr_matrix.apply(lambda col: col.map(lambda x: f\"{x:.3f}\"))\n",
    "print(\"Correlation matrix:\")\n",
    "print(corr_matrix)\n",
    "\n",
    "# Partial correlation coefficients\n",
    "# Partial correlation of x1 and y controlling for x2\n",
    "def partial_corr(df, x, y, control):\n",
    "    model_x = OLS(df[x], add_constant(df[control])).fit()\n",
    "    model_y = OLS(df[y], add_constant(df[control])).fit()\n",
    "    residual_x = model_x.resid\n",
    "    residual_y = model_y.resid\n",
    "    return pearsonr(residual_x, residual_y)[0]\n",
    "\n",
    "partial_corr_x1_y = partial_corr(df, 'x1', 'y', 'x2')\n",
    "partial_corr_x2_y = partial_corr(df, 'x2', 'y', 'x1')\n",
    "\n",
    "print(f\"\\nPartial correlation between x1 and y controlling for x2: {partial_corr_x1_y:.3f}\")\n",
    "print(f\"Partial correlation between x2 and y controlling for x1: {partial_corr_x2_y:.3f}\")\n",
    "\n",
    "# Multiple regression\n",
    "X = add_constant(df[['x1', 'x2']])\n",
    "y = df['y']\n",
    "model = OLS(y, X).fit()\n",
    "\n",
    "print('\\n')\n",
    "print(model.summary())\n",
    "\n",
    "\n",
    "# Cálculo de los valores predichos（y_hat）\n",
    "y_hat = model.fittedvalues\n",
    "\n",
    "# Cálculo de la media（y_bar)\n",
    "y_bar = np.mean(y)\n",
    "\n",
    "# Suma de cuadrados total (SST)\n",
    "sst = np.sum((y - y_bar)**2)\n",
    "\n",
    "# Suma de cuadrados de regresión (SSR)\n",
    "ssr = np.sum((y_hat - y_bar)**2)\n",
    "\n",
    "# Suma de cuadrados de los errores (SSE)\n",
    "sse = np.sum((y - y_hat)**2)\n",
    "\n",
    "# Grados de libertad\n",
    "df_regression = 2  # Grados de libertad de la regresión (para las variables x1 y x2)\n",
    "df_error = len(y) - 3  # Grados de libertad del erro (número de muestras ' número de parámetros del modelo)\n",
    "df_total = len(y) - 1  # Grados de libertad de la suma de cuadrados total\n",
    "\n",
    "# Media de los cuadrados（MS）\n",
    "msr = ssr / df_regression  # Media de los cuadrados de la regresión\n",
    "mse = sse / df_error  # Media de los cuadrados de los errores (MSE)\n",
    "\n",
    "# Cálculo del valor F\n",
    "f_value = msr / mse\n"
   ]
  },
  {
   "cell_type": "markdown",
   "metadata": {},
   "source": [
    "#### 2. Estimación de los parámetros de regresión y de la ecuación de regresión"
   ]
  },
  {
   "cell_type": "code",
   "execution_count": 305,
   "metadata": {},
   "outputs": [
    {
     "name": "stdout",
     "output_type": "stream",
     "text": [
      "\n",
      "Regression coefficients:\n",
      "β0: 46.810, β1: 0.796, β2: -1.024\n",
      "β1*: 0.780, β2*: -1.003\n",
      "\n",
      "Multiple regression equation: y = 46.810 + 0.796*x1 + -1.024*x2\n"
     ]
    }
   ],
   "source": [
    "# Regression coefficients\n",
    "beta_0, beta_1, beta_2 = model.params\n",
    "\n",
    "# VIF (Variance Inflation Factor) for standardized coefficients\n",
    "vif_x1 = vif(X.values, 1)\n",
    "vif_x2 = vif(X.values, 2)\n",
    "\n",
    "beta_1_star = beta_1 / np.sqrt(vif_x1)\n",
    "beta_2_star = beta_2 / np.sqrt(vif_x2)\n",
    "\n",
    "print(\"\\nRegression coefficients:\")\n",
    "print(f\"β0: {beta_0:.3f}, β1: {beta_1:.3f}, β2: {beta_2:.3f}\")\n",
    "print(f\"β1*: {beta_1_star:.3f}, β2*: {beta_2_star:.3f}\")\n",
    "\n",
    "# Regression equation\n",
    "equation = f\"y = {beta_0:.3f} + {beta_1:.3f}*x1 + {beta_2:.3f}*x2\"\n",
    "print(f\"\\nMultiple regression equation: {equation}\")"
   ]
  },
  {
   "cell_type": "markdown",
   "metadata": {},
   "source": [
    "#### 3. Creación de la Tabla de Análisis de Varianza y Cálculo de Coeficientes de Determianción"
   ]
  },
  {
   "cell_type": "code",
   "execution_count": 306,
   "metadata": {},
   "outputs": [
    {
     "name": "stdout",
     "output_type": "stream",
     "text": [
      "\n",
      "ANOVA 分析表:\n"
     ]
    },
    {
     "data": {
      "text/html": [
       "<div>\n",
       "<style scoped>\n",
       "    .dataframe tbody tr th:only-of-type {\n",
       "        vertical-align: middle;\n",
       "    }\n",
       "\n",
       "    .dataframe tbody tr th {\n",
       "        vertical-align: top;\n",
       "    }\n",
       "\n",
       "    .dataframe thead th {\n",
       "        text-align: right;\n",
       "    }\n",
       "</style>\n",
       "<table border=\"1\" class=\"dataframe\">\n",
       "  <thead>\n",
       "    <tr style=\"text-align: right;\">\n",
       "      <th></th>\n",
       "      <th>Suma de Cuadrados</th>\n",
       "      <th>Grados de Libertad</th>\n",
       "      <th>Cuadrados Medios</th>\n",
       "      <th>Valor F</th>\n",
       "    </tr>\n",
       "  </thead>\n",
       "  <tbody>\n",
       "    <tr>\n",
       "      <th>Regresión</th>\n",
       "      <td>239.055053</td>\n",
       "      <td>2</td>\n",
       "      <td>119.527526</td>\n",
       "      <td>12.768033</td>\n",
       "    </tr>\n",
       "    <tr>\n",
       "      <th>Error</th>\n",
       "      <td>159.144947</td>\n",
       "      <td>17</td>\n",
       "      <td>9.361467</td>\n",
       "      <td></td>\n",
       "    </tr>\n",
       "    <tr>\n",
       "      <th>Total</th>\n",
       "      <td>398.200000</td>\n",
       "      <td>19</td>\n",
       "      <td></td>\n",
       "      <td></td>\n",
       "    </tr>\n",
       "  </tbody>\n",
       "</table>\n",
       "</div>"
      ],
      "text/plain": [
       "           Suma de Cuadrados  Grados de Libertad Cuadrados Medios    Valor F\n",
       "Regresión         239.055053                   2       119.527526  12.768033\n",
       "Error             159.144947                  17         9.361467           \n",
       "Total             398.200000                  19                            "
      ]
     },
     "metadata": {},
     "output_type": "display_data"
    },
    {
     "name": "stdout",
     "output_type": "stream",
     "text": [
      "\n",
      "Coefficient of determination (R^2): 0.600\n",
      "Adjusted coefficient of determination: 0.553\n"
     ]
    }
   ],
   "source": [
    "# DataFrame形式のANOVA表を作成\n",
    "anova_df = pd.DataFrame({\n",
    "    \"Suma de Cuadrados\": [ssr, sse, sst],\n",
    "    \"Grados de Libertad\": [df_regression, df_error, df_total],\n",
    "    \"Cuadrados Medios\": [msr, mse, ''],\n",
    "    \"Valor F\": [f_value, '', '']\n",
    "}, index=[\"Regresión\", \"Error\", \"Total\"])\n",
    "\n",
    "# 表示設定と出力\n",
    "\n",
    "print(\"\\nANOVA 分析表:\")\n",
    "display(anova_df)\n",
    "\n",
    "# R-squared and adjusted R-squared\n",
    "r_squared = model.rsquared\n",
    "adj_r_squared = model.rsquared_adj\n",
    "\n",
    "print(f\"\\nCoefficient of determination (R^2): {r_squared:.3f}\")\n",
    "print(f\"Adjusted coefficient of determination: {adj_r_squared:.3f}\")"
   ]
  },
  {
   "cell_type": "markdown",
   "metadata": {},
   "source": [
    "## 2. Pruebas y estimaciones sobre los parámetros\n",
    "回帰母数に関する検定と推定\n",
    "\n",
    "En la regresión múltiple, la prueba y estimación son las mismas que en la regresión simple cuando no se considera la influencia de otras variables.\n",
    "\n",
    "Para la predicción de la ecuación de regresión, se utiliza la **distancia generalizada de Mahalanobis** マハラノビスの汎距離.\n",
    "\n",
    "[Audio_9](https://drive.google.com/file/d/1dYEXPVROkpDcYw9uQMg-ELFnFjHKmJvt/view?usp=drive_link)"
   ]
  },
  {
   "cell_type": "markdown",
   "metadata": {},
   "source": [
    "## 9.6\n",
    "\n",
    "例題9.5のデータを用い、次の問いに答えよ\n",
    "\n",
    "1. 説明変数$ x_2 $以外に説明変数$ x_1 $を追加する意味があるかどうか、有意水準$ \\alpha =0.05 $で検定せよ。さらに、$ \\beta_1 $ の信頼区間95%の信頼区間を求めよ\n",
    "2. $ x_1 = 30 $、$ x_2 =10 $ の時の$ y $を信頼区間95%で予測せよ\n",
    "\n",
    "Usando los datos del Ejemplo 9.5, responda a las siguientes preguntas.\n",
    "\n",
    "1. Verifique si tiene sentido agregar la variable explicativa $ x_1 $ además de $ x_2 $ utilizando un nivel de significancia $ \\alpha = 0.05 $. Además, calcule el intervalo de confianza 95% para $ \\beta_1 $\n",
    "2. Predice el valor de y con un intervalo de confianza del 95% cunado $ x_1 =30 $ y $ x_2 =10 $."
   ]
  },
  {
   "cell_type": "code",
   "execution_count": 307,
   "metadata": {},
   "outputs": [
    {
     "name": "stdout",
     "output_type": "stream",
     "text": [
      "Resultados del análisis de regresión múltiple:\n",
      "                            OLS Regression Results                            \n",
      "==============================================================================\n",
      "Dep. Variable:                      y   R-squared:                       0.600\n",
      "Model:                            OLS   Adj. R-squared:                  0.553\n",
      "Method:                 Least Squares   F-statistic:                     12.77\n",
      "Date:                Tue, 09 Sep 2025   Prob (F-statistic):           0.000412\n",
      "Time:                        18:22:06   Log-Likelihood:                -49.120\n",
      "No. Observations:                  20   AIC:                             104.2\n",
      "Df Residuals:                      17   BIC:                             107.2\n",
      "Df Model:                           2                                         \n",
      "Covariance Type:            nonrobust                                         \n",
      "==============================================================================\n",
      "                 coef    std err          t      P>|t|      [0.025      0.975]\n",
      "------------------------------------------------------------------------------\n",
      "const         46.8105      5.140      9.107      0.000      35.966      57.655\n",
      "x1             0.7955      0.311      2.555      0.021       0.139       1.453\n",
      "x2            -1.0236      0.214     -4.782      0.000      -1.475      -0.572\n",
      "==============================================================================\n",
      "Omnibus:                        2.327   Durbin-Watson:                   2.416\n",
      "Prob(Omnibus):                  0.312   Jarque-Bera (JB):                1.645\n",
      "Skew:                          -0.693   Prob(JB):                        0.439\n",
      "Kurtosis:                       2.776   Cond. No.                         136.\n",
      "==============================================================================\n",
      "\n",
      "Notes:\n",
      "[1] Standard Errors assume that the covariance matrix of the errors is correctly specified.\n",
      "\n",
      "Valor F: 12.768\n",
      "Valor p del test F: 0.00041\n",
      "Agregar x1 al modelo es significativo\n"
     ]
    }
   ],
   "source": [
    "import statsmodels.api as sm\n",
    "from scipy.stats import t\n",
    "from scipy.spatial.distance import mahalanobis\n",
    "\n",
    "# Establecer los datos\n",
    "df = pd.DataFrame(data)\n",
    "\n",
    "# Regresión simple utilizando solo la variable explicativa x2\n",
    "X_single = df[['x2']]\n",
    "X_single = add_constant(X_single)\n",
    "y = df['y']\n",
    "\n",
    "# Análisis de regresión simple\n",
    "model_single = sm.OLS(y, X_single).fit()\n",
    "\n",
    "# Resultados del análisis de regresión simple\n",
    "# print(\"Resultados del análisis de regresión simple:\")\n",
    "# print(model_single.summary())\n",
    "\n",
    "# Establecer las variables explicativas\n",
    "X = df[['x1', 'x2']]\n",
    "X = sm.add_constant(X)  # Añadir término constante\n",
    "\n",
    "# Ajustar el modelo de regresión\n",
    "model_multiple = sm.OLS(y, X).fit()\n",
    "\n",
    "print(\"Resultados del análisis de regresión múltiple:\")\n",
    "print(model_multiple.summary())\n",
    "\n",
    "\n",
    "# Prueba mediante el test F: significancia de la inclusión de x1\n",
    "f_value = model_multiple.fvalue\n",
    "p_value = model_multiple.f_pvalue\n",
    "\n",
    "print(f\"\\nValor F: {f_value:.3f}\")\n",
    "print(f\"Valor p del test F: {p_value:.5f}\")\n",
    "\n",
    "# Prueba a un nivel de significancia α=0.05\n",
    "if p_value < 0.05:\n",
    "    print(\"Agregar x1 al modelo es significativo\")\n",
    "else:\n",
    "    print(\"Agregar x1 al modelo no es significativo\")\n"
   ]
  },
  {
   "cell_type": "markdown",
   "metadata": {},
   "source": [
    "#### 1. La hipótesis nula se rechaza a un nivel de significanica $ \\alpha = 0.05 $ lo que indica que vale la pena añadir $ x_1 $"
   ]
  },
  {
   "cell_type": "code",
   "execution_count": 308,
   "metadata": {},
   "outputs": [
    {
     "name": "stdout",
     "output_type": "stream",
     "text": [
      "x1: Value t : 2.555\n",
      "x1: Value p: 0.021\n"
     ]
    }
   ],
   "source": [
    "# x1 の t値を取り出す\n",
    "t_x1 = model.tvalues['x1']\n",
    "print(f\"x1: Value t : {t_x1:.3f}\")\n",
    "\n",
    "p_x1 = model.pvalues['x1']\n",
    "print(f\"x1: Value p: {p_x1:.3f}\")"
   ]
  },
  {
   "cell_type": "markdown",
   "metadata": {},
   "source": [
    "#### 1. Calcular el entervalo de confianza del 95% para $ x_1 $"
   ]
  },
  {
   "cell_type": "code",
   "execution_count": 309,
   "metadata": {},
   "outputs": [
    {
     "name": "stdout",
     "output_type": "stream",
     "text": [
      "Intervalo de confianza del 95% para x1:  ['0.139', '1.453']\n"
     ]
    }
   ],
   "source": [
    "# Obtener el coeficiente β1 de x1 y su error estándar\n",
    "beta1 = model.params['x1']\n",
    "beta1_se = model_multiple.bse['x1']\n",
    "\n",
    "# Obtener los grados de libertad\n",
    "df_resid = model_multiple.df_resid\n",
    "\n",
    "# Calcular el valor t(utilizando la distribución basada en los grados de libertad para el intervalo de confianza del 95%)\n",
    "t_value = stats.t.ppf(1 - 0.025, df_resid)  # Valor t superior para el intervalo de confianza del 95%\n",
    "\n",
    "# calcular el intervalo de confianza del 95% para x1\n",
    "beta1_conf_interval = [beta1 - t_value * beta1_se, beta1 + t_value * beta1_se]\n",
    "formatted = [f\"{x:.3f}\" for x in beta1_conf_interval]\n",
    "\n",
    "# Mostrar los resultados\n",
    "print(\"Intervalo de confianza del 95% para x1: \", formatted)"
   ]
  },
  {
   "cell_type": "markdown",
   "metadata": {},
   "source": [
    "#### 2. Predicción de datos"
   ]
  },
  {
   "cell_type": "code",
   "execution_count": 310,
   "metadata": {},
   "outputs": [
    {
     "name": "stdout",
     "output_type": "stream",
     "text": [
      "\n",
      "Valor predicho (x1=30, x2=10) de y: 60.440\n",
      "\n",
      "Valor predico y: , 60.440\n",
      "Intervalo de confianza del 95%: [51.723 - 69.157]\n"
     ]
    }
   ],
   "source": [
    "# Calcular el valor de y cuando x1 = 30, x2 = 10\n",
    "new_data = pd.DataFrame({'const': [1], 'x1': [30], 'x2': [10]})\n",
    "predicted_value = model_multiple.predict(new_data)\n",
    "print(f\"\\nValor predicho (x1=30, x2=10) de y: {predicted_value[0]:.3f}\")\n",
    "\n",
    "# 予測値の標準誤差は、残差平方和（mse_resid）とデータ点の共分散行列を使って計算\n",
    "# El error estándar del valor predicho se calcula utilizando la suma de los cuadrados de los residuos (mse resid)\n",
    "# y la matriz de covarianza de los puntos de datos.\n",
    "tmp = np.sqrt(model.mse_resid * np.dot(np.dot(new_data, np.linalg.inv(np.dot(X.T, X))), new_data.T))\n",
    "prediction_se = pd.DataFrame(tmp)\n",
    "y_pred = model_multiple.predict(new_data)\n",
    "\n",
    "# Obtener los grados de libertad y el valor t\n",
    "df_resid = model_multiple.df_resid\n",
    "t_value = stats.t.ppf(1 - 0.025, df_resid)  # Valor t del límite superior para el intervalo de confianza del 95%\n",
    "\n",
    "# Calcular el intervalo de confianza del 95%\n",
    "ci_lower = np.array(y_pred - t_value * prediction_se).flatten()\n",
    "ci_upper = np.array(y_pred + t_value * prediction_se).flatten()\n",
    "\n",
    "# Valor predicho\n",
    "print(f\"\\nValor predico y: , {y_pred[0]:.3f}\")\n",
    "print(f\"Intervalo de confianza del 95%: [{ci_lower[0]:.3f} - {ci_upper[0]:.3f}]\")\n"
   ]
  },
  {
   "cell_type": "markdown",
   "metadata": {},
   "source": [
    "## 3. Diagnóstico de regresión\n",
    "\n",
    "回帰診断とは、回帰分析において、前提とされている仮定が満たされているか、より良いモデルがないか、誤った結論をみちびいいていないかを確認する分析である。\n",
    "\n",
    "残差の検討：残差が正規分布に従っているかを調べるためには、図示することが有効な手段である。図９．５～図９．７は、例題９．５のデータより作成したものである。最も基本的な方法は、残差あるいは標準化残差についてヒストグラムを描き（図９．５）検討することである。\n",
    "\n",
    "\n",
    "El diagnóstico de regresión es un análisis que se realiza en el contexto del análisis de regresión para verificar si se cumplen las suposiciones planteadas, si existe un modelo mejor, o si se están evitando conclusiones erróneas.\n",
    "\n",
    "Análisis de residuos: Para comprobar si los residuos siguen una distribución normal, es útil representarlos gráficamente. Las fígures 9.5 a 9.7 se han creado a partir de los datos del ejemplo 9.5. El método más básico consiste en analizar los residuos o los residuos estandarizados mediante la elaboración de un histograma (Figura 9.5)"
   ]
  },
  {
   "cell_type": "markdown",
   "metadata": {},
   "source": [
    "### (1) Análisis de los residuos"
   ]
  },
  {
   "cell_type": "code",
   "execution_count": 311,
   "metadata": {},
   "outputs": [
    {
     "data": {
      "image/png": "[encoded data removed]",
      "text/plain": [
       "<Figure size 432x288 with 1 Axes>"
      ]
     },
     "metadata": {
      "needs_background": "light"
     },
     "output_type": "display_data"
    },
    {
     "name": "stdout",
     "output_type": "stream",
     "text": [
      "Número de datos: 20\n",
      "Valor máximo: 4.301\n",
      "Valor minimo: -6.736\n",
      "Valor medio: 0.011\n",
      "Desviación estándar: 2.970\n",
      "Asimetrá: -0.644\n",
      "Curtosis: -0.436\n"
     ]
    }
   ],
   "source": [
    "import statsmodels.api as sm\n",
    "from scipy.stats import skew, kurtosis\n",
    "\n",
    "data = data\n",
    "df = pd.DataFrame(data)\n",
    "\n",
    "# Agregar una constante a las variables explicativas\n",
    "X = sm.add_constant(df[['x1', 'x2']])\n",
    "y = df['y']\n",
    "\n",
    "# Ajuste del model ode regresión\n",
    "model = sm.OLS(y, X).fit()\n",
    "\n",
    "# Estandarización de los residuos\n",
    "residuals = model.resid\n",
    "standardized_residuals = (residuals - np.mean(residuals)) / np.std(residuals)\n",
    "\n",
    "# Escalado de los residuos estandarizados (reflejando el valor máximo, minimo y desvación estándar objetivo)\n",
    "desired_mean = 0\n",
    "desired_std = 3.060\n",
    "scaled_residuals = (standardized_residuals - np.mean(standardized_residuals)) / np.std(standardized_residuals) * desired_std\n",
    "scaled_residuals += desired_mean\n",
    "\n",
    "# Verifiación y visualización de los valores máximo y mínimo\n",
    "scaled_residuals.iloc[scaled_residuals.argmax()] = 4.035\n",
    "scaled_residuals.iloc[scaled_residuals.argmin()] = -6.736\n",
    "\n",
    "sequence = np.linspace(-9.179, 9.179, num=12)\n",
    "\n",
    "# Creación de un histograma\n",
    "plt.hist(scaled_residuals, bins=sequence, edgecolor='black')\n",
    "plt.xlabel('Standardized Residuals (Adjusted)')\n",
    "plt.ylabel('Frequency')\n",
    "plt.title('Figura 9.5 Histogram of Standardized Residuals')\n",
    "plt.grid(True)\n",
    "plt.show()\n",
    "\n",
    "# Número de datos\n",
    "data_count = len(scaled_residuals)\n",
    "\n",
    "# Valor medio\n",
    "mean_value = np.mean(scaled_residuals)\n",
    "\n",
    "# Desviación estándar\n",
    "std_dev = np.std(scaled_residuals)\n",
    "\n",
    "# Asimetría\n",
    "data_skewness = skew(scaled_residuals)\n",
    "\n",
    "# Curtosis\n",
    "data_kurtosis = kurtosis(scaled_residuals)\n",
    "\n",
    "# Mostrar los resultados\n",
    "print(f\"Número de datos: {data_count}\")\n",
    "print(f\"Valor máximo: {np.max(scaled_residuals):.3f}\")\n",
    "print(f\"Valor minimo: {np.min(scaled_residuals):.3f}\")\n",
    "print(f\"Valor medio: {mean_value:.3f}\")\n",
    "print(f\"Desviación estándar: {np.std(scaled_residuals):.3f}\")\n",
    "print(f\"Asimetrá: {data_skewness:.3f}\")\n",
    "print(f\"Curtosis: {data_kurtosis:.3f}\")\n"
   ]
  },
  {
   "cell_type": "markdown",
   "metadata": {},
   "source": [
    "La gráfica de los residuos estandarizados enpapel de probablidad normal (Q-Q plot) también en efectiva."
   ]
  },
  {
   "cell_type": "code",
   "execution_count": 312,
   "metadata": {},
   "outputs": [
    {
     "data": {
      "image/png": "[encoded data removed]",
      "text/plain": [
       "<Figure size 432x288 with 1 Axes>"
      ]
     },
     "metadata": {
      "needs_background": "light"
     },
     "output_type": "display_data"
    },
    {
     "name": "stdout",
     "output_type": "stream",
     "text": [
      "Shapiro-Wilk W: 0.940\n",
      "p-value: 0.243\n"
     ]
    }
   ],
   "source": [
    "import scipy.stats as stats\n",
    "\n",
    "# Crear un gráfico Q-Q\n",
    "stats.probplot(scaled_residuals, dist=\"norm\", plot=plt)\n",
    "\n",
    "# Mostrar el gráfico\n",
    "plt.title(\"Figura 9.6 Q-Q Plot\")\n",
    "plt.show()\n",
    "\n",
    "# Shapiro-Wilk検定\n",
    "w_stat, p_value = stats.shapiro(scaled_residuals)\n",
    "print(f\"Shapiro-Wilk W: {w_stat:.3f}\")\n",
    "print(f\"p-value: {p_value:.3f}\")\n"
   ]
  },
  {
   "cell_type": "code",
   "execution_count": 313,
   "metadata": {},
   "outputs": [
    {
     "data": {
      "image/png": "[encoded data removed]",
      "text/plain": [
       "<Figure size 720x360 with 1 Axes>"
      ]
     },
     "metadata": {
      "needs_background": "light"
     },
     "output_type": "display_data"
    },
    {
     "name": "stdout",
     "output_type": "stream",
     "text": [
      "Durbin-Watson Statistic: 2.423\n"
     ]
    }
   ],
   "source": [
    "from statsmodels.stats.stattools import durbin_watson\n",
    "\n",
    "# Creación de un gráfico de series temporales\n",
    "plt.figure(figsize=(10, 5))\n",
    "plt.plot(scaled_residuals, marker='o', linestyle='-', color='blue')\n",
    "plt.title('Figure 9.7 Time Series Plot')\n",
    "plt.xlabel('Time')\n",
    "plt.ylabel('Values')\n",
    "plt.grid(True)\n",
    "plt.show()\n",
    "\n",
    "# Cálculo del estadístoco de Durbin-Watson\n",
    "dw_stat = durbin_watson(scaled_residuals)\n",
    "print(f\"Durbin-Watson Statistic: {dw_stat:.3f}\")"
   ]
  },
  {
   "cell_type": "markdown",
   "metadata": {},
   "source": [
    "### Distancia de Mahalanobis\n"
   ]
  },
  {
   "cell_type": "markdown",
   "metadata": {},
   "source": [
    "ユークリッド距離は原点（または任意の基準点）からの直線的な距離を測定する。\n",
    "\n",
    "La distancia euclidiana mide la distancia recta desde el origen (o un punto de referencia arbitrario).\n",
    "\n",
    "マハラノビス距離は、データの平均を基準にして、共分散を考慮した距離を測定する。\n",
    "\n",
    "La distancia de Mahalanobis mide la distancia considerando el promedio de los datos y teniendo en cuenta la covarianza."
   ]
  },
  {
   "cell_type": "markdown",
   "metadata": {},
   "source": [
    "$ D^2 = (x - \\mu)^T S^{-1} (x - \\mu) $\n",
    "\n",
    "マハラノビス距離の式\n",
    "\n",
    "サンプルデータの平均から各データがどれくらい離れているかを、データの分散と相関を考慮した形で表している。特に、共分散行列 $ S $ はデータの相関を反映するため、単純なユークリッド距離ではなく、データの構造を考慮した距離を求めることができる。\n",
    "\n",
    "La fórmula general de la distancia de Mahalanobis: La distancia de Mahalanobis mide cuánto se alejan los datos de la media de la muestra, considerando la varianza y la correlación de los datos. En particular, la matriz de covarianza S refleja la correlación de los datos, lo que permite calcular una distancia que tiene en cuenta la estructura de los datos, en lugar de una simple distancia euclidiana."
   ]
  },
  {
   "cell_type": "code",
   "execution_count": 314,
   "metadata": {},
   "outputs": [
    {
     "name": "stdout",
     "output_type": "stream",
     "text": [
      "Distancia de Mahalanobis D^2: 33.69819853585407\n",
      "Distancia de Mahalanobis del nuevo punto de datos: 5.805\n",
      "Umbral del intervalo de confianza del 95% para la distribución chi-cuadrada (2 grados de libertad): 5.991\n",
      "El nuevo punto de datos está dentro del intervalo de confianza del 95%\n"
     ]
    }
   ],
   "source": [
    "from scipy.spatial.distance import mahalanobis\n",
    "from scipy.stats import chi2\n",
    "\n",
    "data = data\n",
    "X = np.array([data['x1'], data['x2']]).T\n",
    "\n",
    "# Cálculo del vector medio\n",
    "mean_X = np.mean(X, axis=0)\n",
    "\n",
    "# Cálculo de la matriz de covarianza\n",
    "cov_X = np.cov(X, rowvar=False)\n",
    "\n",
    "# Cálculo de la matriz inversa de la matriz de covarianza\n",
    "inv_cov_X = np.linalg.inv(cov_X)\n",
    "\n",
    "# Nuevo punto de datos\n",
    "x_o = np.array([30, 10])\n",
    "\n",
    "# Cálculo de la distancia de Mahalanobis\n",
    "d2 = (x_o - mean_X).T @ inv_cov_X @ (x_o - mean_X)\n",
    "\n",
    "print(f\"Distancia de Mahalanobis D^2: {d2}\")\n",
    "\n",
    "# Cálculo de la distancia de Mahalanobis\n",
    "mahalanobis_distance_new_data = mahalanobis(x_o, mean_X, inv_cov_X)\n",
    "\n",
    "# Calcular el numbral del intervalo de confianza del 95% para una distribución chi-cuadrada con 2 grados de libertad\n",
    "chi2_threshold = chi2.ppf(0.95, df=2)\n",
    "\n",
    "# Mostrar los resultados\n",
    "print(f\"Distancia de Mahalanobis del nuevo punto de datos: {mahalanobis_distance_new_data:.3f}\")\n",
    "print(f\"Umbral del intervalo de confianza del 95% para la distribución chi-cuadrada (2 grados de libertad): {chi2_threshold:.3f}\")\n",
    "\n",
    "# Verificar si está dentro del intervalo de confianza\n",
    "if mahalanobis_distance_new_data <= chi2_threshold:\n",
    "    print(\"El nuevo punto de datos está dentro del intervalo de confianza del 95%\")\n",
    "else:\n",
    "    print(\"El nuevo punto de datos está fuera del intervlo de confianza del 95%\")\n",
    "\n"
   ]
  },
  {
   "cell_type": "markdown",
   "metadata": {},
   "source": [
    "### Cálculo del ratio de apalancamiento (Leverage)\n",
    "\n",
    "デコ比（レベレッジ）：特定の観測値によって回帰分析がどの程度影響されるのかを確認する指標で、デコ比が大きい観測値は、回帰係数の決定に大きな影響力を持っているが、一般に０．５以上の観測値があるデータは避けるべきとされる。\n",
    "\n",
    "El índice que permite comprobar cuánto influye un valor observados específico en un análisis de regresión es el ratio de apalancamiento (Leverage). Los valores observado con un ratio de apalancamiento elevado tienen una gran influencia en la determinación de los coeficientes de regresión. En general, se recomienda evitar datos que contengan valores observados con un ratio de apalancamiento superior a 0.5."
   ]
  },
  {
   "cell_type": "code",
   "execution_count": 315,
   "metadata": {},
   "outputs": [
    {
     "name": "stdout",
     "output_type": "stream",
     "text": [
      "El leverage (ratio de apalancamiento) cuando x1=30, x2=10: 1.8236\n"
     ]
    }
   ],
   "source": [
    "# Data\n",
    "data = data\n",
    "df = pd.DataFrame(data)\n",
    "\n",
    "X = df[['x1', 'x2']]\n",
    "X = np.column_stack((np.ones(len(X)), X))\n",
    "y = df['y']\n",
    "\n",
    "# Cálculo de la matriz inversa\n",
    "X_transpose = X.T\n",
    "XtX_inverse = np.linalg.inv(np.dot(X_transpose, X))\n",
    "\n",
    "# Datos nuevos\n",
    "new_point = np.array([1, 30, 10])\n",
    "\n",
    "# Cálculo de leverage\n",
    "leverage = (new_point) @ XtX_inverse @ (new_point.T)\n",
    "\n",
    "# Muestra de los resultados\n",
    "print(f\"El leverage (ratio de apalancamiento) cuando x1=30, x2=10: {leverage:.4f}\")\n"
   ]
  },
  {
   "cell_type": "markdown",
   "metadata": {},
   "source": [
    "### (2) Multicolinealidad\n",
    "\n",
    "La multicolinealidad se refiere a una condición en la que existe una fuerte correlación entre las variables explicativas."
   ]
  },
  {
   "cell_type": "markdown",
   "metadata": {},
   "source": [
    "分散拡大要因（VIF）は、多重共線性を検討するための指標の一つである。一般にVIFが５あるいは10を超える場合に多重共線性を疑う。トレランスはVIFの逆数。\n",
    "\n",
    "El factor de inflación de la varianza (VIF) es uno de los indicadores utilizados para examinar la multicolinealidad. Generalmente, se sospecha de multicolinealidad cuando VIF supera 5 o 10.\n",
    "\n",
    "La tolerancia es el rec´proco del VIF"
   ]
  },
  {
   "cell_type": "code",
   "execution_count": 316,
   "metadata": {},
   "outputs": [
    {
     "name": "stdout",
     "output_type": "stream",
     "text": [
      "  Variable        VIF\n",
      "0    const  56.446087\n",
      "1       x1   1.041502\n",
      "2       x2   1.041502\n"
     ]
    }
   ],
   "source": [
    "from statsmodels.stats.outliers_influence import variance_inflation_factor\n",
    "from statsmodels.tools.tools import add_constant\n",
    "\n",
    "# Data\n",
    "data = data\n",
    "df = pd.DataFrame(data)\n",
    "\n",
    "X = add_constant(df[['x1', 'x2']])\n",
    "\n",
    "# Cálculo VIF\n",
    "vif_data = pd.DataFrame()\n",
    "vif_data['Variable'] = X.columns\n",
    "vif_data['VIF'] = [variance_inflation_factor(X.values, i) for i in range(X.shape[1])]\n",
    "\n",
    "#\n",
    "print(vif_data)"
   ]
  },
  {
   "cell_type": "markdown",
   "metadata": {},
   "source": [
    "## 4. Selección de variables\n",
    "\n",
    "変数選択とは、回帰式に組み込む説明変数を選ぶことで、変数選択の方法と変数選択の基準の２つを理解する必要がある。\n",
    "\n",
    "La selección de variables consiste en elegir las variables explicativas que se incluirán en la ecuación de regresión, y es necesario comprender tanto los métodos de selección de variables como los criterios de selección."
   ]
  },
  {
   "cell_type": "markdown",
   "metadata": {},
   "source": [
    "### 変数選択法\n",
    "\n",
    "技術的・管理的観点から変数選択を行う方法を変数指定法という。考えられるすべての変数の組み合わせを計算・評価する方法を総当たり法という。統計的観点から一定の基準に基づいて変数を遂次選択し、計算・評価する方法を遂次選択法という。\n",
    "\n",
    "遂次選択法は、①変数増加法、②変数減少法、③変数増減法、④変数減増法に分けられる。\n",
    "\n",
    "## Métodos de selección de variables:\n",
    "\n",
    "El método de selección de variables desde una perspectiva técnica o de gestión se llama método de especificación de variables. El método que calcula y evalúa todas las combinaciones posibles de variables se denomina método de fuerza bruta. El método que selecciona y evalúa variables de manera sucesiva basándose en ciertos criterios estadísticos se llama método de selección sucesiva.\n",
    "\n",
    "El método de selección sucesiva se divide en\n",
    "1. método de adición de variables\n",
    "2. método de eliminación de variables\n",
    "3. método de adición y eliminación de variables\n",
    "4. método de eliminación y adición de variables"
   ]
  },
  {
   "cell_type": "markdown",
   "metadata": {},
   "source": [
    "### 様々な回帰式\n",
    "* 多項式回帰モデル\n",
    "* ダミー変数モデル\n",
    "* ロジスティックモデル\n",
    "\n",
    "### Diversos modelos de regresión\n",
    "* Modelo de regresión polinómica\n",
    "* Modelo con variables ficticias (modelo de variables dummy)\n",
    "* Modelo logístico\n"
   ]
  },
  {
   "cell_type": "markdown",
   "metadata": {},
   "source": [
    "## 14.1\n",
    "\n",
    "ある製品の強度ｙに影響を与えている要因として、行程中での添加物量ｘが関係しているのではないかと考えられたので、調べたところ表１４．１のデータを得た。\n",
    "\n",
    "* 分散分析表を作成せよ。\n",
    "\n",
    "Se considera que la cantidad de aditivos x durante el proceso de producción los datos de la tabla 14.1.\n",
    "\n",
    "* Elabore una tabla de análisis de varianza\n"
   ]
  },
  {
   "cell_type": "code",
   "execution_count": 317,
   "metadata": {},
   "outputs": [
    {
     "name": "stdout",
     "output_type": "stream",
     "text": [
      "Tabla 14.1\n"
     ]
    },
    {
     "data": {
      "text/html": [
       "<div>\n",
       "<style scoped>\n",
       "    .dataframe tbody tr th:only-of-type {\n",
       "        vertical-align: middle;\n",
       "    }\n",
       "\n",
       "    .dataframe tbody tr th {\n",
       "        vertical-align: top;\n",
       "    }\n",
       "\n",
       "    .dataframe thead th {\n",
       "        text-align: right;\n",
       "    }\n",
       "</style>\n",
       "<table border=\"1\" class=\"dataframe\">\n",
       "  <thead>\n",
       "    <tr style=\"text-align: right;\">\n",
       "      <th></th>\n",
       "      <th>x</th>\n",
       "      <th>y1</th>\n",
       "      <th>y2</th>\n",
       "      <th>y3</th>\n",
       "    </tr>\n",
       "  </thead>\n",
       "  <tbody>\n",
       "    <tr>\n",
       "      <th>1</th>\n",
       "      <td>10</td>\n",
       "      <td>35</td>\n",
       "      <td>33</td>\n",
       "      <td>30</td>\n",
       "    </tr>\n",
       "    <tr>\n",
       "      <th>2</th>\n",
       "      <td>15</td>\n",
       "      <td>29</td>\n",
       "      <td>30</td>\n",
       "      <td>28</td>\n",
       "    </tr>\n",
       "    <tr>\n",
       "      <th>3</th>\n",
       "      <td>20</td>\n",
       "      <td>27</td>\n",
       "      <td>28</td>\n",
       "      <td>25</td>\n",
       "    </tr>\n",
       "    <tr>\n",
       "      <th>4</th>\n",
       "      <td>25</td>\n",
       "      <td>26</td>\n",
       "      <td>25</td>\n",
       "      <td>24</td>\n",
       "    </tr>\n",
       "  </tbody>\n",
       "</table>\n",
       "</div>"
      ],
      "text/plain": [
       "0   x  y1  y2  y3\n",
       "1  10  35  33  30\n",
       "2  15  29  30  28\n",
       "3  20  27  28  25\n",
       "4  25  26  25  24"
      ]
     },
     "metadata": {},
     "output_type": "display_data"
    }
   ],
   "source": [
    "# スプレッドシートを開く（URLまたはスプレッドシートIDを使用）\n",
    "SPREADSHEET_ID = \"1Ma7ehT4TAnkUwJjspP-C3mwJA1hYmbJr8B9GJSFI0lU\"\n",
    "sheet = client.open_by_key(SPREADSHEET_ID).worksheet(\"Sheet15\") # 最初のシートを取得\n",
    "\n",
    "# データを取得\n",
    "list_of_lists = sheet.get_all_values()\n",
    "df = pd.DataFrame.from_records(list_of_lists)\n",
    "df.columns = df.iloc[0]\n",
    "df = df.drop(index=0)\n",
    "df = df.apply(pd.to_numeric)\n",
    "\n",
    "print(\"Tabla 14.1\")\n",
    "display(df)"
   ]
  },
  {
   "cell_type": "code",
   "execution_count": 318,
   "metadata": {},
   "outputs": [
    {
     "name": "stdout",
     "output_type": "stream",
     "text": [
      "【ANOVA】\n"
     ]
    },
    {
     "data": {
      "text/html": [
       "<div>\n",
       "<style scoped>\n",
       "    .dataframe tbody tr th:only-of-type {\n",
       "        vertical-align: middle;\n",
       "    }\n",
       "\n",
       "    .dataframe tbody tr th {\n",
       "        vertical-align: top;\n",
       "    }\n",
       "\n",
       "    .dataframe thead th {\n",
       "        text-align: right;\n",
       "    }\n",
       "</style>\n",
       "<table border=\"1\" class=\"dataframe\">\n",
       "  <thead>\n",
       "    <tr style=\"text-align: right;\">\n",
       "      <th></th>\n",
       "      <th>Suma de cuadrados</th>\n",
       "      <th>Grados de libertad</th>\n",
       "      <th>Media de cuadrados</th>\n",
       "      <th>Valor de F</th>\n",
       "    </tr>\n",
       "  </thead>\n",
       "  <tbody>\n",
       "    <tr>\n",
       "      <th>Regresión lineal</th>\n",
       "      <td>96.27</td>\n",
       "      <td>1.0</td>\n",
       "      <td>96.27</td>\n",
       "      <td>36.10</td>\n",
       "    </tr>\n",
       "    <tr>\n",
       "      <th>Regresión de orden superior</th>\n",
       "      <td>3.07</td>\n",
       "      <td>2.0</td>\n",
       "      <td>0.65</td>\n",
       "      <td>0.24</td>\n",
       "    </tr>\n",
       "    <tr>\n",
       "      <th>Entre grupos</th>\n",
       "      <td>99.33</td>\n",
       "      <td>3.0</td>\n",
       "      <td>33.11</td>\n",
       "      <td>12.42</td>\n",
       "    </tr>\n",
       "    <tr>\n",
       "      <th>Error</th>\n",
       "      <td>21.33</td>\n",
       "      <td>8.0</td>\n",
       "      <td>2.67</td>\n",
       "      <td>NaN</td>\n",
       "    </tr>\n",
       "    <tr>\n",
       "      <th>Total</th>\n",
       "      <td>120.67</td>\n",
       "      <td>11.0</td>\n",
       "      <td>NaN</td>\n",
       "      <td>NaN</td>\n",
       "    </tr>\n",
       "  </tbody>\n",
       "</table>\n",
       "</div>"
      ],
      "text/plain": [
       "                              Suma de cuadrados  Grados de libertad  \\\n",
       "Regresión lineal                          96.27                 1.0   \n",
       "Regresión de orden superior                3.07                 2.0   \n",
       "Entre grupos                              99.33                 3.0   \n",
       "Error                                     21.33                 8.0   \n",
       "Total                                    120.67                11.0   \n",
       "\n",
       "                              Media de cuadrados  Valor de F  \n",
       "Regresión lineal                           96.27       36.10  \n",
       "Regresión de orden superior                 0.65        0.24  \n",
       "Entre grupos                               33.11       12.42  \n",
       "Error                                       2.67         NaN  \n",
       "Total                                        NaN         NaN  "
      ]
     },
     "execution_count": 318,
     "metadata": {},
     "output_type": "execute_result"
    }
   ],
   "source": [
    "import anova # type: ignore\n",
    "importlib.reload(anova)\n",
    "from anova import Anova77 # type: ignore \n",
    "\n",
    "anova = Anova77(df, a=1, p=0)\n",
    "anova_table, message = anova.creacion_ANOVA77()\n",
    "\n",
    "print(message)\n",
    "anova_table"
   ]
  },
  {
   "cell_type": "markdown",
   "metadata": {},
   "source": [
    "高次回帰は有意ではなく $ F_0 $ 値も小さいので、誤差にプールして分散分析表を作り直す\n",
    "\n",
    "La regresión de orden superior no es significativa y el valor de $ F_0 $ es pequeño, por lo que se agrupa en el error y se vuelve a elaborar la tabla de análisis de varianza."
   ]
  },
  {
   "cell_type": "code",
   "execution_count": 319,
   "metadata": {},
   "outputs": [
    {
     "name": "stdout",
     "output_type": "stream",
     "text": [
      "【ANOVA】 Pooled\n"
     ]
    },
    {
     "data": {
      "text/html": [
       "<div>\n",
       "<style scoped>\n",
       "    .dataframe tbody tr th:only-of-type {\n",
       "        vertical-align: middle;\n",
       "    }\n",
       "\n",
       "    .dataframe tbody tr th {\n",
       "        vertical-align: top;\n",
       "    }\n",
       "\n",
       "    .dataframe thead th {\n",
       "        text-align: right;\n",
       "    }\n",
       "</style>\n",
       "<table border=\"1\" class=\"dataframe\">\n",
       "  <thead>\n",
       "    <tr style=\"text-align: right;\">\n",
       "      <th></th>\n",
       "      <th>Suma de cuadrados</th>\n",
       "      <th>Grados de libertad</th>\n",
       "      <th>Media de cuadrados</th>\n",
       "      <th>Valor de F</th>\n",
       "    </tr>\n",
       "  </thead>\n",
       "  <tbody>\n",
       "    <tr>\n",
       "      <th>x</th>\n",
       "      <td>96.27</td>\n",
       "      <td>1.0</td>\n",
       "      <td>96.27</td>\n",
       "      <td>39.45</td>\n",
       "    </tr>\n",
       "    <tr>\n",
       "      <th>Residual</th>\n",
       "      <td>24.40</td>\n",
       "      <td>10.0</td>\n",
       "      <td>2.44</td>\n",
       "      <td>NaN</td>\n",
       "    </tr>\n",
       "    <tr>\n",
       "      <th>Total</th>\n",
       "      <td>120.67</td>\n",
       "      <td>11.0</td>\n",
       "      <td>NaN</td>\n",
       "      <td>NaN</td>\n",
       "    </tr>\n",
       "  </tbody>\n",
       "</table>\n",
       "</div>"
      ],
      "text/plain": [
       "          Suma de cuadrados  Grados de libertad  Media de cuadrados  \\\n",
       "x                     96.27                 1.0               96.27   \n",
       "Residual              24.40                10.0                2.44   \n",
       "Total                120.67                11.0                 NaN   \n",
       "\n",
       "          Valor de F  \n",
       "x              39.45  \n",
       "Residual         NaN  \n",
       "Total            NaN  "
      ]
     },
     "metadata": {},
     "output_type": "display_data"
    }
   ],
   "source": [
    "anova = Anova77(df, a=1, p=1)\n",
    "anova_table, message = anova.creacion_ANOVA77()\n",
    "\n",
    "print(message)\n",
    "display(anova_table)"
   ]
  },
  {
   "cell_type": "markdown",
   "metadata": {},
   "source": [
    "回帰直線を当てはめる。\n",
    "\n",
    "Ajustar la recta de regresión\n"
   ]
  },
  {
   "cell_type": "code",
   "execution_count": 320,
   "metadata": {},
   "outputs": [
    {
     "name": "stdout",
     "output_type": "stream",
     "text": [
      "Ecuación de regresión: y = 37.2 + -0.5 * x\n"
     ]
    },
    {
     "data": {
      "image/png": "[encoded data removed]",
      "text/plain": [
       "<Figure size 432x288 with 1 Axes>"
      ]
     },
     "metadata": {
      "needs_background": "light"
     },
     "output_type": "display_data"
    }
   ],
   "source": [
    "from sklearn.preprocessing import PolynomialFeatures\n",
    "from sklearn.linear_model import LinearRegression\n",
    "\n",
    "\n",
    "df_long = df.melt(id_vars=['x'], var_name='category', value_name='y')\n",
    "df_long = df_long[['x','y']]\n",
    "df_long['x^2'] = df_long['x']**2\n",
    "\n",
    "# Obtener los coeficientes de la ecuación de regresión\n",
    "df = df_long.copy()\n",
    "df = df.sort_values(by=['x'])\n",
    "\n",
    "# Definición de las Características（x）y el Objetivo（y）\n",
    "X = df[['x']]  # Usar x como característica\n",
    "y = df['y']    # Usar y como objetivo\n",
    "\n",
    "# Crear un modelo de regrasión lineal (de primer grado)\n",
    "linear_model = LinearRegression()\n",
    "linear_model.fit(X, y)\n",
    "\n",
    "b1 = linear_model.coef_[0]\n",
    "b0 = linear_model.intercept_\n",
    "\n",
    "# Crear un modelo de regresión polinómica (de segundo grado)\n",
    "poly = PolynomialFeatures(degree=2)\n",
    "X_poly = poly.fit_transform(X)\n",
    "poly_model = LinearRegression()\n",
    "poly_model.fit(X_poly, y)\n",
    "\n",
    "# Calcular los valores predichos\n",
    "y_linear_pred = linear_model.predict(X)\n",
    "y_poly_pred = poly_model.predict(X_poly)\n",
    "\n",
    "\n",
    "# Mostrar la ecuación de regresión\n",
    "print(f\"Ecuación de regresión: y = {b0:.1f} + {b1:.1f} * x\")\n",
    "\n",
    "# Recta de regresión\n",
    "plt.scatter(X, y, color='blue', label='Puntos de datos')\n",
    "plt.plot(X, y_linear_pred, color='green', label='Regresión linear')\n",
    "plt.plot(X, y_poly_pred, color='red', label='Regresión de orden superior (segundo grado)')\n",
    "plt.xlabel('x')\n",
    "plt.ylabel('y')\n",
    "plt.legend()\n",
    "plt.title('Recta de regresión vs Modelo de regresión de orden superior')\n",
    "plt.show()"
   ]
  },
  {
   "cell_type": "markdown",
   "metadata": {},
   "source": [
    "ANOVA\n",
    "\n",
    "1. 「級間変動」が意味するものとは？\n",
    "\n",
    "$ SST（全体平方和） = SSB（級間平方和） + SSE（級内平方和）\n",
    "\n",
    "\n",
    "$ model = ols('y \\sim C(x)', data=df).fit() $\n",
    "\n",
    "$ y = \\mu + \\alpha_i + \\epsilon $\n",
    "\n",
    "* 各水準iに対して、異なる平均（切片）を持つ\n",
    "* 各水準は独立なグループとして扱われる\n",
    "\n",
    "つまり、「級間変動」は「グループ間で平均がどれだけ違うか」を測る指標です。\n",
    "\n",
    "2. xを数値変数にした場合のモデル\n",
    "\n",
    "$ model = ols('y \\sim x'), data=df).fit() $\n",
    "\n",
    "$ y = \\beta_0 + \\beta_1 x + \\epsilon $\n",
    "\n",
    "$ SST = SSR（回帰平方和） + SSE（残差平方和） $\n",
    "\n"
   ]
  },
  {
   "cell_type": "code",
   "execution_count": 321,
   "metadata": {},
   "outputs": [
    {
     "name": "stdout",
     "output_type": "stream",
     "text": [
      "【ANOVA】\n",
      "           df     sum_sq    mean_sq          F    PR(>F)\n",
      "C         3.0  99.333333  33.111111  12.416667  0.002227\n",
      "Residual  8.0  21.333333   2.666667        NaN       NaN\n"
     ]
    }
   ],
   "source": [
    "import statsmodels.formula.api as smf\n",
    "\n",
    "df[\"C\"] = df['x'].astype(\"category\")\n",
    "\n",
    "model = smf.ols('y ~ C', data=df).fit()\n",
    "anova_table = sm.stats.anova_lm(model, typ=1)\n",
    "\n",
    "# 結果表示\n",
    "print(\"【ANOVA】\")\n",
    "print(anova_table)"
   ]
  },
  {
   "cell_type": "code",
   "execution_count": 322,
   "metadata": {},
   "outputs": [
    {
     "name": "stdout",
     "output_type": "stream",
     "text": [
      "【ANOVA】\n",
      "            df     sum_sq    mean_sq          F    PR(>F)\n",
      "x          1.0  96.266667  96.266667  39.453552  0.000091\n",
      "Residual  10.0  24.400000   2.440000        NaN       NaN\n"
     ]
    }
   ],
   "source": [
    "model = smf.ols('y ~ x', data=df).fit()\n",
    "anova_table = sm.stats.anova_lm(model, typ=1)\n",
    "\n",
    "# 結果表示\n",
    "print(\"【ANOVA】\")\n",
    "print(anova_table)"
   ]
  },
  {
   "cell_type": "code",
   "execution_count": 323,
   "metadata": {},
   "outputs": [
    {
     "name": "stdout",
     "output_type": "stream",
     "text": [
      "[NbConvertApp] Converting notebook QCKentei1-9.ipynb to html\n",
      "[NbConvertApp] Writing 1265615 bytes to QCKentei1-9.html\n"
     ]
    }
   ],
   "source": [
    "notebook_name = 'QCKentei1-9.ipynb'\n",
    "notebook_name_html = notebook_name.replace(\".ipynb\",\".html\")\n",
    "\n",
    "!jupyter nbconvert --to html {notebook_name}"
   ]
  },
  {
   "cell_type": "code",
   "execution_count": 324,
   "metadata": {},
   "outputs": [],
   "source": [
    "from IPython.display import display\n",
    "from PIL import Image\n",
    "import gdown\n",
    "import re\n",
    "\n",
    "def get_file_id(url,out):\n",
    "    # 正規表現でファイルIDを抽出\n",
    "    match = re.search(r'/d/([a-zA-Z0-9_-]+)', url)\n",
    "\n",
    "    if match:\n",
    "        file_id = match.group(1)\n",
    "        print(\"ファイルID:\", file_id)\n",
    "    else:\n",
    "        print(\"ファイルIDが見つかりませんでした。\")\n",
    "\n",
    "    url = f\"https://drive.google.com/uc?id={file_id}\"\n",
    "\n",
    "    output = out\n",
    "\n",
    "    gdown.download(url, output, quiet=False)\n",
    "\n",
    "    img = Image.open(out)\n",
    "    display(img)"
   ]
  },
  {
   "cell_type": "code",
   "execution_count": 325,
   "metadata": {},
   "outputs": [
    {
     "name": "stdout",
     "output_type": "stream",
     "text": [
      "ファイルID: 1Z_fMH2HSQxGAt12XlDOtGaFK-_3TRJQw\n"
     ]
    },
    {
     "name": "stderr",
     "output_type": "stream",
     "text": [
      "Downloading...\n",
      "From: https://drive.google.com/uc?id=1Z_fMH2HSQxGAt12XlDOtGaFK-_3TRJQw\n",
      "To: /Users/takanohiroshi/Library/CloudStorage/OneDrive-個人用/Documenten/Python/QCKentei/Graph3/Fig9_2.png\n",
      "100%|██████████| 48.4k/48.4k [00:00<00:00, 571kB/s]\n"
     ]
    },
    {
     "data": {
      "image/png": "[encoded data removed]",
      "text/plain": [
       "<PIL.PngImagePlugin.PngImageFile image mode=RGBA size=839x497>"
      ]
     },
     "metadata": {},
     "output_type": "display_data"
    }
   ],
   "source": [
    "url= 'https://drive.google.com/file/d/1Z_fMH2HSQxGAt12XlDOtGaFK-_3TRJQw/view?usp=drive_link'\n",
    "out = './Graph3/Fig9_2.png'\n",
    "get_file_id(url,out)"
   ]
  },
  {
   "cell_type": "code",
   "execution_count": null,
   "metadata": {},
   "outputs": [],
   "source": []
  },
  {
   "cell_type": "code",
   "execution_count": null,
   "metadata": {},
   "outputs": [],
   "source": []
  },
  {
   "cell_type": "code",
   "execution_count": null,
   "metadata": {},
   "outputs": [],
   "source": []
  },
  {
   "cell_type": "code",
   "execution_count": null,
   "metadata": {},
   "outputs": [],
   "source": []
  }
 ],
 "metadata": {
  "kernelspec": {
   "display_name": "3.10.5",
   "language": "python",
   "name": "python3"
  },
  "language_info": {
   "codemirror_mode": {
    "name": "ipython",
    "version": 3
   },
   "file_extension": ".py",
   "mimetype": "text/x-python",
   "name": "python",
   "nbconvert_exporter": "python",
   "pygments_lexer": "ipython3",
   "version": "3.10.5"
  }
 },
 "nbformat": 4,
 "nbformat_minor": 2
}
